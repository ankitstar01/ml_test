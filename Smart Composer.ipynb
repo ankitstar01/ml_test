{
  "nbformat": 4,
  "nbformat_minor": 0,
  "metadata": {
    "colab": {
      "name": "audio_cut.ipynb",
      "provenance": [],
      "include_colab_link": true
    },
    "kernelspec": {
      "name": "python3",
      "display_name": "Python 3"
    },
    "accelerator": "GPU"
  },
  "cells": [
    {
      "cell_type": "markdown",
      "metadata": {
        "id": "view-in-github",
        "colab_type": "text"
      },
      "source": [
        "<a href=\"https://colab.research.google.com/github/ankitstar01/ml_test/blob/master/Smart%20Composer.ipynb\" target=\"_parent\"><img src=\"https://colab.research.google.com/assets/colab-badge.svg\" alt=\"Open In Colab\"/></a>"
      ]
    },
    {
      "cell_type": "markdown",
      "metadata": {
        "id": "F0cMh4TX5f_Q",
        "colab_type": "text"
      },
      "source": [
        "# Smart Composer"
      ]
    },
    {
      "cell_type": "code",
      "metadata": {
        "id": "-tRL9hsF5mZp",
        "colab_type": "code",
        "colab": {
          "base_uri": "https://localhost:8080/",
          "height": 161
        },
        "outputId": "707dd55c-9142-48c6-a045-cf6b7fdccf2d"
      },
      "source": [
        "from google.colab import drive\n",
        "drive.mount('/content/drive')\n",
        "\n",
        "#importing os environment\n",
        "import os\n",
        "os.environ['KAGGLE_CONFIG_DIR'] = \"/content/Kaggle\"\n",
        "%cd Kaggle/"
      ],
      "execution_count": 3,
      "outputs": [
        {
          "output_type": "stream",
          "text": [
            "Go to this URL in a browser: https://accounts.google.com/o/oauth2/auth?client_id=947318989803-6bn6qk8qdgf4n4g3pfee6491hc0brc4i.apps.googleusercontent.com&redirect_uri=urn%3aietf%3awg%3aoauth%3a2.0%3aoob&scope=email%20https%3a%2f%2fwww.googleapis.com%2fauth%2fdocs.test%20https%3a%2f%2fwww.googleapis.com%2fauth%2fdrive%20https%3a%2f%2fwww.googleapis.com%2fauth%2fdrive.photos.readonly%20https%3a%2f%2fwww.googleapis.com%2fauth%2fpeopleapi.readonly&response_type=code\n",
            "\n",
            "Enter your authorization code:\n",
            "··········\n",
            "Mounted at /content/drive\n",
            "[Errno 2] No such file or directory: 'Kaggle/'\n",
            "/content\n"
          ],
          "name": "stdout"
        }
      ]
    },
    {
      "cell_type": "code",
      "metadata": {
        "id": "1LyudaVN6vfX",
        "colab_type": "code",
        "colab": {
          "base_uri": "https://localhost:8080/",
          "height": 265
        },
        "outputId": "4680f106-e806-4951-c55a-19b737ace82f"
      },
      "source": [
        "import shutil\n",
        "import requests\n",
        "\n",
        "url = 'http://downloads.cs.stanford.edu/nlp/data/glove.6B.zip'\n",
        "r = requests.get(url, stream=True)\n",
        "open('glove.zip', 'wb').write(r.content)\n",
        "\n",
        "\n",
        "!mkdir Kaggle\n",
        "shutil.copyfile(\"/content/drive/My Drive/Colab Notebooks/kaggle.json\",\"/content/Kaggle/kaggle.json\")\n",
        "#downloading the kaggle dataset\n",
        "!kaggle datasets download -d wcukierski/enron-email-dataset\n",
        "\n",
        "#unzipping the zip files\n",
        "!unzip \\*.zip"
      ],
      "execution_count": 4,
      "outputs": [
        {
          "output_type": "stream",
          "text": [
            "Warning: Your Kaggle API key is readable by other users on this system! To fix this, you can run 'chmod 600 /content/Kaggle/kaggle.json'\n",
            "Downloading enron-email-dataset.zip to /content\n",
            " 94% 337M/358M [00:08<00:00, 23.2MB/s]\n",
            "100% 358M/358M [00:08<00:00, 42.7MB/s]\n",
            "Archive:  glove.zip\n",
            "  inflating: glove.6B.50d.txt        \n",
            "  inflating: glove.6B.100d.txt       \n",
            "  inflating: glove.6B.200d.txt       \n",
            "  inflating: glove.6B.300d.txt       \n",
            "\n",
            "Archive:  enron-email-dataset.zip\n",
            "  inflating: emails.csv              \n",
            "\n",
            "2 archives were successfully processed.\n"
          ],
          "name": "stdout"
        }
      ]
    },
    {
      "cell_type": "code",
      "metadata": {
        "id": "Lhn9inHf65Ij",
        "colab_type": "code",
        "colab": {}
      },
      "source": [
        "import numpy as np \n",
        "import pandas as pd\n",
        "import matplotlib.pyplot as plt\n",
        "import email\n",
        "import re\n",
        "import shutil\n"
      ],
      "execution_count": 5,
      "outputs": []
    },
    {
      "cell_type": "code",
      "metadata": {
        "id": "fgvU11Ul7der",
        "colab_type": "code",
        "colab": {}
      },
      "source": [
        "# shutil.move(\"/content/gdrive/My Drive/Kaggle/emails.csv\",\"/content/emails.csv\")\n",
        "#reading the emails\n",
        "if not 'emails_df' in locals():\n",
        "    emails_df = pd.read_csv('/content/emails.csv')"
      ],
      "execution_count": 6,
      "outputs": []
    },
    {
      "cell_type": "code",
      "metadata": {
        "id": "icjtqU5M87hh",
        "colab_type": "code",
        "colab": {
          "base_uri": "https://localhost:8080/",
          "height": 215
        },
        "outputId": "803163bf-5a7b-427b-d255-12e308adfc49"
      },
      "source": [
        "#printing the matrix size and the top 5 rows of it\n",
        "print(emails_df.shape)\n",
        "emails_df.head()"
      ],
      "execution_count": 7,
      "outputs": [
        {
          "output_type": "stream",
          "text": [
            "(517401, 2)\n"
          ],
          "name": "stdout"
        },
        {
          "output_type": "execute_result",
          "data": {
            "text/html": [
              "<div>\n",
              "<style scoped>\n",
              "    .dataframe tbody tr th:only-of-type {\n",
              "        vertical-align: middle;\n",
              "    }\n",
              "\n",
              "    .dataframe tbody tr th {\n",
              "        vertical-align: top;\n",
              "    }\n",
              "\n",
              "    .dataframe thead th {\n",
              "        text-align: right;\n",
              "    }\n",
              "</style>\n",
              "<table border=\"1\" class=\"dataframe\">\n",
              "  <thead>\n",
              "    <tr style=\"text-align: right;\">\n",
              "      <th></th>\n",
              "      <th>file</th>\n",
              "      <th>message</th>\n",
              "    </tr>\n",
              "  </thead>\n",
              "  <tbody>\n",
              "    <tr>\n",
              "      <th>0</th>\n",
              "      <td>allen-p/_sent_mail/1.</td>\n",
              "      <td>Message-ID: &lt;18782981.1075855378110.JavaMail.e...</td>\n",
              "    </tr>\n",
              "    <tr>\n",
              "      <th>1</th>\n",
              "      <td>allen-p/_sent_mail/10.</td>\n",
              "      <td>Message-ID: &lt;15464986.1075855378456.JavaMail.e...</td>\n",
              "    </tr>\n",
              "    <tr>\n",
              "      <th>2</th>\n",
              "      <td>allen-p/_sent_mail/100.</td>\n",
              "      <td>Message-ID: &lt;24216240.1075855687451.JavaMail.e...</td>\n",
              "    </tr>\n",
              "    <tr>\n",
              "      <th>3</th>\n",
              "      <td>allen-p/_sent_mail/1000.</td>\n",
              "      <td>Message-ID: &lt;13505866.1075863688222.JavaMail.e...</td>\n",
              "    </tr>\n",
              "    <tr>\n",
              "      <th>4</th>\n",
              "      <td>allen-p/_sent_mail/1001.</td>\n",
              "      <td>Message-ID: &lt;30922949.1075863688243.JavaMail.e...</td>\n",
              "    </tr>\n",
              "  </tbody>\n",
              "</table>\n",
              "</div>"
            ],
            "text/plain": [
              "                       file                                            message\n",
              "0     allen-p/_sent_mail/1.  Message-ID: <18782981.1075855378110.JavaMail.e...\n",
              "1    allen-p/_sent_mail/10.  Message-ID: <15464986.1075855378456.JavaMail.e...\n",
              "2   allen-p/_sent_mail/100.  Message-ID: <24216240.1075855687451.JavaMail.e...\n",
              "3  allen-p/_sent_mail/1000.  Message-ID: <13505866.1075863688222.JavaMail.e...\n",
              "4  allen-p/_sent_mail/1001.  Message-ID: <30922949.1075863688243.JavaMail.e..."
            ]
          },
          "metadata": {
            "tags": []
          },
          "execution_count": 7
        }
      ]
    },
    {
      "cell_type": "code",
      "metadata": {
        "id": "0980267k8-eV",
        "colab_type": "code",
        "colab": {}
      },
      "source": [
        "# Convert to message objects from the message strings\n",
        "messages = list(map(email.message_from_string, emails_df['message']))"
      ],
      "execution_count": 8,
      "outputs": []
    },
    {
      "cell_type": "code",
      "metadata": {
        "id": "B_ZOwdON9C7A",
        "colab_type": "code",
        "colab": {
          "base_uri": "https://localhost:8080/",
          "height": 336
        },
        "outputId": "05222b70-2bfb-41bc-8809-0b3cdfd99940"
      },
      "source": [
        "def get_text_from_email(msg):\n",
        "    parts = []\n",
        "    for part in msg.walk():\n",
        "        if part.get_content_type() == 'text/plain':\n",
        "            parts.append( part.get_payload() )\n",
        "    text = ''.join(parts)\n",
        "    return text\n",
        "\n",
        "emails = pd.DataFrame()\n",
        "\n",
        "# Parse content from emails\n",
        "emails['content'] = list(map(get_text_from_email, messages))\n",
        "print(messages[2])\n",
        "print(emails['content'][2])"
      ],
      "execution_count": 9,
      "outputs": [
        {
          "output_type": "stream",
          "text": [
            "Message-ID: <24216240.1075855687451.JavaMail.evans@thyme>\n",
            "Date: Wed, 18 Oct 2000 03:00:00 -0700 (PDT)\n",
            "From: phillip.allen@enron.com\n",
            "To: leah.arsdall@enron.com\n",
            "Subject: Re: test\n",
            "Mime-Version: 1.0\n",
            "Content-Type: text/plain; charset=us-ascii\n",
            "Content-Transfer-Encoding: 7bit\n",
            "X-From: Phillip K Allen\n",
            "X-To: Leah Van Arsdall\n",
            "X-cc: \n",
            "X-bcc: \n",
            "X-Folder: \\Phillip_Allen_Dec2000\\Notes Folders\\'sent mail\n",
            "X-Origin: Allen-P\n",
            "X-FileName: pallen.nsf\n",
            "\n",
            "test successful.  way to go!!!\n",
            "test successful.  way to go!!!\n"
          ],
          "name": "stdout"
        }
      ]
    },
    {
      "cell_type": "code",
      "metadata": {
        "id": "rqc_P5lu9DJ2",
        "colab_type": "code",
        "colab": {
          "base_uri": "https://localhost:8080/",
          "height": 34
        },
        "outputId": "b449d5ed-3368-4fa0-e525-55a1e5de22b9"
      },
      "source": [
        "import gc\n",
        "\n",
        "# Remove variables from memory\n",
        "del messages\n",
        "del emails_df\n",
        "gc.collect()"
      ],
      "execution_count": 10,
      "outputs": [
        {
          "output_type": "execute_result",
          "data": {
            "text/plain": [
              "0"
            ]
          },
          "metadata": {
            "tags": []
          },
          "execution_count": 10
        }
      ]
    },
    {
      "cell_type": "code",
      "metadata": {
        "id": "FBIuyeHJ9OgM",
        "colab_type": "code",
        "colab": {}
      },
      "source": [
        "def normalize_text(text):\n",
        "    text = text.lower()\n",
        "  \n",
        "  # creating a space between a word and the punctuation following it to separate words\n",
        "  # and compact repetition of punctuation\n",
        "  # eg: \"he is a boy..\" => \"he is a boy .\"\n",
        "    text = re.sub(r'([.,!?]+)', r\" \\1 \", text)\n",
        "\n",
        "  # replacing everything with space except (a-z, A-Z, \".\", \"?\", \"!\", \",\", \"'\")\n",
        "    text = re.sub(r\"[^a-zA-Z?.!,']+\", \" \", text)\n",
        "\n",
        "  # Compact spaces\n",
        "    text = re.sub(r'[\" \"]+', \" \", text)\n",
        "\n",
        "  # Remove forwarded messages\n",
        "    text = text.split('forwarded by')[0]\n",
        "\n",
        "    text = text.strip()\n",
        "\n",
        "    return text\n",
        "\n",
        "emails['content'] = list(map(normalize_text, emails['content']))"
      ],
      "execution_count": 11,
      "outputs": []
    },
    {
      "cell_type": "code",
      "metadata": {
        "id": "Y8jpcbpe9Q-a",
        "colab_type": "code",
        "colab": {}
      },
      "source": [
        "# Drop samples with empty content text after normalization\n",
        "emails['content'].replace('', np.nan, inplace=True)\n",
        "emails.dropna(subset=['content'], inplace=True)"
      ],
      "execution_count": 12,
      "outputs": []
    },
    {
      "cell_type": "code",
      "metadata": {
        "id": "MgWlz9rO-OgO",
        "colab_type": "code",
        "colab": {
          "base_uri": "https://localhost:8080/",
          "height": 695
        },
        "outputId": "9cc24383-9278-472e-d35b-994ee80b6982"
      },
      "source": [
        "#some sample emails\n",
        "pd.set_option('max_colwidth', -1)\n",
        "emails"
      ],
      "execution_count": 13,
      "outputs": [
        {
          "output_type": "stream",
          "text": [
            "/usr/local/lib/python3.6/dist-packages/ipykernel_launcher.py:2: FutureWarning: Passing a negative integer is deprecated in version 1.0 and will not be supported in future version. Instead, use None to not limit the column width.\n",
            "  \n"
          ],
          "name": "stderr"
        },
        {
          "output_type": "execute_result",
          "data": {
            "text/html": [
              "<div>\n",
              "<style scoped>\n",
              "    .dataframe tbody tr th:only-of-type {\n",
              "        vertical-align: middle;\n",
              "    }\n",
              "\n",
              "    .dataframe tbody tr th {\n",
              "        vertical-align: top;\n",
              "    }\n",
              "\n",
              "    .dataframe thead th {\n",
              "        text-align: right;\n",
              "    }\n",
              "</style>\n",
              "<table border=\"1\" class=\"dataframe\">\n",
              "  <thead>\n",
              "    <tr style=\"text-align: right;\">\n",
              "      <th></th>\n",
              "      <th>content</th>\n",
              "    </tr>\n",
              "  </thead>\n",
              "  <tbody>\n",
              "    <tr>\n",
              "      <th>0</th>\n",
              "      <td>here is our forecast</td>\n",
              "    </tr>\n",
              "    <tr>\n",
              "      <th>1</th>\n",
              "      <td>traveling to have a business meeting takes the fun out of the trip . especially if you have to prepare a presentation . i would suggest holding the business plan meetings here then take a trip without any formal business meetings . i would even try and get some honest opinions on whether a trip is even desired or necessary . as far as the business meetings , i think it would be more productive to try and stimulate discussions across the different groups about what is working and what is not . too often the presenter speaks and the others are quiet just waiting for their turn . the meetings might be better if held in a round table discussion format . my suggestion for where to go is austin . play golf and rent a ski boat and jet ski's . flying somewhere takes too much time .</td>\n",
              "    </tr>\n",
              "    <tr>\n",
              "      <th>2</th>\n",
              "      <td>test successful . way to go !!!</td>\n",
              "    </tr>\n",
              "    <tr>\n",
              "      <th>3</th>\n",
              "      <td>randy , can you send me a schedule of the salary and level of everyone in the scheduling group . plus your thoughts on any changes that need to be made . patti s for example phillip</td>\n",
              "    </tr>\n",
              "    <tr>\n",
              "      <th>4</th>\n",
              "      <td>let's shoot for tuesday at .</td>\n",
              "    </tr>\n",
              "    <tr>\n",
              "      <th>...</th>\n",
              "      <td>...</td>\n",
              "    </tr>\n",
              "    <tr>\n",
              "      <th>517396</th>\n",
              "      <td>this is a trade with oil spec hedge ng john lavorato's book and john zufferli's book cand pwr pr cand pwr pr buys from oil spec hedge ng nymex gas cal , mmbtu day . cal cal , mmbtu day . cal cal , mmbtu day . cal cal , mmbtu day . please confirm receipt john z</td>\n",
              "    </tr>\n",
              "    <tr>\n",
              "      <th>517397</th>\n",
              "      <td>some of my position is with the alberta term book , i will send you only the positions that i have directly with ena .</td>\n",
              "    </tr>\n",
              "    <tr>\n",
              "      <th>517398</th>\n",
              "      <td>original message from doucet , dawn sent wednesday , november , am to zufferli , john subject confidential morning john , i'm still working on the mini prc for lavo . sean lalani has not yet been ranked and rumour has it that he reports to you now . can you confirm and send me a number . thanks !</td>\n",
              "    </tr>\n",
              "    <tr>\n",
              "      <th>517399</th>\n",
              "      <td>analyst rank stephane brodeur chad clark ian cooke lon draper fabian taylor carlos torres ryan watt associate cooper richey</td>\n",
              "    </tr>\n",
              "    <tr>\n",
              "      <th>517400</th>\n",
              "      <td>i think the ymca has a class that is for people recovering from heart attacks i remeber something about that original message from livia zufferli monitor . com enron sent monday , november , am to zufferli , john subject re ali's essays i don't know about the heart classes . i'll look into it , but her dr ravi isn't offering up any suggestions or anything . she saw him before the surgery in august , and he said things were okay . i really don't think he's too helpful . she is lazy but it really frustrates me that she doesn't want to help herself . i told her that not walking is like not taking her heart medication . that didn't seem to resonate . dad is going to go to the ymca tomorrow and maybe get a membership for both of them they have a walking track there at least it's something to do in the winter . when she was down this weekend , we walked around the craft show at the exhibition place and she said that was a lot of exercise hrs . the only problem is that we were just strolling , and not really walking very fast . john . zufferli enron . com to livia zufferli monitor . com cc subject re ali's essays pm just send the essay at home i don't know what to do about mom , i don't think fear is the only thing holding her back , i think she is lazy is there a heart health class in sudbury that has excercise regimines as well as diets ? when is the last time she saw her doctor original message from livia zufferli monitor . com enron sent monday , november , am to zufferli , john subject ali's essays hi john how was thanksgiving ? was the baby shower fun ? i was wondering if you'd have some time to read over ali's chicago essays later tonight ? he's going to submit them on wednesday . let me know if that's okay . do you have a printer at home ? can i send them to your home account ? i don't think ali will be done before about pm or so tonight . ps we need to talk about mom . i saw her this weekend she's gained a lot of weight , and hasn't been exercising at all . dad's pretty frustrated because all she does is watch tv . i had a talk with her yesterday telling her that she has more risk of having a heart attack if she doesn't walk exercise than if she exerts herself when exercising i think she's afraid of having a heart attack while exercising . we need to do something she's lbs now , and should be at around lbs to be healthy . livia this e mail is the property of enron corp . and or its relevant affiliate and may contain confidential and privileged material for the sole use of the intended recipient s . any review , use , distribution or disclosure by others is strictly prohibited . if you are not the intended recipient or authorized to receive for the recipient , please contact the sender or reply to enron corp . at enron . messaging . administration enron . com and delete all copies of the message . this e mail and any attachments hereto are not intended to be an offer or an acceptance and do not create or evidence a binding and enforceable contract between enron corp . or any of its affiliates and the intended recipient or any other party , and may not be relied on by anyone as the basis of a contract by estoppel or otherwise . thank you .</td>\n",
              "    </tr>\n",
              "  </tbody>\n",
              "</table>\n",
              "<p>484131 rows × 1 columns</p>\n",
              "</div>"
            ],
            "text/plain": [
              "                                                                                                                                                                                                                                                                                                                                                                                                                                                                                                                                                                                                                                                                                                                                                                                                                                                                                                                                                                                                                                                                                                                                                                                                                                                                                                                                                                                                                                                                                                                                                                                                                                                                                                                                                                                                                                                                                                                                                                                                                                                                                                                                                                                                                                                                                                                                                                                                                                                                                                                                                                                                                                                                                                                                                                                                                                                                                                                                                                                                                                                                                                                                                                                                                                                                                                                              content\n",
              "0       here is our forecast                                                                                                                                                                                                                                                                                                                                                                                                                                                                                                                                                                                                                                                                                                                                                                                                                                                                                                                                                                                                                                                                                                                                                                                                                                                                                                                                                                                                                                                                                                                                                                                                                                                                                                                                                                                                                                                                                                                                                                                                                                                                                                                                                                                                                                                                                                                                                                                                                                                                                                                                                                                                                                                                                                                                                                                                                                                                                                                                                                                                                                                                                                                                                                                                                                                                                                         \n",
              "1       traveling to have a business meeting takes the fun out of the trip . especially if you have to prepare a presentation . i would suggest holding the business plan meetings here then take a trip without any formal business meetings . i would even try and get some honest opinions on whether a trip is even desired or necessary . as far as the business meetings , i think it would be more productive to try and stimulate discussions across the different groups about what is working and what is not . too often the presenter speaks and the others are quiet just waiting for their turn . the meetings might be better if held in a round table discussion format . my suggestion for where to go is austin . play golf and rent a ski boat and jet ski's . flying somewhere takes too much time .                                                                                                                                                                                                                                                                                                                                                                                                                                                                                                                                                                                                                                                                                                                                                                                                                                                                                                                                                                                                                                                                                                                                                                                                                                                                                                                                                                                                                                                                                                                                                                                                                                                                                                                                                                                                                                                                                                                                                                                                                                                                                                                                                                                                                                                                                                                                                                                                                                                                                                             \n",
              "2       test successful . way to go !!!                                                                                                                                                                                                                                                                                                                                                                                                                                                                                                                                                                                                                                                                                                                                                                                                                                                                                                                                                                                                                                                                                                                                                                                                                                                                                                                                                                                                                                                                                                                                                                                                                                                                                                                                                                                                                                                                                                                                                                                                                                                                                                                                                                                                                                                                                                                                                                                                                                                                                                                                                                                                                                                                                                                                                                                                                                                                                                                                                                                                                                                                                                                                                                                                                                                                                              \n",
              "3       randy , can you send me a schedule of the salary and level of everyone in the scheduling group . plus your thoughts on any changes that need to be made . patti s for example phillip                                                                                                                                                                                                                                                                                                                                                                                                                                                                                                                                                                                                                                                                                                                                                                                                                                                                                                                                                                                                                                                                                                                                                                                                                                                                                                                                                                                                                                                                                                                                                                                                                                                                                                                                                                                                                                                                                                                                                                                                                                                                                                                                                                                                                                                                                                                                                                                                                                                                                                                                                                                                                                                                                                                                                                                                                                                                                                                                                                                                                                                                                                                                        \n",
              "4       let's shoot for tuesday at .                                                                                                                                                                                                                                                                                                                                                                                                                                                                                                                                                                                                                                                                                                                                                                                                                                                                                                                                                                                                                                                                                                                                                                                                                                                                                                                                                                                                                                                                                                                                                                                                                                                                                                                                                                                                                                                                                                                                                                                                                                                                                                                                                                                                                                                                                                                                                                                                                                                                                                                                                                                                                                                                                                                                                                                                                                                                                                                                                                                                                                                                                                                                                                                                                                                                                                 \n",
              "...                              ...                                                                                                                                                                                                                                                                                                                                                                                                                                                                                                                                                                                                                                                                                                                                                                                                                                                                                                                                                                                                                                                                                                                                                                                                                                                                                                                                                                                                                                                                                                                                                                                                                                                                                                                                                                                                                                                                                                                                                                                                                                                                                                                                                                                                                                                                                                                                                                                                                                                                                                                                                                                                                                                                                                                                                                                                                                                                                                                                                                                                                                                                                                                                                                                                                                                                                                 \n",
              "517396  this is a trade with oil spec hedge ng john lavorato's book and john zufferli's book cand pwr pr cand pwr pr buys from oil spec hedge ng nymex gas cal , mmbtu day . cal cal , mmbtu day . cal cal , mmbtu day . cal cal , mmbtu day . please confirm receipt john z                                                                                                                                                                                                                                                                                                                                                                                                                                                                                                                                                                                                                                                                                                                                                                                                                                                                                                                                                                                                                                                                                                                                                                                                                                                                                                                                                                                                                                                                                                                                                                                                                                                                                                                                                                                                                                                                                                                                                                                                                                                                                                                                                                                                                                                                                                                                                                                                                                                                                                                                                                                                                                                                                                                                                                                                                                                                                                                                                                                                                                                         \n",
              "517397  some of my position is with the alberta term book , i will send you only the positions that i have directly with ena .                                                                                                                                                                                                                                                                                                                                                                                                                                                                                                                                                                                                                                                                                                                                                                                                                                                                                                                                                                                                                                                                                                                                                                                                                                                                                                                                                                                                                                                                                                                                                                                                                                                                                                                                                                                                                                                                                                                                                                                                                                                                                                                                                                                                                                                                                                                                                                                                                                                                                                                                                                                                                                                                                                                                                                                                                                                                                                                                                                                                                                                                                                                                                                                                       \n",
              "517398  original message from doucet , dawn sent wednesday , november , am to zufferli , john subject confidential morning john , i'm still working on the mini prc for lavo . sean lalani has not yet been ranked and rumour has it that he reports to you now . can you confirm and send me a number . thanks !                                                                                                                                                                                                                                                                                                                                                                                                                                                                                                                                                                                                                                                                                                                                                                                                                                                                                                                                                                                                                                                                                                                                                                                                                                                                                                                                                                                                                                                                                                                                                                                                                                                                                                                                                                                                                                                                                                                                                                                                                                                                                                                                                                                                                                                                                                                                                                                                                                                                                                                                                                                                                                                                                                                                                                                                                                                                                                                                                                                                                    \n",
              "517399  analyst rank stephane brodeur chad clark ian cooke lon draper fabian taylor carlos torres ryan watt associate cooper richey                                                                                                                                                                                                                                                                                                                                                                                                                                                                                                                                                                                                                                                                                                                                                                                                                                                                                                                                                                                                                                                                                                                                                                                                                                                                                                                                                                                                                                                                                                                                                                                                                                                                                                                                                                                                                                                                                                                                                                                                                                                                                                                                                                                                                                                                                                                                                                                                                                                                                                                                                                                                                                                                                                                                                                                                                                                                                                                                                                                                                                                                                                                                                                                                  \n",
              "517400  i think the ymca has a class that is for people recovering from heart attacks i remeber something about that original message from livia zufferli monitor . com enron sent monday , november , am to zufferli , john subject re ali's essays i don't know about the heart classes . i'll look into it , but her dr ravi isn't offering up any suggestions or anything . she saw him before the surgery in august , and he said things were okay . i really don't think he's too helpful . she is lazy but it really frustrates me that she doesn't want to help herself . i told her that not walking is like not taking her heart medication . that didn't seem to resonate . dad is going to go to the ymca tomorrow and maybe get a membership for both of them they have a walking track there at least it's something to do in the winter . when she was down this weekend , we walked around the craft show at the exhibition place and she said that was a lot of exercise hrs . the only problem is that we were just strolling , and not really walking very fast . john . zufferli enron . com to livia zufferli monitor . com cc subject re ali's essays pm just send the essay at home i don't know what to do about mom , i don't think fear is the only thing holding her back , i think she is lazy is there a heart health class in sudbury that has excercise regimines as well as diets ? when is the last time she saw her doctor original message from livia zufferli monitor . com enron sent monday , november , am to zufferli , john subject ali's essays hi john how was thanksgiving ? was the baby shower fun ? i was wondering if you'd have some time to read over ali's chicago essays later tonight ? he's going to submit them on wednesday . let me know if that's okay . do you have a printer at home ? can i send them to your home account ? i don't think ali will be done before about pm or so tonight . ps we need to talk about mom . i saw her this weekend she's gained a lot of weight , and hasn't been exercising at all . dad's pretty frustrated because all she does is watch tv . i had a talk with her yesterday telling her that she has more risk of having a heart attack if she doesn't walk exercise than if she exerts herself when exercising i think she's afraid of having a heart attack while exercising . we need to do something she's lbs now , and should be at around lbs to be healthy . livia this e mail is the property of enron corp . and or its relevant affiliate and may contain confidential and privileged material for the sole use of the intended recipient s . any review , use , distribution or disclosure by others is strictly prohibited . if you are not the intended recipient or authorized to receive for the recipient , please contact the sender or reply to enron corp . at enron . messaging . administration enron . com and delete all copies of the message . this e mail and any attachments hereto are not intended to be an offer or an acceptance and do not create or evidence a binding and enforceable contract between enron corp . or any of its affiliates and the intended recipient or any other party , and may not be relied on by anyone as the basis of a contract by estoppel or otherwise . thank you .\n",
              "\n",
              "[484131 rows x 1 columns]"
            ]
          },
          "metadata": {
            "tags": []
          },
          "execution_count": 13
        }
      ]
    },
    {
      "cell_type": "markdown",
      "metadata": {
        "id": "XYwivo5U_Mds",
        "colab_type": "text"
      },
      "source": [
        "In the original paper, the dataset is built with emails where the context is provided by the email date, subject and previous message if the user is replying.Unfortunately, in the Enron dataset it's not possible to build the reply relationship between emails.Thus in order to generate the context of a sentence, we train the sequence-to-sequence model to predict the sentence completion from pairs of split sentences.\n",
        "\n",
        "For instance, the sentence 'here is our forecast' is split in the following pairs within the dataset:\n",
        "\n",
        "[\n",
        "  ('<start> here is <end>', '<start> our forecast <end>'),\n",
        "  ('<start> here is our <end>', '<start> forecast <end>')"
      ]
    },
    {
      "cell_type": "code",
      "metadata": {
        "id": "z9pebMxg-O0W",
        "colab_type": "code",
        "colab": {
          "base_uri": "https://localhost:8080/",
          "height": 34
        },
        "outputId": "6759c238-3c6e-4bba-b2e0-47e6ccb2cb39"
      },
      "source": [
        "# Skip long sentences, which increase maximum length a lot when padding\n",
        "# and make the number of parameters to train explode\n",
        "SENTENCE_MAX_WORDS = 20\n",
        "\n",
        "def generate_dataset (emails):\n",
        "    contents = emails['content']\n",
        "    output = []\n",
        "    vocabulary_sentences = []\n",
        "    i=0\n",
        "    for content in contents:\n",
        "        # Skip emails longer than one sentence\n",
        "        i=i+1\n",
        "        if (len(content) > SENTENCE_MAX_WORDS * 5):\n",
        "            continue\n",
        "\n",
        "        sentences = content.split(' . ')\n",
        "        for sentence in sentences:\n",
        "            # Remove user names from start or end of sentence. This is just an heuristic\n",
        "            # but it's more efficient than compiling the list of names and removing all of them\n",
        "            sentence = re.sub(\"(^\\w+\\s,\\s)|(\\s,\\s\\w+$)\", \"\", sentence)\n",
        "            words = sentence.split(' ')\n",
        "\n",
        "            if ((len(words) > SENTENCE_MAX_WORDS) or (len(words) < 2)):\n",
        "                continue\n",
        "\n",
        "            vocabulary_sentences.append('<start> ' + sentence + ' <end>')\n",
        "\n",
        "            for i in range(1, len(words) - 1):\n",
        "                input_data = '<start> ' + ' '.join(words[:i+1]) + ' <end>'\n",
        "                output_data = '<start> ' + ' '.join(words[i+1:]) + ' <end>'\n",
        "                data = (input_data, output_data)\n",
        "                output.append(data)\n",
        "\n",
        "    return output, vocabulary_sentences,i\n",
        "\n",
        "pairs, vocabulary_sentences,i = generate_dataset(emails)\n",
        "print(i)"
      ],
      "execution_count": 14,
      "outputs": [
        {
          "output_type": "stream",
          "text": [
            "37\n"
          ],
          "name": "stdout"
        }
      ]
    },
    {
      "cell_type": "code",
      "metadata": {
        "id": "bA8oVMb3-iH3",
        "colab_type": "code",
        "colab": {
          "base_uri": "https://localhost:8080/",
          "height": 407
        },
        "outputId": "dbd61eac-a8e6-4098-fc09-e9296a4bacc0"
      },
      "source": [
        "#printing the length of the sentence pairs , the vocabulary , sentence pairs and corresponding sentence .\n",
        "print(len(pairs))\n",
        "print(len(vocabulary_sentences))\n",
        "print(*pairs[:10], sep='\\n')\n",
        "print(*vocabulary_sentences[:10], sep='\\n')"
      ],
      "execution_count": 15,
      "outputs": [
        {
          "output_type": "stream",
          "text": [
            "509918\n",
            "104151\n",
            "('<start> here is <end>', '<start> our forecast <end>')\n",
            "('<start> here is our <end>', '<start> forecast <end>')\n",
            "('<start> way to <end>', '<start> go !!! <end>')\n",
            "('<start> way to go <end>', '<start> !!! <end>')\n",
            "(\"<start> let's shoot <end>\", '<start> for tuesday at . <end>')\n",
            "(\"<start> let's shoot for <end>\", '<start> tuesday at . <end>')\n",
            "(\"<start> let's shoot for tuesday <end>\", '<start> at . <end>')\n",
            "(\"<start> let's shoot for tuesday at <end>\", '<start> . <end>')\n",
            "('<start> how about <end>', '<start> either next tuesday or thursday ? phillip <end>')\n",
            "('<start> how about either <end>', '<start> next tuesday or thursday ? phillip <end>')\n",
            "<start> here is our forecast <end>\n",
            "<start> test successful <end>\n",
            "<start> way to go !!! <end>\n",
            "<start> let's shoot for tuesday at . <end>\n",
            "<start> how about either next tuesday or thursday ? phillip <end>\n",
            "<start> any morning between and <end>\n",
            "<start> million is fine phillip <end>\n",
            "<start> i think fletch has a good cpa <end>\n",
            "<start> i am still doing my own . <end>\n",
            "<start> nymex expiration is during this time frame <end>\n"
          ],
          "name": "stdout"
        }
      ]
    },
    {
      "cell_type": "code",
      "metadata": {
        "id": "XHgJY7Rs-k9S",
        "colab_type": "code",
        "colab": {}
      },
      "source": [
        ""
      ],
      "execution_count": 15,
      "outputs": []
    },
    {
      "cell_type": "markdown",
      "metadata": {
        "id": "kiyTjZ7X_W9K",
        "colab_type": "text"
      },
      "source": [
        "We need to transform the text corpora into sequences of integers (each integer being the index of a token in a dictionary) by using keras Tokenizer. We also limit to the 10k most frequent words, deleting uncommon words from sentences.\n",
        "\n",
        "Normally we would use two tokenizers, one for the input strings and a different one for the output text, but in this case we are predicting the same vocabulary in both cases. All the words in the output texts are available also in the input texts because of how dataset pairs are generated."
      ]
    },
    {
      "cell_type": "code",
      "metadata": {
        "id": "Un1rucJ6-O2x",
        "colab_type": "code",
        "colab": {}
      },
      "source": [
        "import tensorflow as tf\n",
        "from tensorflow import keras\n",
        "\n",
        "np.random.seed(42)"
      ],
      "execution_count": 16,
      "outputs": []
    },
    {
      "cell_type": "code",
      "metadata": {
        "id": "fRexdg-B-s5_",
        "colab_type": "code",
        "colab": {}
      },
      "source": [
        "#tokenizer\n",
        "vocab_max_size = 3000\n",
        "\n",
        "def tokenize(text):\n",
        "    tokenizer = keras.preprocessing.text.Tokenizer(filters='', num_words=vocab_max_size)\n",
        "    tokenizer.fit_on_texts(text)\n",
        "\n",
        "    return tokenizer\n",
        "\n",
        "input = [pair[0] for pair in pairs]\n",
        "output = [pair[1] for pair in pairs]\n",
        "tokenizer = tokenize(vocabulary_sentences)\n",
        "\n",
        "encoder_input = tokenizer.texts_to_sequences(input)\n",
        "decoder_input = tokenizer.texts_to_sequences(output)\n",
        "\n",
        "decoder_target = [\n",
        "  [decoder_input[seqN][tokenI + 1]\n",
        "   for tokenI in range(len(decoder_input[seqN]) - 1)]\n",
        "    for seqN in range(len(decoder_input))]\n",
        "\n",
        "# Convert to np.array\n",
        "encoder_input = np.array(encoder_input)\n",
        "decoder_input = np.array(decoder_input)\n",
        "decoder_target = np.array(decoder_target)"
      ],
      "execution_count": 17,
      "outputs": []
    },
    {
      "cell_type": "code",
      "metadata": {
        "id": "aqu5IYli-tIE",
        "colab_type": "code",
        "colab": {}
      },
      "source": [
        "from sklearn.model_selection import train_test_split\n",
        "\n",
        "encoder_input_train, encoder_input_test, decoder_input_train, decoder_input_test, decoder_target_train, decoder_target_test = train_test_split(encoder_input, decoder_input, decoder_target, test_size=0.2)"
      ],
      "execution_count": 18,
      "outputs": []
    },
    {
      "cell_type": "code",
      "metadata": {
        "id": "H04UTwW_-0Mf",
        "colab_type": "code",
        "colab": {
          "base_uri": "https://localhost:8080/",
          "height": 70
        },
        "outputId": "052dafb2-6263-4e0a-84b2-3b8bdaef34d2"
      },
      "source": [
        "#printing the 2d matrix dimensions \n",
        "print(encoder_input_train.shape, encoder_input_test.shape)\n",
        "print(decoder_input_train.shape, decoder_input_test.shape)\n",
        "print(decoder_target_train.shape, decoder_target_test.shape)"
      ],
      "execution_count": 19,
      "outputs": [
        {
          "output_type": "stream",
          "text": [
            "(407934,) (101984,)\n",
            "(407934,) (101984,)\n",
            "(407934,) (101984,)\n"
          ],
          "name": "stdout"
        }
      ]
    },
    {
      "cell_type": "code",
      "metadata": {
        "id": "yuguN6Af-4KX",
        "colab_type": "code",
        "colab": {}
      },
      "source": [
        "def max_length(t):\n",
        "    return max(len(i) for i in t)\n",
        "\n",
        "max_length_in = max_length(encoder_input)\n",
        "max_length_out = max_length(decoder_input)\n",
        "\n",
        "encoder_input_train = keras.preprocessing.sequence.pad_sequences(encoder_input_train, maxlen=max_length_in, padding=\"post\")\n",
        "decoder_input_train = keras.preprocessing.sequence.pad_sequences(decoder_input_train, maxlen=max_length_out, padding=\"post\")\n",
        "decoder_target_train = keras.preprocessing.sequence.pad_sequences(decoder_target_train, maxlen=max_length_out, padding=\"post\")\n",
        "\n",
        "encoder_input_test = keras.preprocessing.sequence.pad_sequences(encoder_input_test, maxlen=max_length_in, padding=\"post\")\n",
        "decoder_input_test = keras.preprocessing.sequence.pad_sequences(decoder_input_test, maxlen=max_length_out, padding=\"post\")\n",
        "decoder_target_test = keras.preprocessing.sequence.pad_sequences(decoder_target_test, maxlen=max_length_out, padding=\"post\")"
      ],
      "execution_count": 20,
      "outputs": []
    },
    {
      "cell_type": "code",
      "metadata": {
        "id": "cnXnX2aC-9zu",
        "colab_type": "code",
        "colab": {
          "base_uri": "https://localhost:8080/",
          "height": 34
        },
        "outputId": "73179ef7-8ea5-4274-f57d-f0ac397e8a96"
      },
      "source": [
        "#max input output sequence length\n",
        "print(max_length_in, max_length_out)"
      ],
      "execution_count": 21,
      "outputs": [
        {
          "output_type": "stream",
          "text": [
            "21 20\n"
          ],
          "name": "stdout"
        }
      ]
    },
    {
      "cell_type": "code",
      "metadata": {
        "id": "BVuClJtd-_vo",
        "colab_type": "code",
        "colab": {}
      },
      "source": [
        "# Shuffle the data in unison\n",
        "p = np.random.permutation(len(encoder_input_train))\n",
        "encoder_input_train = encoder_input_train[p]\n",
        "decoder_input_train = decoder_input_train[p]\n",
        "decoder_target_train = decoder_target_train[p]\n",
        "\n",
        "q = np.random.permutation(len(encoder_input_test))\n",
        "encoder_input_test = encoder_input_test[q]\n",
        "decoder_input_test = decoder_input_test[q]\n",
        "decoder_target_test = decoder_target_test[q]"
      ],
      "execution_count": 22,
      "outputs": []
    },
    {
      "cell_type": "code",
      "metadata": {
        "id": "TGkVNH-V_iR4",
        "colab_type": "code",
        "colab": {
          "base_uri": "https://localhost:8080/",
          "height": 52
        },
        "outputId": "3e50ed07-1314-4709-f1b7-0514aceb23c4"
      },
      "source": [
        "import math\n",
        "\n",
        "batch_size = 128\n",
        "vocab_size = vocab_max_size if len(tokenizer.word_index) > vocab_max_size else len(tokenizer.word_index)\n",
        "# Rule of thumb of embedding size: vocab_size ** 0.25\n",
        "embedding_dim = math.ceil(vocab_size ** 0.25)\n",
        "latent_dim = 192 # Latent dimensionality of the encoding space.\n",
        "\n",
        "#printing the vocabulary size and embedding dimension \n",
        "print(vocab_size, embedding_dim)\n",
        "len(tokenizer.word_index)"
      ],
      "execution_count": 23,
      "outputs": [
        {
          "output_type": "stream",
          "text": [
            "3000 8\n"
          ],
          "name": "stdout"
        },
        {
          "output_type": "execute_result",
          "data": {
            "text/plain": [
              "15809"
            ]
          },
          "metadata": {
            "tags": []
          },
          "execution_count": 23
        }
      ]
    },
    {
      "cell_type": "markdown",
      "metadata": {
        "id": "nsIlo2qN__Q3",
        "colab_type": "text"
      },
      "source": [
        "Here we define the RNN models. We start with the Encoder-Decoder model used in training which leverages the \"teacher forcing technique\". Therefore, it will receive as input encoder_input and decoder_input datasets.\n",
        "\n",
        "Then the second model is represented by the inference Decoder which will receive as input the encoded states of the input sequence and the predicted token of the previous time step.\n",
        "\n",
        "Both models use GRU units to preserve the context state, which have been shown to be more accurate than LSTM units and simpler to use since they have only one state."
      ]
    },
    {
      "cell_type": "code",
      "metadata": {
        "id": "09z2pLgoMXMh",
        "colab_type": "code",
        "colab": {
          "base_uri": "https://localhost:8080/",
          "height": 52
        },
        "outputId": "106d9e8c-c56c-46d3-f84f-2dcb9ecd8499"
      },
      "source": [
        "print('loading word vector')\n",
        "EMBEDDING_DIM=50\n",
        "word2vec={}\n",
        "with open(os.path.join('./glove.6B.%sd.txt'%EMBEDDING_DIM)) as f:\n",
        "    for line in f:\n",
        "        value=line.split()\n",
        "        word=value[0]\n",
        "        vec=np.asarray(value[1:],dtype='float32')\n",
        "        word2vec[word]=vec\n",
        "print('found %s word vectors'%len(word2vec))"
      ],
      "execution_count": 24,
      "outputs": [
        {
          "output_type": "stream",
          "text": [
            "loading word vector\n",
            "found 400000 word vectors\n"
          ],
          "name": "stdout"
        }
      ]
    },
    {
      "cell_type": "code",
      "metadata": {
        "id": "jMD2CKgxMiZ5",
        "colab_type": "code",
        "colab": {
          "base_uri": "https://localhost:8080/",
          "height": 34
        },
        "outputId": "e00ab591-e2c3-49a7-f136-c5a08904e14b"
      },
      "source": [
        "print('filling pretrained embedding')\n",
        "word2idx=tokenizer.word_index\n",
        "MAX_VOCAB_SIZE=3000\n",
        "num_words=min(MAX_VOCAB_SIZE,len(word2idx)+1)\n",
        "embedding_matrix=np.zeros((num_words,EMBEDDING_DIM))\n",
        "for word,i in word2idx.items():\n",
        "  if i<MAX_VOCAB_SIZE:\n",
        "    embedding_vec=word2vec.get(word)\n",
        "    if embedding_vec is not None:\n",
        "      embedding_matrix[i]=embedding_vec"
      ],
      "execution_count": 25,
      "outputs": [
        {
          "output_type": "stream",
          "text": [
            "filling pretrained embedding\n"
          ],
          "name": "stdout"
        }
      ]
    },
    {
      "cell_type": "code",
      "metadata": {
        "id": "ZCCbE5hE_ByT",
        "colab_type": "code",
        "colab": {
          "base_uri": "https://localhost:8080/",
          "height": 585
        },
        "outputId": "6ae3b115-9288-4ec4-ed28-35553cee421b"
      },
      "source": [
        "# GRU Encoder\n",
        "encoder_in_layer = keras.layers.Input(shape=(max_length_in,))\n",
        "encoder_embedding = keras.layers.Embedding(input_dim=vocab_size, output_dim=EMBEDDING_DIM,weights=[embedding_matrix])\n",
        "encoder_bi_gru = keras.layers.Bidirectional(keras.layers.GRU(units=latent_dim, return_sequences=True, return_state=True))\n",
        "\n",
        "# Discard the encoder output and use hidden states (h) and memory cells states (c)\n",
        "# for forward (f) and backward (b) layer\n",
        "encoder_out, fstate_h, bstate_h = encoder_bi_gru(encoder_embedding(encoder_in_layer))\n",
        "state_h = keras.layers.Concatenate()([fstate_h, bstate_h])\n",
        "\n",
        "# GRUDecoder\n",
        "decoder_in_layer = keras.layers.Input(shape=(1,))\n",
        "decoder_embedding = keras.layers.Embedding(input_dim=vocab_size, output_dim=EMBEDDING_DIM,weights=[embedding_matrix])\n",
        "decoder_gru = keras.layers.GRU(units=latent_dim * 2, return_sequences=True, return_state=True)\n",
        "# Discard internal states in training, keep only the output sequence\n",
        "decoder_gru_out, _ = decoder_gru(decoder_embedding(decoder_in_layer), initial_state=state_h)\n",
        "decoder_dense_1 = keras.layers.Dense(512, activation=\"relu\")\n",
        "decoder_dense = keras.layers.Dense(vocab_size, activation=\"softmax\")\n",
        "decoder_out_layer = decoder_dense(keras.layers.Dropout(rate=0.2)(decoder_dense_1(keras.layers.Dropout(rate=0.2)(decoder_gru_out))))\n",
        "\n",
        "# Define the model that uses the Encoder and the Decoder\n",
        "model = keras.models.Model([encoder_in_layer, decoder_in_layer], decoder_out_layer)\n",
        "\n",
        "def perplexity(y_true, y_pred):\n",
        "    return keras.backend.exp(keras.backend.mean(keras.backend.sparse_categorical_crossentropy(y_true, y_pred)))\n",
        "\n",
        "model.compile(optimizer='adam', loss=\"sparse_categorical_crossentropy\", metrics=[perplexity])\n",
        "model.summary()"
      ],
      "execution_count": 27,
      "outputs": [
        {
          "output_type": "stream",
          "text": [
            "Model: \"functional_3\"\n",
            "__________________________________________________________________________________________________\n",
            "Layer (type)                    Output Shape         Param #     Connected to                     \n",
            "==================================================================================================\n",
            "input_3 (InputLayer)            [(None, 21)]         0                                            \n",
            "__________________________________________________________________________________________________\n",
            "embedding_2 (Embedding)         (None, 21, 50)       150000      input_3[0][0]                    \n",
            "__________________________________________________________________________________________________\n",
            "input_4 (InputLayer)            [(None, 1)]          0                                            \n",
            "__________________________________________________________________________________________________\n",
            "bidirectional_1 (Bidirectional) [(None, 21, 384), (N 281088      embedding_2[0][0]                \n",
            "__________________________________________________________________________________________________\n",
            "embedding_3 (Embedding)         (None, 1, 50)        150000      input_4[0][0]                    \n",
            "__________________________________________________________________________________________________\n",
            "concatenate_1 (Concatenate)     (None, 384)          0           bidirectional_1[0][1]            \n",
            "                                                                 bidirectional_1[0][2]            \n",
            "__________________________________________________________________________________________________\n",
            "gru_3 (GRU)                     [(None, 1, 384), (No 502272      embedding_3[0][0]                \n",
            "                                                                 concatenate_1[0][0]              \n",
            "__________________________________________________________________________________________________\n",
            "dropout_3 (Dropout)             (None, 1, 384)       0           gru_3[0][0]                      \n",
            "__________________________________________________________________________________________________\n",
            "dense_2 (Dense)                 (None, 1, 512)       197120      dropout_3[0][0]                  \n",
            "__________________________________________________________________________________________________\n",
            "dropout_2 (Dropout)             (None, 1, 512)       0           dense_2[0][0]                    \n",
            "__________________________________________________________________________________________________\n",
            "dense_3 (Dense)                 (None, 1, 3000)      1539000     dropout_2[0][0]                  \n",
            "==================================================================================================\n",
            "Total params: 2,819,480\n",
            "Trainable params: 2,819,480\n",
            "Non-trainable params: 0\n",
            "__________________________________________________________________________________________________\n"
          ],
          "name": "stdout"
        }
      ]
    },
    {
      "cell_type": "code",
      "metadata": {
        "id": "QEaDm18xAFCX",
        "colab_type": "code",
        "colab": {
          "base_uri": "https://localhost:8080/",
          "height": 975
        },
        "outputId": "c0a8fb42-f92d-4fb2-c90c-76a92f5e73a4"
      },
      "source": [
        "#encoder-decoder model structure\n",
        "keras.utils.plot_model(model, \"encoder-decoder.png\", show_shapes=True)"
      ],
      "execution_count": 28,
      "outputs": [
        {
          "output_type": "execute_result",
          "data": {
            "image/png": "[encoded data removed]",
            "text/plain": [
              "<IPython.core.display.Image object>"
            ]
          },
          "metadata": {
            "tags": []
          },
          "execution_count": 28
        }
      ]
    },
    {
      "cell_type": "code",
      "metadata": {
        "id": "soGbL0Wv-0Ws",
        "colab_type": "code",
        "colab": {
          "base_uri": "https://localhost:8080/",
          "height": 442
        },
        "outputId": "699dff58-8c76-45d9-85ed-0b930d2ba7b4"
      },
      "source": [
        "#training the model and printing the training and validation losses\n",
        "epochs = 5\n",
        "history = model.fit([encoder_input_train, decoder_input_train], decoder_target_train,\n",
        "                 batch_size=batch_size,\n",
        "                 epochs=epochs,\n",
        "                 validation_split=0.2)\n",
        "\n",
        "def plot_history(history):\n",
        "    plt.plot(history.history['loss'], label=\"Training loss\")\n",
        "    plt.plot(history.history['val_loss'], label=\"Validation loss\")\n",
        "    plt.legend()\n",
        "\n",
        "plot_history(history)"
      ],
      "execution_count": 48,
      "outputs": [
        {
          "output_type": "stream",
          "text": [
            "Epoch 1/5\n",
            "2550/2550 [==============================] - 182s 71ms/step - loss: 0.3325 - perplexity: 1.3951 - val_loss: 0.2661 - val_perplexity: 1.3053\n",
            "Epoch 2/5\n",
            "2550/2550 [==============================] - 181s 71ms/step - loss: 0.3262 - perplexity: 1.3863 - val_loss: 0.2631 - val_perplexity: 1.3014\n",
            "Epoch 3/5\n",
            "2550/2550 [==============================] - 180s 71ms/step - loss: 0.3207 - perplexity: 1.3787 - val_loss: 0.2576 - val_perplexity: 1.2943\n",
            "Epoch 4/5\n",
            "2550/2550 [==============================] - 180s 70ms/step - loss: 0.3152 - perplexity: 1.3711 - val_loss: 0.2547 - val_perplexity: 1.2905\n",
            "Epoch 5/5\n",
            "2550/2550 [==============================] - 181s 71ms/step - loss: 0.3102 - perplexity: 1.3643 - val_loss: 0.2497 - val_perplexity: 1.2840\n"
          ],
          "name": "stdout"
        },
        {
          "output_type": "display_data",
          "data": {
            "image/png": "[encoded data removed]",
            "text/plain": [
              "<Figure size 432x288 with 1 Axes>"
            ]
          },
          "metadata": {
            "tags": [],
            "needs_background": "light"
          }
        }
      ]
    },
    {
      "cell_type": "markdown",
      "metadata": {
        "id": "bUerHtnvlTuU",
        "colab_type": "text"
      },
      "source": [
        ""
      ]
    },
    {
      "cell_type": "code",
      "metadata": {
        "id": "64ZF2hB2ARY7",
        "colab_type": "code",
        "colab": {
          "base_uri": "https://localhost:8080/",
          "height": 52
        },
        "outputId": "96412691-8882-4908-bd38-cda1a32a642c"
      },
      "source": [
        "#printing the best loss and perplexity achievable\n",
        "scores = model.evaluate([encoder_input_test[:1000], decoder_input_test[:1000]], decoder_target_test[:1000])\n",
        "print(\"%s: %.2f\" % (model.metrics_names[1], scores[1]))"
      ],
      "execution_count": 42,
      "outputs": [
        {
          "output_type": "stream",
          "text": [
            "32/32 [==============================] - 1s 17ms/step - loss: 0.2660 - perplexity: 1.3044\n",
            "perplexity: 1.30\n"
          ],
          "name": "stdout"
        }
      ]
    },
    {
      "cell_type": "code",
      "metadata": {
        "id": "8olK8TDDGTvj",
        "colab_type": "code",
        "colab": {}
      },
      "source": [
        "# Inference Decoder\n",
        "encoder_model = keras.models.Model(encoder_in_layer, state_h)\n",
        "\n",
        "state_input_h = keras.layers.Input(shape=(latent_dim * 2,))\n",
        "inf_decoder_out, decoder_h = decoder_gru(decoder_embedding(decoder_in_layer), initial_state=state_input_h)\n",
        "inf_decoder_out = decoder_dense(decoder_dense_1(inf_decoder_out))\n",
        "inf_model = keras.models.Model(inputs=[decoder_in_layer, state_input_h], \n",
        "                  outputs=[inf_decoder_out, decoder_h])"
      ],
      "execution_count": 43,
      "outputs": []
    },
    {
      "cell_type": "code",
      "metadata": {
        "id": "vXjdKQSvGWGl",
        "colab_type": "code",
        "colab": {
          "base_uri": "https://localhost:8080/",
          "height": 422
        },
        "outputId": "5cfd96e2-d49f-4c00-aa4e-bac0db6dc7a5"
      },
      "source": [
        "#the encoder model structure\n",
        "keras.utils.plot_model(encoder_model, \"encoder-model.png\", show_shapes=True)"
      ],
      "execution_count": 44,
      "outputs": [
        {
          "output_type": "execute_result",
          "data": {
            "image/png": "[encoded data removed]",
            "text/plain": [
              "<IPython.core.display.Image object>"
            ]
          },
          "metadata": {
            "tags": []
          },
          "execution_count": 44
        }
      ]
    },
    {
      "cell_type": "code",
      "metadata": {
        "id": "Uv_CZdm8GvwT",
        "colab_type": "code",
        "colab": {
          "base_uri": "https://localhost:8080/",
          "height": 533
        },
        "outputId": "e2604327-7df9-49b1-a95f-7b368b3b1816"
      },
      "source": [
        "#inference model structure\n",
        "keras.utils.plot_model(inf_model, \"inference-model.png\", show_shapes=True)"
      ],
      "execution_count": 45,
      "outputs": [
        {
          "output_type": "execute_result",
          "data": {
            "image/png": "[encoded data removed]",
            "text/plain": [
              "<IPython.core.display.Image object>"
            ]
          },
          "metadata": {
            "tags": []
          },
          "execution_count": 45
        }
      ]
    },
    {
      "cell_type": "code",
      "metadata": {
        "id": "LEoVw89PGyiy",
        "colab_type": "code",
        "colab": {
          "base_uri": "https://localhost:8080/",
          "height": 52
        },
        "outputId": "bd1ba7b6-d6a6-422e-b3d0-6fee228928eb"
      },
      "source": [
        "def tokenize_text(text):\n",
        "    text = '<start> ' + text.lower() + ' <end>'\n",
        "    text_tensor = tokenizer.texts_to_sequences([text])\n",
        "    text_tensor = keras.preprocessing.sequence.pad_sequences(text_tensor, maxlen=max_length_in, padding=\"post\")\n",
        "    return text_tensor\n",
        "\n",
        "# Reversed map from a tokenizer index to a word\n",
        "index_to_word = dict(map(reversed, tokenizer.word_index.items()))\n",
        "\n",
        "# Given an input string, an encoder model (infenc_model) and a decoder model (infmodel),\n",
        "def decode_sequence(input_tensor):\n",
        "    # Encode the input as state vectors.\n",
        "    state = encoder_model.predict(input_tensor)\n",
        "\n",
        "    target_seq = np.zeros((1, 1))\n",
        "    target_seq[0, 0] = tokenizer.word_index['<start>']\n",
        "    curr_word = \"<start>\"\n",
        "    decoded_sentence = ''\n",
        "\n",
        "    i = 0\n",
        "    while curr_word != \"<end>\" and i < (max_length_out - 1):\n",
        "        output_tokens, h = inf_model.predict([target_seq, state])\n",
        "        curr_token = np.argmax(output_tokens[0, 0])\n",
        "\n",
        "        if (curr_token == 0):\n",
        "            break;\n",
        "\n",
        "        curr_word = index_to_word[curr_token]\n",
        "\n",
        "        decoded_sentence += ' ' + curr_word\n",
        "        target_seq[0, 0] = curr_token\n",
        "        state = h\n",
        "        i += 1\n",
        "\n",
        "    return decoded_sentence\n",
        "  #converting tokens to sequence\n",
        "def tokens_to_seq(tokens):\n",
        "    words = list(map(lambda token: index_to_word[token] if token != 0 else '', tokens))\n",
        "    return ' '.join(words)\n",
        "tokenize_text('have a')"
      ],
      "execution_count": 46,
      "outputs": [
        {
          "output_type": "execute_result",
          "data": {
            "text/plain": [
              "array([[ 1, 22, 14,  2,  0,  0,  0,  0,  0,  0,  0,  0,  0,  0,  0,  0,\n",
              "         0,  0,  0,  0,  0]], dtype=int32)"
            ]
          },
          "metadata": {
            "tags": []
          },
          "execution_count": 46
        }
      ]
    },
    {
      "cell_type": "code",
      "metadata": {
        "id": "XVJwmLpPARip",
        "colab_type": "code",
        "colab": {
          "base_uri": "https://localhost:8080/",
          "height": 737
        },
        "outputId": "928fc6e6-a63f-4bf9-fbce-7bfd30032346"
      },
      "source": [
        "#testing of the inference models with some inputs inside the text array (note-the input must be present inside the splitted pairs of sentence)\n",
        "texts = ['please help ',\n",
        "    'are you',\n",
        "    'have a',\n",
        "    'please review',\n",
        "    'please call me',\n",
        "    'thanks for',\n",
        "    'let me',\n",
        "    'Let me know',\n",
        "    'Let me know if you',\n",
        "    'this sounds',\n",
        "    'is this call going to',\n",
        "    'can you get',\n",
        "    'is it okay',\n",
        "    'it should',\n",
        "    'call if there\\'s',\n",
        "    'gave her a',\n",
        "    'i will let',\n",
        "    'i will be',\n",
        "    'may i get a copy of all the',\n",
        "    'how is our trade',\n",
        "    'this looks like a',\n",
        "    'i am fine with the changes',\n",
        "    'please be sure this'\n",
        "]\n",
        "#inference outputs\n",
        "output = list(map(lambda text: (text, decode_sequence(tokenize_text(text))), texts))\n",
        "\n",
        "output_df = pd.DataFrame(output, columns=[\"input\", \"output\"])\n",
        "output_df.head(len(output))"
      ],
      "execution_count": 47,
      "outputs": [
        {
          "output_type": "execute_result",
          "data": {
            "text/html": [
              "<div>\n",
              "<style scoped>\n",
              "    .dataframe tbody tr th:only-of-type {\n",
              "        vertical-align: middle;\n",
              "    }\n",
              "\n",
              "    .dataframe tbody tr th {\n",
              "        vertical-align: top;\n",
              "    }\n",
              "\n",
              "    .dataframe thead th {\n",
              "        text-align: right;\n",
              "    }\n",
              "</style>\n",
              "<table border=\"1\" class=\"dataframe\">\n",
              "  <thead>\n",
              "    <tr style=\"text-align: right;\">\n",
              "      <th></th>\n",
              "      <th>input</th>\n",
              "      <th>output</th>\n",
              "    </tr>\n",
              "  </thead>\n",
              "  <tbody>\n",
              "    <tr>\n",
              "      <th>0</th>\n",
              "      <td>please help</td>\n",
              "      <td>the billing to be of the &lt;end&gt;</td>\n",
              "    </tr>\n",
              "    <tr>\n",
              "      <th>1</th>\n",
              "      <td>are you</td>\n",
              "      <td>in town ? &lt;end&gt;</td>\n",
              "    </tr>\n",
              "    <tr>\n",
              "      <th>2</th>\n",
              "      <td>have a</td>\n",
              "      <td>good weekend &lt;end&gt;</td>\n",
              "    </tr>\n",
              "    <tr>\n",
              "      <th>3</th>\n",
              "      <td>please review</td>\n",
              "      <td>and let me know if you have any questions . &lt;end&gt;</td>\n",
              "    </tr>\n",
              "    <tr>\n",
              "      <th>4</th>\n",
              "      <td>please call me</td>\n",
              "      <td>if you have any questions &lt;end&gt;</td>\n",
              "    </tr>\n",
              "    <tr>\n",
              "      <th>5</th>\n",
              "      <td>thanks for</td>\n",
              "      <td>the update &lt;end&gt;</td>\n",
              "    </tr>\n",
              "    <tr>\n",
              "      <th>6</th>\n",
              "      <td>let me</td>\n",
              "      <td>know if you have any questions &lt;end&gt;</td>\n",
              "    </tr>\n",
              "    <tr>\n",
              "      <th>7</th>\n",
              "      <td>Let me know</td>\n",
              "      <td>if you have any questions &lt;end&gt;</td>\n",
              "    </tr>\n",
              "    <tr>\n",
              "      <th>8</th>\n",
              "      <td>Let me know if you</td>\n",
              "      <td>have any questions &lt;end&gt;</td>\n",
              "    </tr>\n",
              "    <tr>\n",
              "      <th>9</th>\n",
              "      <td>this sounds</td>\n",
              "      <td>like a good time &lt;end&gt;</td>\n",
              "    </tr>\n",
              "    <tr>\n",
              "      <th>10</th>\n",
              "      <td>is this call going to</td>\n",
              "      <td>happen ? i have another few of you . &lt;end&gt;</td>\n",
              "    </tr>\n",
              "    <tr>\n",
              "      <th>11</th>\n",
              "      <td>can you get</td>\n",
              "      <td>a copy of the full document ? thanks &lt;end&gt;</td>\n",
              "    </tr>\n",
              "    <tr>\n",
              "      <th>12</th>\n",
              "      <td>is it okay</td>\n",
              "      <td>? &lt;end&gt;</td>\n",
              "    </tr>\n",
              "    <tr>\n",
              "      <th>13</th>\n",
              "      <td>it should</td>\n",
              "      <td>be the letterhead &lt;end&gt;</td>\n",
              "    </tr>\n",
              "    <tr>\n",
              "      <th>14</th>\n",
              "      <td>call if there's</td>\n",
              "      <td>interested &lt;end&gt;</td>\n",
              "    </tr>\n",
              "    <tr>\n",
              "      <th>15</th>\n",
              "      <td>gave her a</td>\n",
              "      <td>copy of the suit filed against the generators as signed &lt;end&gt;</td>\n",
              "    </tr>\n",
              "    <tr>\n",
              "      <th>16</th>\n",
              "      <td>i will let</td>\n",
              "      <td>you know that girl &lt;end&gt;</td>\n",
              "    </tr>\n",
              "    <tr>\n",
              "      <th>17</th>\n",
              "      <td>i will be</td>\n",
              "      <td>out of the office until monday , february th . &lt;end&gt;</td>\n",
              "    </tr>\n",
              "    <tr>\n",
              "      <th>18</th>\n",
              "      <td>may i get a copy of all the</td>\n",
              "      <td>invoices we sent ces for january please . &lt;end&gt;</td>\n",
              "    </tr>\n",
              "    <tr>\n",
              "      <th>19</th>\n",
              "      <td>how is our trade</td>\n",
              "      <td>? &lt;end&gt;</td>\n",
              "    </tr>\n",
              "    <tr>\n",
              "      <th>20</th>\n",
              "      <td>this looks like a</td>\n",
              "      <td>great opportunity for us &lt;end&gt;</td>\n",
              "    </tr>\n",
              "    <tr>\n",
              "      <th>21</th>\n",
              "      <td>i am fine with the changes</td>\n",
              "      <td>to the transaction agreement &lt;end&gt;</td>\n",
              "    </tr>\n",
              "    <tr>\n",
              "      <th>22</th>\n",
              "      <td>please be sure this</td>\n",
              "      <td>is done &lt;end&gt;</td>\n",
              "    </tr>\n",
              "  </tbody>\n",
              "</table>\n",
              "</div>"
            ],
            "text/plain": [
              "                          input                                                          output\n",
              "0   please help                   the billing to be of the <end>                               \n",
              "1   are you                       in town ? <end>                                              \n",
              "2   have a                        good weekend <end>                                           \n",
              "3   please review                 and let me know if you have any questions . <end>            \n",
              "4   please call me                if you have any questions <end>                              \n",
              "5   thanks for                    the update <end>                                             \n",
              "6   let me                        know if you have any questions <end>                         \n",
              "7   Let me know                   if you have any questions <end>                              \n",
              "8   Let me know if you            have any questions <end>                                     \n",
              "9   this sounds                   like a good time <end>                                       \n",
              "10  is this call going to         happen ? i have another few of you . <end>                   \n",
              "11  can you get                   a copy of the full document ? thanks <end>                   \n",
              "12  is it okay                    ? <end>                                                      \n",
              "13  it should                     be the letterhead <end>                                      \n",
              "14  call if there's               interested <end>                                             \n",
              "15  gave her a                    copy of the suit filed against the generators as signed <end>\n",
              "16  i will let                    you know that girl <end>                                     \n",
              "17  i will be                     out of the office until monday , february th . <end>         \n",
              "18  may i get a copy of all the   invoices we sent ces for january please . <end>              \n",
              "19  how is our trade              ? <end>                                                      \n",
              "20  this looks like a             great opportunity for us <end>                               \n",
              "21  i am fine with the changes    to the transaction agreement <end>                           \n",
              "22  please be sure this           is done <end>                                                "
            ]
          },
          "metadata": {
            "tags": []
          },
          "execution_count": 47
        }
      ]
    },
    {
      "cell_type": "code",
      "metadata": {
        "id": "7Y3lRVCJHAyZ",
        "colab_type": "code",
        "colab": {
          "base_uri": "https://localhost:8080/",
          "height": 196
        },
        "outputId": "b1d201d4-6e34-4deb-a211-d652f7d00c15"
      },
      "source": [
        "saved_model_dir = './'\n",
        "tf.saved_model.save(encoder_model, saved_model_dir)\n",
        "\n",
        "converter = tf.lite.TFLiteConverter.from_saved_model(saved_model_dir)\n",
        "tflite_model = converter.convert()\n",
        "\n",
        "with open('enc_model.tflite', 'wb') as f:\n",
        "  f.write(tflite_model)\n",
        "\n",
        "\n",
        "tf.saved_model.save(inf_model, saved_model_dir)\n",
        "\n",
        "converter = tf.lite.TFLiteConverter.from_saved_model(saved_model_dir)\n",
        "tflite_model = converter.convert()\n",
        "\n",
        "with open('inf_model.tflite', 'wb') as f:\n",
        "  f.write(tflite_model)\n",
        "\n",
        "\n",
        "\n"
      ],
      "execution_count": 37,
      "outputs": [
        {
          "output_type": "stream",
          "text": [
            "WARNING:tensorflow:From /usr/local/lib/python3.6/dist-packages/tensorflow/python/training/tracking/tracking.py:111: Model.state_updates (from tensorflow.python.keras.engine.training) is deprecated and will be removed in a future version.\n",
            "Instructions for updating:\n",
            "This property should not be used in TensorFlow 2.0, as updates are applied automatically.\n",
            "WARNING:tensorflow:From /usr/local/lib/python3.6/dist-packages/tensorflow/python/training/tracking/tracking.py:111: Layer.updates (from tensorflow.python.keras.engine.base_layer) is deprecated and will be removed in a future version.\n",
            "Instructions for updating:\n",
            "This property should not be used in TensorFlow 2.0, as updates are applied automatically.\n",
            "INFO:tensorflow:Assets written to: ./assets\n",
            "INFO:tensorflow:Assets written to: ./assets\n"
          ],
          "name": "stdout"
        },
        {
          "output_type": "stream",
          "text": [
            "INFO:tensorflow:Assets written to: ./assets\n"
          ],
          "name": "stderr"
        }
      ]
    },
    {
      "cell_type": "code",
      "metadata": {
        "id": "o96RoqWLHA4H",
        "colab_type": "code",
        "colab": {
          "base_uri": "https://localhost:8080/",
          "height": 35
        },
        "outputId": "50cc5d21-6f77-4adc-ae9e-a1bdb73286e1"
      },
      "source": [
        "shutil.copy('/content/enc_model.tflite','/content/drive/My Drive/Colab Notebooks/model snap/enc_model_512_3_7_e50.tflite')\n",
        "shutil.copy('/content/inf_model.tflite','/content/drive/My Drive/Colab Notebooks/model snap/inf_model_512_3_7_e50.tflite')"
      ],
      "execution_count": 40,
      "outputs": [
        {
          "output_type": "execute_result",
          "data": {
            "application/vnd.google.colaboratory.intrinsic+json": {
              "type": "string"
            },
            "text/plain": [
              "'/content/drive/My Drive/Colab Notebooks/model snap/inf_model_512_3_7_e50.tflite'"
            ]
          },
          "metadata": {
            "tags": []
          },
          "execution_count": 40
        }
      ]
    },
    {
      "cell_type": "code",
      "metadata": {
        "id": "PmIY_Vgl7kcZ",
        "colab_type": "code",
        "colab": {
          "base_uri": "https://localhost:8080/",
          "height": 185
        },
        "outputId": "4a527125-6748-48a1-84b6-8375f2e497a1"
      },
      "source": [
        "from google.colab import drive\n",
        "drive.unmount('/content/drive')"
      ],
      "execution_count": 11,
      "outputs": [
        {
          "output_type": "error",
          "ename": "AttributeError",
          "evalue": "ignored",
          "traceback": [
            "\u001b[0;31m---------------------------------------------------------------------------\u001b[0m",
            "\u001b[0;31mAttributeError\u001b[0m                            Traceback (most recent call last)",
            "\u001b[0;32m<ipython-input-11-aeea469676cd>\u001b[0m in \u001b[0;36m<module>\u001b[0;34m()\u001b[0m\n\u001b[1;32m      1\u001b[0m \u001b[0;32mfrom\u001b[0m \u001b[0mgoogle\u001b[0m\u001b[0;34m.\u001b[0m\u001b[0mcolab\u001b[0m \u001b[0;32mimport\u001b[0m \u001b[0mdrive\u001b[0m\u001b[0;34m\u001b[0m\u001b[0;34m\u001b[0m\u001b[0m\n\u001b[0;32m----> 2\u001b[0;31m \u001b[0mdrive\u001b[0m\u001b[0;34m.\u001b[0m\u001b[0munmount\u001b[0m\u001b[0;34m(\u001b[0m\u001b[0;34m'/content/drive'\u001b[0m\u001b[0;34m)\u001b[0m\u001b[0;34m\u001b[0m\u001b[0;34m\u001b[0m\u001b[0m\n\u001b[0m",
            "\u001b[0;31mAttributeError\u001b[0m: module 'google.colab.drive' has no attribute 'unmount'"
          ]
        }
      ]
    },
    {
      "cell_type": "code",
      "metadata": {
        "id": "zy9J4j2N7lLa",
        "colab_type": "code",
        "colab": {}
      },
      "source": [
        ""
      ],
      "execution_count": null,
      "outputs": []
    }
  ]
}