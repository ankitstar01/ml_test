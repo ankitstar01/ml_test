{
  "nbformat": 4,
  "nbformat_minor": 0,
  "metadata": {
    "colab": {
      "name": "audio_cut.ipynb",
      "provenance": [],
      "toc_visible": true,
      "include_colab_link": true
    },
    "kernelspec": {
      "name": "python3",
      "display_name": "Python 3"
    },
    "accelerator": "GPU"
  },
  "cells": [
    {
      "cell_type": "markdown",
      "metadata": {
        "id": "view-in-github",
        "colab_type": "text"
      },
      "source": [
        "<a href=\"https://colab.research.google.com/github/ankitstar01/ml_test/blob/master/Smart%20Composer.ipynb\" target=\"_parent\"><img src=\"https://colab.research.google.com/assets/colab-badge.svg\" alt=\"Open In Colab\"/></a>"
      ]
    },
    {
      "cell_type": "markdown",
      "metadata": {
        "id": "F0cMh4TX5f_Q",
        "colab_type": "text"
      },
      "source": [
        "# Smart Composer"
      ]
    },
    {
      "cell_type": "code",
      "metadata": {
        "id": "-tRL9hsF5mZp",
        "colab_type": "code",
        "colab": {
          "base_uri": "https://localhost:8080/",
          "height": 51
        },
        "outputId": "50e869e3-6e3e-4c4a-e71d-fa9736bd026a"
      },
      "source": [
        "#importing os environment\n",
        "import os\n",
        "os.environ['KAGGLE_CONFIG_DIR'] = \"/content/Kaggle\"\n",
        "%cd Kaggle/"
      ],
      "execution_count": 1,
      "outputs": [
        {
          "output_type": "stream",
          "text": [
            "[Errno 2] No such file or directory: 'Kaggle/'\n",
            "/content\n"
          ],
          "name": "stdout"
        }
      ]
    },
    {
      "cell_type": "code",
      "metadata": {
        "id": "1LyudaVN6vfX",
        "colab_type": "code",
        "colab": {
          "base_uri": "https://localhost:8080/",
          "height": 119
        },
        "outputId": "85590255-861a-47d1-b29f-fced4905796a"
      },
      "source": [
        "import shutil\n",
        "!mkdir Kaggle\n",
        "shutil.copyfile(\"/content/drive/My Drive/Colab Notebooks/kaggle.json\",\"/content/Kaggle/kaggle.json\")\n",
        "#downloading the kaggle dataset\n",
        "!kaggle datasets download -d wcukierski/enron-email-dataset\n",
        "\n",
        "#unzipping the zip files\n",
        "!unzip \\*.zip"
      ],
      "execution_count": 3,
      "outputs": [
        {
          "output_type": "stream",
          "text": [
            "Warning: Your Kaggle API key is readable by other users on this system! To fix this, you can run 'chmod 600 /content/Kaggle/kaggle.json'\n",
            "Downloading enron-email-dataset.zip to /content/Kaggle\n",
            " 96% 342M/358M [00:02<00:00, 108MB/s]\n",
            "100% 358M/358M [00:03<00:00, 124MB/s]\n",
            "Archive:  enron-email-dataset.zip\n",
            "  inflating: emails.csv              \n"
          ],
          "name": "stdout"
        }
      ]
    },
    {
      "cell_type": "code",
      "metadata": {
        "id": "Lhn9inHf65Ij",
        "colab_type": "code",
        "colab": {}
      },
      "source": [
        "import numpy as np \n",
        "import pandas as pd\n",
        "import matplotlib.pyplot as plt\n",
        "import email\n",
        "import re\n",
        "import shutil"
      ],
      "execution_count": 4,
      "outputs": []
    },
    {
      "cell_type": "code",
      "metadata": {
        "id": "fgvU11Ul7der",
        "colab_type": "code",
        "colab": {}
      },
      "source": [
        "# shutil.move(\"/content/gdrive/My Drive/Kaggle/emails.csv\",\"/content/emails.csv\")\n",
        "#reading the emails\n",
        "if not 'emails_df' in locals():\n",
        "    emails_df = pd.read_csv('/content/emails.csv')"
      ],
      "execution_count": 5,
      "outputs": []
    },
    {
      "cell_type": "code",
      "metadata": {
        "id": "icjtqU5M87hh",
        "colab_type": "code",
        "colab": {
          "base_uri": "https://localhost:8080/",
          "height": 221
        },
        "outputId": "3d396cca-29eb-4da9-f8c1-cf5d2d693e4e"
      },
      "source": [
        "#printing the matrix size and the top 5 rows of it\n",
        "print(emails_df.shape)\n",
        "emails_df.head()"
      ],
      "execution_count": 6,
      "outputs": [
        {
          "output_type": "stream",
          "text": [
            "(517401, 2)\n"
          ],
          "name": "stdout"
        },
        {
          "output_type": "execute_result",
          "data": {
            "text/html": [
              "<div>\n",
              "<style scoped>\n",
              "    .dataframe tbody tr th:only-of-type {\n",
              "        vertical-align: middle;\n",
              "    }\n",
              "\n",
              "    .dataframe tbody tr th {\n",
              "        vertical-align: top;\n",
              "    }\n",
              "\n",
              "    .dataframe thead th {\n",
              "        text-align: right;\n",
              "    }\n",
              "</style>\n",
              "<table border=\"1\" class=\"dataframe\">\n",
              "  <thead>\n",
              "    <tr style=\"text-align: right;\">\n",
              "      <th></th>\n",
              "      <th>file</th>\n",
              "      <th>message</th>\n",
              "    </tr>\n",
              "  </thead>\n",
              "  <tbody>\n",
              "    <tr>\n",
              "      <th>0</th>\n",
              "      <td>allen-p/_sent_mail/1.</td>\n",
              "      <td>Message-ID: &lt;18782981.1075855378110.JavaMail.e...</td>\n",
              "    </tr>\n",
              "    <tr>\n",
              "      <th>1</th>\n",
              "      <td>allen-p/_sent_mail/10.</td>\n",
              "      <td>Message-ID: &lt;15464986.1075855378456.JavaMail.e...</td>\n",
              "    </tr>\n",
              "    <tr>\n",
              "      <th>2</th>\n",
              "      <td>allen-p/_sent_mail/100.</td>\n",
              "      <td>Message-ID: &lt;24216240.1075855687451.JavaMail.e...</td>\n",
              "    </tr>\n",
              "    <tr>\n",
              "      <th>3</th>\n",
              "      <td>allen-p/_sent_mail/1000.</td>\n",
              "      <td>Message-ID: &lt;13505866.1075863688222.JavaMail.e...</td>\n",
              "    </tr>\n",
              "    <tr>\n",
              "      <th>4</th>\n",
              "      <td>allen-p/_sent_mail/1001.</td>\n",
              "      <td>Message-ID: &lt;30922949.1075863688243.JavaMail.e...</td>\n",
              "    </tr>\n",
              "  </tbody>\n",
              "</table>\n",
              "</div>"
            ],
            "text/plain": [
              "                       file                                            message\n",
              "0     allen-p/_sent_mail/1.  Message-ID: <18782981.1075855378110.JavaMail.e...\n",
              "1    allen-p/_sent_mail/10.  Message-ID: <15464986.1075855378456.JavaMail.e...\n",
              "2   allen-p/_sent_mail/100.  Message-ID: <24216240.1075855687451.JavaMail.e...\n",
              "3  allen-p/_sent_mail/1000.  Message-ID: <13505866.1075863688222.JavaMail.e...\n",
              "4  allen-p/_sent_mail/1001.  Message-ID: <30922949.1075863688243.JavaMail.e..."
            ]
          },
          "metadata": {
            "tags": []
          },
          "execution_count": 6
        }
      ]
    },
    {
      "cell_type": "code",
      "metadata": {
        "id": "0980267k8-eV",
        "colab_type": "code",
        "colab": {}
      },
      "source": [
        "# Convert to message objects from the message strings\n",
        "messages = list(map(email.message_from_string, emails_df['message']))"
      ],
      "execution_count": 7,
      "outputs": []
    },
    {
      "cell_type": "code",
      "metadata": {
        "id": "B_ZOwdON9C7A",
        "colab_type": "code",
        "colab": {
          "base_uri": "https://localhost:8080/",
          "height": 323
        },
        "outputId": "84864f65-0354-49c2-90c9-2822ad01570b"
      },
      "source": [
        "def get_text_from_email(msg):\n",
        "    parts = []\n",
        "    for part in msg.walk():\n",
        "        if part.get_content_type() == 'text/plain':\n",
        "            parts.append( part.get_payload() )\n",
        "    text = ''.join(parts)\n",
        "    return text\n",
        "\n",
        "emails = pd.DataFrame()\n",
        "\n",
        "# Parse content from emails\n",
        "emails['content'] = list(map(get_text_from_email, messages))\n",
        "print(messages[2])\n",
        "print(emails['content'][2])"
      ],
      "execution_count": 8,
      "outputs": [
        {
          "output_type": "stream",
          "text": [
            "Message-ID: <24216240.1075855687451.JavaMail.evans@thyme>\n",
            "Date: Wed, 18 Oct 2000 03:00:00 -0700 (PDT)\n",
            "From: phillip.allen@enron.com\n",
            "To: leah.arsdall@enron.com\n",
            "Subject: Re: test\n",
            "Mime-Version: 1.0\n",
            "Content-Type: text/plain; charset=us-ascii\n",
            "Content-Transfer-Encoding: 7bit\n",
            "X-From: Phillip K Allen\n",
            "X-To: Leah Van Arsdall\n",
            "X-cc: \n",
            "X-bcc: \n",
            "X-Folder: \\Phillip_Allen_Dec2000\\Notes Folders\\'sent mail\n",
            "X-Origin: Allen-P\n",
            "X-FileName: pallen.nsf\n",
            "\n",
            "test successful.  way to go!!!\n",
            "test successful.  way to go!!!\n"
          ],
          "name": "stdout"
        }
      ]
    },
    {
      "cell_type": "code",
      "metadata": {
        "id": "rqc_P5lu9DJ2",
        "colab_type": "code",
        "colab": {
          "base_uri": "https://localhost:8080/",
          "height": 34
        },
        "outputId": "d66b78fc-b18b-477b-b6f7-0ef8add7c834"
      },
      "source": [
        "import gc\n",
        "\n",
        "# Remove variables from memory\n",
        "del messages\n",
        "del emails_df\n",
        "gc.collect()"
      ],
      "execution_count": 9,
      "outputs": [
        {
          "output_type": "execute_result",
          "data": {
            "text/plain": [
              "0"
            ]
          },
          "metadata": {
            "tags": []
          },
          "execution_count": 9
        }
      ]
    },
    {
      "cell_type": "code",
      "metadata": {
        "id": "FBIuyeHJ9OgM",
        "colab_type": "code",
        "colab": {}
      },
      "source": [
        "def normalize_text(text):\n",
        "    text = text.lower()\n",
        "  \n",
        "  # creating a space between a word and the punctuation following it to separate words\n",
        "  # and compact repetition of punctuation\n",
        "  # eg: \"he is a boy..\" => \"he is a boy .\"\n",
        "    text = re.sub(r'([.,!?]+)', r\" \\1 \", text)\n",
        "\n",
        "  # replacing everything with space except (a-z, A-Z, \".\", \"?\", \"!\", \",\", \"'\")\n",
        "    text = re.sub(r\"[^a-zA-Z?.!,']+\", \" \", text)\n",
        "\n",
        "  # Compact spaces\n",
        "    text = re.sub(r'[\" \"]+', \" \", text)\n",
        "\n",
        "  # Remove forwarded messages\n",
        "    text = text.split('forwarded by')[0]\n",
        "\n",
        "    text = text.strip()\n",
        "\n",
        "    return text\n",
        "\n",
        "emails['content'] = list(map(normalize_text, emails['content']))"
      ],
      "execution_count": 10,
      "outputs": []
    },
    {
      "cell_type": "code",
      "metadata": {
        "id": "Y8jpcbpe9Q-a",
        "colab_type": "code",
        "colab": {}
      },
      "source": [
        "# Drop samples with empty content text after normalization\n",
        "emails['content'].replace('', np.nan, inplace=True)\n",
        "emails.dropna(subset=['content'], inplace=True)"
      ],
      "execution_count": 11,
      "outputs": []
    },
    {
      "cell_type": "code",
      "metadata": {
        "id": "MgWlz9rO-OgO",
        "colab_type": "code",
        "colab": {
          "base_uri": "https://localhost:8080/",
          "height": 779
        },
        "outputId": "6901717f-2261-491f-d007-05b66e1596d1"
      },
      "source": [
        "#some sample emails\n",
        "pd.set_option('max_colwidth', -1)\n",
        "emails"
      ],
      "execution_count": 12,
      "outputs": [
        {
          "output_type": "stream",
          "text": [
            "/usr/local/lib/python3.6/dist-packages/ipykernel_launcher.py:2: FutureWarning: Passing a negative integer is deprecated in version 1.0 and will not be supported in future version. Instead, use None to not limit the column width.\n",
            "  \n"
          ],
          "name": "stderr"
        },
        {
          "output_type": "execute_result",
          "data": {
            "text/html": [
              "<div>\n",
              "<style scoped>\n",
              "    .dataframe tbody tr th:only-of-type {\n",
              "        vertical-align: middle;\n",
              "    }\n",
              "\n",
              "    .dataframe tbody tr th {\n",
              "        vertical-align: top;\n",
              "    }\n",
              "\n",
              "    .dataframe thead th {\n",
              "        text-align: right;\n",
              "    }\n",
              "</style>\n",
              "<table border=\"1\" class=\"dataframe\">\n",
              "  <thead>\n",
              "    <tr style=\"text-align: right;\">\n",
              "      <th></th>\n",
              "      <th>content</th>\n",
              "    </tr>\n",
              "  </thead>\n",
              "  <tbody>\n",
              "    <tr>\n",
              "      <th>0</th>\n",
              "      <td>here is our forecast</td>\n",
              "    </tr>\n",
              "    <tr>\n",
              "      <th>1</th>\n",
              "      <td>traveling to have a business meeting takes the fun out of the trip . especially if you have to prepare a presentation . i would suggest holding the business plan meetings here then take a trip without any formal business meetings . i would even try and get some honest opinions on whether a trip is even desired or necessary . as far as the business meetings , i think it would be more productive to try and stimulate discussions across the different groups about what is working and what is not . too often the presenter speaks and the others are quiet just waiting for their turn . the meetings might be better if held in a round table discussion format . my suggestion for where to go is austin . play golf and rent a ski boat and jet ski's . flying somewhere takes too much time .</td>\n",
              "    </tr>\n",
              "    <tr>\n",
              "      <th>2</th>\n",
              "      <td>test successful . way to go !!!</td>\n",
              "    </tr>\n",
              "    <tr>\n",
              "      <th>3</th>\n",
              "      <td>randy , can you send me a schedule of the salary and level of everyone in the scheduling group . plus your thoughts on any changes that need to be made . patti s for example phillip</td>\n",
              "    </tr>\n",
              "    <tr>\n",
              "      <th>4</th>\n",
              "      <td>let's shoot for tuesday at .</td>\n",
              "    </tr>\n",
              "    <tr>\n",
              "      <th>...</th>\n",
              "      <td>...</td>\n",
              "    </tr>\n",
              "    <tr>\n",
              "      <th>517396</th>\n",
              "      <td>this is a trade with oil spec hedge ng john lavorato's book and john zufferli's book cand pwr pr cand pwr pr buys from oil spec hedge ng nymex gas cal , mmbtu day . cal cal , mmbtu day . cal cal , mmbtu day . cal cal , mmbtu day . please confirm receipt john z</td>\n",
              "    </tr>\n",
              "    <tr>\n",
              "      <th>517397</th>\n",
              "      <td>some of my position is with the alberta term book , i will send you only the positions that i have directly with ena .</td>\n",
              "    </tr>\n",
              "    <tr>\n",
              "      <th>517398</th>\n",
              "      <td>original message from doucet , dawn sent wednesday , november , am to zufferli , john subject confidential morning john , i'm still working on the mini prc for lavo . sean lalani has not yet been ranked and rumour has it that he reports to you now . can you confirm and send me a number . thanks !</td>\n",
              "    </tr>\n",
              "    <tr>\n",
              "      <th>517399</th>\n",
              "      <td>analyst rank stephane brodeur chad clark ian cooke lon draper fabian taylor carlos torres ryan watt associate cooper richey</td>\n",
              "    </tr>\n",
              "    <tr>\n",
              "      <th>517400</th>\n",
              "      <td>i think the ymca has a class that is for people recovering from heart attacks i remeber something about that original message from livia zufferli monitor . com enron sent monday , november , am to zufferli , john subject re ali's essays i don't know about the heart classes . i'll look into it , but her dr ravi isn't offering up any suggestions or anything . she saw him before the surgery in august , and he said things were okay . i really don't think he's too helpful . she is lazy but it really frustrates me that she doesn't want to help herself . i told her that not walking is like not taking her heart medication . that didn't seem to resonate . dad is going to go to the ymca tomorrow and maybe get a membership for both of them they have a walking track there at least it's something to do in the winter . when she was down this weekend , we walked around the craft show at the exhibition place and she said that was a lot of exercise hrs . the only problem is that we were just strolling , and not really walking very fast . john . zufferli enron . com to livia zufferli monitor . com cc subject re ali's essays pm just send the essay at home i don't know what to do about mom , i don't think fear is the only thing holding her back , i think she is lazy is there a heart health class in sudbury that has excercise regimines as well as diets ? when is the last time she saw her doctor original message from livia zufferli monitor . com enron sent monday , november , am to zufferli , john subject ali's essays hi john how was thanksgiving ? was the baby shower fun ? i was wondering if you'd have some time to read over ali's chicago essays later tonight ? he's going to submit them on wednesday . let me know if that's okay . do you have a printer at home ? can i send them to your home account ? i don't think ali will be done before about pm or so tonight . ps we need to talk about mom . i saw her this weekend she's gained a lot of weight , and hasn't been exercising at all . dad's pretty frustrated because all she does is watch tv . i had a talk with her yesterday telling her that she has more risk of having a heart attack if she doesn't walk exercise than if she exerts herself when exercising i think she's afraid of having a heart attack while exercising . we need to do something she's lbs now , and should be at around lbs to be healthy . livia this e mail is the property of enron corp . and or its relevant affiliate and may contain confidential and privileged material for the sole use of the intended recipient s . any review , use , distribution or disclosure by others is strictly prohibited . if you are not the intended recipient or authorized to receive for the recipient , please contact the sender or reply to enron corp . at enron . messaging . administration enron . com and delete all copies of the message . this e mail and any attachments hereto are not intended to be an offer or an acceptance and do not create or evidence a binding and enforceable contract between enron corp . or any of its affiliates and the intended recipient or any other party , and may not be relied on by anyone as the basis of a contract by estoppel or otherwise . thank you .</td>\n",
              "    </tr>\n",
              "  </tbody>\n",
              "</table>\n",
              "<p>484131 rows × 1 columns</p>\n",
              "</div>"
            ],
            "text/plain": [
              "                                                                                                                                                                                                                                                                                                                                                                                                                                                                                                                                                                                                                                                                                                                                                                                                                                                                                                                                                                                                                                                                                                                                                                                                                                                                                                                                                                                                                                                                                                                                                                                                                                                                                                                                                                                                                                                                                                                                                                                                                                                                                                                                                                                                                                                                                                                                                                                                                                                                                                                                                                                                                                                                                                                                                                                                                                                                                                                                                                                                                                                                                                                                                                                                                                                                                                                              content\n",
              "0       here is our forecast                                                                                                                                                                                                                                                                                                                                                                                                                                                                                                                                                                                                                                                                                                                                                                                                                                                                                                                                                                                                                                                                                                                                                                                                                                                                                                                                                                                                                                                                                                                                                                                                                                                                                                                                                                                                                                                                                                                                                                                                                                                                                                                                                                                                                                                                                                                                                                                                                                                                                                                                                                                                                                                                                                                                                                                                                                                                                                                                                                                                                                                                                                                                                                                                                                                                                                         \n",
              "1       traveling to have a business meeting takes the fun out of the trip . especially if you have to prepare a presentation . i would suggest holding the business plan meetings here then take a trip without any formal business meetings . i would even try and get some honest opinions on whether a trip is even desired or necessary . as far as the business meetings , i think it would be more productive to try and stimulate discussions across the different groups about what is working and what is not . too often the presenter speaks and the others are quiet just waiting for their turn . the meetings might be better if held in a round table discussion format . my suggestion for where to go is austin . play golf and rent a ski boat and jet ski's . flying somewhere takes too much time .                                                                                                                                                                                                                                                                                                                                                                                                                                                                                                                                                                                                                                                                                                                                                                                                                                                                                                                                                                                                                                                                                                                                                                                                                                                                                                                                                                                                                                                                                                                                                                                                                                                                                                                                                                                                                                                                                                                                                                                                                                                                                                                                                                                                                                                                                                                                                                                                                                                                                                             \n",
              "2       test successful . way to go !!!                                                                                                                                                                                                                                                                                                                                                                                                                                                                                                                                                                                                                                                                                                                                                                                                                                                                                                                                                                                                                                                                                                                                                                                                                                                                                                                                                                                                                                                                                                                                                                                                                                                                                                                                                                                                                                                                                                                                                                                                                                                                                                                                                                                                                                                                                                                                                                                                                                                                                                                                                                                                                                                                                                                                                                                                                                                                                                                                                                                                                                                                                                                                                                                                                                                                                              \n",
              "3       randy , can you send me a schedule of the salary and level of everyone in the scheduling group . plus your thoughts on any changes that need to be made . patti s for example phillip                                                                                                                                                                                                                                                                                                                                                                                                                                                                                                                                                                                                                                                                                                                                                                                                                                                                                                                                                                                                                                                                                                                                                                                                                                                                                                                                                                                                                                                                                                                                                                                                                                                                                                                                                                                                                                                                                                                                                                                                                                                                                                                                                                                                                                                                                                                                                                                                                                                                                                                                                                                                                                                                                                                                                                                                                                                                                                                                                                                                                                                                                                                                        \n",
              "4       let's shoot for tuesday at .                                                                                                                                                                                                                                                                                                                                                                                                                                                                                                                                                                                                                                                                                                                                                                                                                                                                                                                                                                                                                                                                                                                                                                                                                                                                                                                                                                                                                                                                                                                                                                                                                                                                                                                                                                                                                                                                                                                                                                                                                                                                                                                                                                                                                                                                                                                                                                                                                                                                                                                                                                                                                                                                                                                                                                                                                                                                                                                                                                                                                                                                                                                                                                                                                                                                                                 \n",
              "...                              ...                                                                                                                                                                                                                                                                                                                                                                                                                                                                                                                                                                                                                                                                                                                                                                                                                                                                                                                                                                                                                                                                                                                                                                                                                                                                                                                                                                                                                                                                                                                                                                                                                                                                                                                                                                                                                                                                                                                                                                                                                                                                                                                                                                                                                                                                                                                                                                                                                                                                                                                                                                                                                                                                                                                                                                                                                                                                                                                                                                                                                                                                                                                                                                                                                                                                                                 \n",
              "517396  this is a trade with oil spec hedge ng john lavorato's book and john zufferli's book cand pwr pr cand pwr pr buys from oil spec hedge ng nymex gas cal , mmbtu day . cal cal , mmbtu day . cal cal , mmbtu day . cal cal , mmbtu day . please confirm receipt john z                                                                                                                                                                                                                                                                                                                                                                                                                                                                                                                                                                                                                                                                                                                                                                                                                                                                                                                                                                                                                                                                                                                                                                                                                                                                                                                                                                                                                                                                                                                                                                                                                                                                                                                                                                                                                                                                                                                                                                                                                                                                                                                                                                                                                                                                                                                                                                                                                                                                                                                                                                                                                                                                                                                                                                                                                                                                                                                                                                                                                                                         \n",
              "517397  some of my position is with the alberta term book , i will send you only the positions that i have directly with ena .                                                                                                                                                                                                                                                                                                                                                                                                                                                                                                                                                                                                                                                                                                                                                                                                                                                                                                                                                                                                                                                                                                                                                                                                                                                                                                                                                                                                                                                                                                                                                                                                                                                                                                                                                                                                                                                                                                                                                                                                                                                                                                                                                                                                                                                                                                                                                                                                                                                                                                                                                                                                                                                                                                                                                                                                                                                                                                                                                                                                                                                                                                                                                                                                       \n",
              "517398  original message from doucet , dawn sent wednesday , november , am to zufferli , john subject confidential morning john , i'm still working on the mini prc for lavo . sean lalani has not yet been ranked and rumour has it that he reports to you now . can you confirm and send me a number . thanks !                                                                                                                                                                                                                                                                                                                                                                                                                                                                                                                                                                                                                                                                                                                                                                                                                                                                                                                                                                                                                                                                                                                                                                                                                                                                                                                                                                                                                                                                                                                                                                                                                                                                                                                                                                                                                                                                                                                                                                                                                                                                                                                                                                                                                                                                                                                                                                                                                                                                                                                                                                                                                                                                                                                                                                                                                                                                                                                                                                                                                    \n",
              "517399  analyst rank stephane brodeur chad clark ian cooke lon draper fabian taylor carlos torres ryan watt associate cooper richey                                                                                                                                                                                                                                                                                                                                                                                                                                                                                                                                                                                                                                                                                                                                                                                                                                                                                                                                                                                                                                                                                                                                                                                                                                                                                                                                                                                                                                                                                                                                                                                                                                                                                                                                                                                                                                                                                                                                                                                                                                                                                                                                                                                                                                                                                                                                                                                                                                                                                                                                                                                                                                                                                                                                                                                                                                                                                                                                                                                                                                                                                                                                                                                                  \n",
              "517400  i think the ymca has a class that is for people recovering from heart attacks i remeber something about that original message from livia zufferli monitor . com enron sent monday , november , am to zufferli , john subject re ali's essays i don't know about the heart classes . i'll look into it , but her dr ravi isn't offering up any suggestions or anything . she saw him before the surgery in august , and he said things were okay . i really don't think he's too helpful . she is lazy but it really frustrates me that she doesn't want to help herself . i told her that not walking is like not taking her heart medication . that didn't seem to resonate . dad is going to go to the ymca tomorrow and maybe get a membership for both of them they have a walking track there at least it's something to do in the winter . when she was down this weekend , we walked around the craft show at the exhibition place and she said that was a lot of exercise hrs . the only problem is that we were just strolling , and not really walking very fast . john . zufferli enron . com to livia zufferli monitor . com cc subject re ali's essays pm just send the essay at home i don't know what to do about mom , i don't think fear is the only thing holding her back , i think she is lazy is there a heart health class in sudbury that has excercise regimines as well as diets ? when is the last time she saw her doctor original message from livia zufferli monitor . com enron sent monday , november , am to zufferli , john subject ali's essays hi john how was thanksgiving ? was the baby shower fun ? i was wondering if you'd have some time to read over ali's chicago essays later tonight ? he's going to submit them on wednesday . let me know if that's okay . do you have a printer at home ? can i send them to your home account ? i don't think ali will be done before about pm or so tonight . ps we need to talk about mom . i saw her this weekend she's gained a lot of weight , and hasn't been exercising at all . dad's pretty frustrated because all she does is watch tv . i had a talk with her yesterday telling her that she has more risk of having a heart attack if she doesn't walk exercise than if she exerts herself when exercising i think she's afraid of having a heart attack while exercising . we need to do something she's lbs now , and should be at around lbs to be healthy . livia this e mail is the property of enron corp . and or its relevant affiliate and may contain confidential and privileged material for the sole use of the intended recipient s . any review , use , distribution or disclosure by others is strictly prohibited . if you are not the intended recipient or authorized to receive for the recipient , please contact the sender or reply to enron corp . at enron . messaging . administration enron . com and delete all copies of the message . this e mail and any attachments hereto are not intended to be an offer or an acceptance and do not create or evidence a binding and enforceable contract between enron corp . or any of its affiliates and the intended recipient or any other party , and may not be relied on by anyone as the basis of a contract by estoppel or otherwise . thank you .\n",
              "\n",
              "[484131 rows x 1 columns]"
            ]
          },
          "metadata": {
            "tags": []
          },
          "execution_count": 12
        }
      ]
    },
    {
      "cell_type": "markdown",
      "metadata": {
        "id": "XYwivo5U_Mds",
        "colab_type": "text"
      },
      "source": [
        "In the original paper, the dataset is built with emails where the context is provided by the email date, subject and previous message if the user is replying.Unfortunately, in the Enron dataset it's not possible to build the reply relationship between emails.Thus in order to generate the context of a sentence, we train the sequence-to-sequence model to predict the sentence completion from pairs of split sentences.\n",
        "\n",
        "For instance, the sentence 'here is our forecast' is split in the following pairs within the dataset:\n",
        "\n",
        "[\n",
        "  ('<start> here is <end>', '<start> our forecast <end>'),\n",
        "  ('<start> here is our <end>', '<start> forecast <end>')"
      ]
    },
    {
      "cell_type": "code",
      "metadata": {
        "id": "z9pebMxg-O0W",
        "colab_type": "code",
        "colab": {
          "base_uri": "https://localhost:8080/",
          "height": 34
        },
        "outputId": "537664a4-78a6-4a82-cdf4-5f38f1cfc421"
      },
      "source": [
        "# Skip long sentences, which increase maximum length a lot when padding\n",
        "# and make the number of parameters to train explode\n",
        "SENTENCE_MAX_WORDS = 20\n",
        "\n",
        "def generate_dataset (emails):\n",
        "    contents = emails['content']\n",
        "    output = []\n",
        "    vocabulary_sentences = []\n",
        "    i=0\n",
        "    for content in contents:\n",
        "        # Skip emails longer than one sentence\n",
        "        i=i+1\n",
        "        if (len(content) > SENTENCE_MAX_WORDS * 5):\n",
        "            continue\n",
        "\n",
        "        sentences = content.split(' . ')\n",
        "        for sentence in sentences:\n",
        "            # Remove user names from start or end of sentence. This is just an heuristic\n",
        "            # but it's more efficient than compiling the list of names and removing all of them\n",
        "            sentence = re.sub(\"(^\\w+\\s,\\s)|(\\s,\\s\\w+$)\", \"\", sentence)\n",
        "            words = sentence.split(' ')\n",
        "\n",
        "            if ((len(words) > SENTENCE_MAX_WORDS) or (len(words) < 2)):\n",
        "                continue\n",
        "\n",
        "            vocabulary_sentences.append('<start> ' + sentence + ' <end>')\n",
        "\n",
        "            for i in range(1, len(words) - 1):\n",
        "                input_data = '<start> ' + ' '.join(words[:i+1]) + ' <end>'\n",
        "                output_data = '<start> ' + ' '.join(words[i+1:]) + ' <end>'\n",
        "                data = (input_data, output_data)\n",
        "                output.append(data)\n",
        "\n",
        "    return output, vocabulary_sentences,i\n",
        "\n",
        "pairs, vocabulary_sentences,i = generate_dataset(emails)\n",
        "print(i)"
      ],
      "execution_count": 13,
      "outputs": [
        {
          "output_type": "stream",
          "text": [
            "37\n"
          ],
          "name": "stdout"
        }
      ]
    },
    {
      "cell_type": "code",
      "metadata": {
        "id": "bA8oVMb3-iH3",
        "colab_type": "code",
        "colab": {
          "base_uri": "https://localhost:8080/",
          "height": 391
        },
        "outputId": "ebb8e2ce-d61a-4e69-9e82-11a0a1c9241b"
      },
      "source": [
        "#printing the length of the sentence pairs , the vocabulary , sentence pairs and corresponding sentence .\n",
        "print(len(pairs))\n",
        "print(len(vocabulary_sentences))\n",
        "print(*pairs[:10], sep='\\n')\n",
        "print(*vocabulary_sentences[:10], sep='\\n')"
      ],
      "execution_count": 15,
      "outputs": [
        {
          "output_type": "stream",
          "text": [
            "509918\n",
            "104151\n",
            "('<start> here is <end>', '<start> our forecast <end>')\n",
            "('<start> here is our <end>', '<start> forecast <end>')\n",
            "('<start> way to <end>', '<start> go !!! <end>')\n",
            "('<start> way to go <end>', '<start> !!! <end>')\n",
            "(\"<start> let's shoot <end>\", '<start> for tuesday at . <end>')\n",
            "(\"<start> let's shoot for <end>\", '<start> tuesday at . <end>')\n",
            "(\"<start> let's shoot for tuesday <end>\", '<start> at . <end>')\n",
            "(\"<start> let's shoot for tuesday at <end>\", '<start> . <end>')\n",
            "('<start> how about <end>', '<start> either next tuesday or thursday ? phillip <end>')\n",
            "('<start> how about either <end>', '<start> next tuesday or thursday ? phillip <end>')\n",
            "<start> here is our forecast <end>\n",
            "<start> test successful <end>\n",
            "<start> way to go !!! <end>\n",
            "<start> let's shoot for tuesday at . <end>\n",
            "<start> how about either next tuesday or thursday ? phillip <end>\n",
            "<start> any morning between and <end>\n",
            "<start> million is fine phillip <end>\n",
            "<start> i think fletch has a good cpa <end>\n",
            "<start> i am still doing my own . <end>\n",
            "<start> nymex expiration is during this time frame <end>\n"
          ],
          "name": "stdout"
        }
      ]
    },
    {
      "cell_type": "code",
      "metadata": {
        "id": "XHgJY7Rs-k9S",
        "colab_type": "code",
        "colab": {}
      },
      "source": [
        ""
      ],
      "execution_count": 15,
      "outputs": []
    },
    {
      "cell_type": "markdown",
      "metadata": {
        "id": "kiyTjZ7X_W9K",
        "colab_type": "text"
      },
      "source": [
        "We need to transform the text corpora into sequences of integers (each integer being the index of a token in a dictionary) by using keras Tokenizer. We also limit to the 10k most frequent words, deleting uncommon words from sentences.\n",
        "\n",
        "Normally we would use two tokenizers, one for the input strings and a different one for the output text, but in this case we are predicting the same vocabulary in both cases. All the words in the output texts are available also in the input texts because of how dataset pairs are generated."
      ]
    },
    {
      "cell_type": "code",
      "metadata": {
        "id": "Un1rucJ6-O2x",
        "colab_type": "code",
        "colab": {}
      },
      "source": [
        "import tensorflow as tf\n",
        "from tensorflow import keras\n",
        "\n",
        "np.random.seed(42)"
      ],
      "execution_count": 16,
      "outputs": []
    },
    {
      "cell_type": "code",
      "metadata": {
        "id": "fRexdg-B-s5_",
        "colab_type": "code",
        "colab": {}
      },
      "source": [
        "#tokenizer\n",
        "vocab_max_size = 10000\n",
        "\n",
        "def tokenize(text):\n",
        "    tokenizer = keras.preprocessing.text.Tokenizer(filters='', num_words=vocab_max_size)\n",
        "    tokenizer.fit_on_texts(text)\n",
        "\n",
        "    return tokenizer\n",
        "\n",
        "input = [pair[0] for pair in pairs]\n",
        "output = [pair[1] for pair in pairs]\n",
        "tokenizer = tokenize(vocabulary_sentences)\n",
        "\n",
        "encoder_input = tokenizer.texts_to_sequences(input)\n",
        "decoder_input = tokenizer.texts_to_sequences(output)\n",
        "\n",
        "decoder_target = [\n",
        "  [decoder_input[seqN][tokenI + 1]\n",
        "   for tokenI in range(len(decoder_input[seqN]) - 1)]\n",
        "    for seqN in range(len(decoder_input))]\n",
        "\n",
        "# Convert to np.array\n",
        "encoder_input = np.array(encoder_input)\n",
        "decoder_input = np.array(decoder_input)\n",
        "decoder_target = np.array(decoder_target)"
      ],
      "execution_count": 17,
      "outputs": []
    },
    {
      "cell_type": "code",
      "metadata": {
        "id": "aqu5IYli-tIE",
        "colab_type": "code",
        "colab": {}
      },
      "source": [
        "from sklearn.model_selection import train_test_split\n",
        "\n",
        "encoder_input_train, encoder_input_test, decoder_input_train, decoder_input_test, decoder_target_train, decoder_target_test = train_test_split(encoder_input, decoder_input, decoder_target, test_size=0.2)"
      ],
      "execution_count": 18,
      "outputs": []
    },
    {
      "cell_type": "code",
      "metadata": {
        "id": "H04UTwW_-0Mf",
        "colab_type": "code",
        "colab": {
          "base_uri": "https://localhost:8080/",
          "height": 68
        },
        "outputId": "56f220c9-5b8a-4658-df76-cb968d7cfb44"
      },
      "source": [
        "#printing the 2d matrix dimensions \n",
        "print(encoder_input_train.shape, encoder_input_test.shape)\n",
        "print(decoder_input_train.shape, decoder_input_test.shape)\n",
        "print(decoder_target_train.shape, decoder_target_test.shape)"
      ],
      "execution_count": 19,
      "outputs": [
        {
          "output_type": "stream",
          "text": [
            "(407934,) (101984,)\n",
            "(407934,) (101984,)\n",
            "(407934,) (101984,)\n"
          ],
          "name": "stdout"
        }
      ]
    },
    {
      "cell_type": "code",
      "metadata": {
        "id": "yuguN6Af-4KX",
        "colab_type": "code",
        "colab": {}
      },
      "source": [
        "def max_length(t):\n",
        "    return max(len(i) for i in t)\n",
        "\n",
        "max_length_in = max_length(encoder_input)\n",
        "max_length_out = max_length(decoder_input)\n",
        "\n",
        "encoder_input_train = keras.preprocessing.sequence.pad_sequences(encoder_input_train, maxlen=max_length_in, padding=\"post\")\n",
        "decoder_input_train = keras.preprocessing.sequence.pad_sequences(decoder_input_train, maxlen=max_length_out, padding=\"post\")\n",
        "decoder_target_train = keras.preprocessing.sequence.pad_sequences(decoder_target_train, maxlen=max_length_out, padding=\"post\")\n",
        "\n",
        "encoder_input_test = keras.preprocessing.sequence.pad_sequences(encoder_input_test, maxlen=max_length_in, padding=\"post\")\n",
        "decoder_input_test = keras.preprocessing.sequence.pad_sequences(decoder_input_test, maxlen=max_length_out, padding=\"post\")\n",
        "decoder_target_test = keras.preprocessing.sequence.pad_sequences(decoder_target_test, maxlen=max_length_out, padding=\"post\")"
      ],
      "execution_count": 20,
      "outputs": []
    },
    {
      "cell_type": "code",
      "metadata": {
        "id": "cnXnX2aC-9zu",
        "colab_type": "code",
        "colab": {
          "base_uri": "https://localhost:8080/",
          "height": 34
        },
        "outputId": "dc5ed423-18d3-48b8-e512-d23a800ed8f9"
      },
      "source": [
        "#max input output sequence length\n",
        "print(max_length_in, max_length_out)"
      ],
      "execution_count": 21,
      "outputs": [
        {
          "output_type": "stream",
          "text": [
            "21 20\n"
          ],
          "name": "stdout"
        }
      ]
    },
    {
      "cell_type": "code",
      "metadata": {
        "id": "BVuClJtd-_vo",
        "colab_type": "code",
        "colab": {}
      },
      "source": [
        "# Shuffle the data in unison\n",
        "p = np.random.permutation(len(encoder_input_train))\n",
        "encoder_input_train = encoder_input_train[p]\n",
        "decoder_input_train = decoder_input_train[p]\n",
        "decoder_target_train = decoder_target_train[p]\n",
        "\n",
        "q = np.random.permutation(len(encoder_input_test))\n",
        "encoder_input_test = encoder_input_test[q]\n",
        "decoder_input_test = decoder_input_test[q]\n",
        "decoder_target_test = decoder_target_test[q]"
      ],
      "execution_count": 22,
      "outputs": []
    },
    {
      "cell_type": "code",
      "metadata": {
        "id": "TGkVNH-V_iR4",
        "colab_type": "code",
        "colab": {
          "base_uri": "https://localhost:8080/",
          "height": 51
        },
        "outputId": "fb82aadb-d8d9-4069-ddf2-0aa6a13bcc61"
      },
      "source": [
        "import math\n",
        "\n",
        "batch_size = 128\n",
        "vocab_size = vocab_max_size if len(tokenizer.word_index) > vocab_max_size else len(tokenizer.word_index)\n",
        "# Rule of thumb of embedding size: vocab_size ** 0.25\n",
        "embedding_dim = math.ceil(vocab_size ** 0.25)\n",
        "latent_dim = 192 # Latent dimensionality of the encoding space.\n",
        "\n",
        "#printing the vocabulary size and embedding dimension \n",
        "print(vocab_size, embedding_dim)\n",
        "len(tokenizer.word_index)"
      ],
      "execution_count": 23,
      "outputs": [
        {
          "output_type": "stream",
          "text": [
            "10000 10\n"
          ],
          "name": "stdout"
        },
        {
          "output_type": "execute_result",
          "data": {
            "text/plain": [
              "15809"
            ]
          },
          "metadata": {
            "tags": []
          },
          "execution_count": 23
        }
      ]
    },
    {
      "cell_type": "markdown",
      "metadata": {
        "id": "nsIlo2qN__Q3",
        "colab_type": "text"
      },
      "source": [
        "Here we define the RNN models. We start with the Encoder-Decoder model used in training which leverages the \"teacher forcing technique\". Therefore, it will receive as input encoder_input and decoder_input datasets.\n",
        "\n",
        "Then the second model is represented by the inference Decoder which will receive as input the encoded states of the input sequence and the predicted token of the previous time step.\n",
        "\n",
        "Both models use GRU units to preserve the context state, which have been shown to be more accurate than LSTM units and simpler to use since they have only one state."
      ]
    },
    {
      "cell_type": "code",
      "metadata": {
        "id": "ZCCbE5hE_ByT",
        "colab_type": "code",
        "colab": {
          "base_uri": "https://localhost:8080/",
          "height": 561
        },
        "outputId": "f5f17641-bb3e-4ef8-e140-aeb7a0e780cc"
      },
      "source": [
        "# GRU Encoder\n",
        "encoder_in_layer = keras.layers.Input(shape=(max_length_in,))\n",
        "encoder_embedding = keras.layers.Embedding(input_dim=vocab_size, output_dim=embedding_dim)\n",
        "encoder_bi_gru = keras.layers.Bidirectional(keras.layers.GRU(units=latent_dim, return_sequences=True, return_state=True))\n",
        "\n",
        "# Discard the encoder output and use hidden states (h) and memory cells states (c)\n",
        "# for forward (f) and backward (b) layer\n",
        "encoder_out, fstate_h, bstate_h = encoder_bi_gru(encoder_embedding(encoder_in_layer))\n",
        "state_h = keras.layers.Concatenate()([fstate_h, bstate_h])\n",
        "\n",
        "# GRUDecoder\n",
        "decoder_in_layer = keras.layers.Input(shape=(None,))\n",
        "decoder_embedding = keras.layers.Embedding(input_dim=vocab_size, output_dim=embedding_dim)\n",
        "decoder_gru = keras.layers.GRU(units=latent_dim * 2, return_sequences=True, return_state=True)\n",
        "# Discard internal states in training, keep only the output sequence\n",
        "decoder_gru_out, _ = decoder_gru(decoder_embedding(decoder_in_layer), initial_state=state_h)\n",
        "decoder_dense_1 = keras.layers.Dense(128, activation=\"relu\")\n",
        "decoder_dense = keras.layers.Dense(vocab_size, activation=\"softmax\")\n",
        "decoder_out_layer = decoder_dense(keras.layers.Dropout(rate=0.2)(decoder_dense_1(keras.layers.Dropout(rate=0.2)(decoder_gru_out))))\n",
        "\n",
        "# Define the model that uses the Encoder and the Decoder\n",
        "model = keras.models.Model([encoder_in_layer, decoder_in_layer], decoder_out_layer)\n",
        "\n",
        "def perplexity(y_true, y_pred):\n",
        "    return keras.backend.exp(keras.backend.mean(keras.backend.sparse_categorical_crossentropy(y_true, y_pred)))\n",
        "\n",
        "model.compile(optimizer='adam', loss=\"sparse_categorical_crossentropy\", metrics=[perplexity])\n",
        "model.summary()"
      ],
      "execution_count": 24,
      "outputs": [
        {
          "output_type": "stream",
          "text": [
            "Model: \"model\"\n",
            "__________________________________________________________________________________________________\n",
            "Layer (type)                    Output Shape         Param #     Connected to                     \n",
            "==================================================================================================\n",
            "input_1 (InputLayer)            [(None, 21)]         0                                            \n",
            "__________________________________________________________________________________________________\n",
            "embedding (Embedding)           (None, 21, 10)       100000      input_1[0][0]                    \n",
            "__________________________________________________________________________________________________\n",
            "input_2 (InputLayer)            [(None, None)]       0                                            \n",
            "__________________________________________________________________________________________________\n",
            "bidirectional (Bidirectional)   [(None, 21, 384), (N 235008      embedding[0][0]                  \n",
            "__________________________________________________________________________________________________\n",
            "embedding_1 (Embedding)         (None, None, 10)     100000      input_2[0][0]                    \n",
            "__________________________________________________________________________________________________\n",
            "concatenate (Concatenate)       (None, 384)          0           bidirectional[0][1]              \n",
            "                                                                 bidirectional[0][2]              \n",
            "__________________________________________________________________________________________________\n",
            "gru_1 (GRU)                     [(None, None, 384),  456192      embedding_1[0][0]                \n",
            "                                                                 concatenate[0][0]                \n",
            "__________________________________________________________________________________________________\n",
            "dropout_1 (Dropout)             (None, None, 384)    0           gru_1[0][0]                      \n",
            "__________________________________________________________________________________________________\n",
            "dense (Dense)                   (None, None, 128)    49280       dropout_1[0][0]                  \n",
            "__________________________________________________________________________________________________\n",
            "dropout (Dropout)               (None, None, 128)    0           dense[0][0]                      \n",
            "__________________________________________________________________________________________________\n",
            "dense_1 (Dense)                 (None, None, 10000)  1290000     dropout[0][0]                    \n",
            "==================================================================================================\n",
            "Total params: 2,230,480\n",
            "Trainable params: 2,230,480\n",
            "Non-trainable params: 0\n",
            "__________________________________________________________________________________________________\n"
          ],
          "name": "stdout"
        }
      ]
    },
    {
      "cell_type": "code",
      "metadata": {
        "id": "QEaDm18xAFCX",
        "colab_type": "code",
        "colab": {
          "base_uri": "https://localhost:8080/",
          "height": 976
        },
        "outputId": "88f2b55d-a848-4d9b-fd54-e19755a7c94f"
      },
      "source": [
        "#encoder-decoder model structure\n",
        "keras.utils.plot_model(model, \"encoder-decoder.png\", show_shapes=True)"
      ],
      "execution_count": 25,
      "outputs": [
        {
          "output_type": "execute_result",
          "data": {
            "image/png": "[encoded data removed]",
            "text/plain": [
              "<IPython.core.display.Image object>"
            ]
          },
          "metadata": {
            "tags": []
          },
          "execution_count": 25
        }
      ]
    },
    {
      "cell_type": "code",
      "metadata": {
        "id": "soGbL0Wv-0Ws",
        "colab_type": "code",
        "colab": {
          "base_uri": "https://localhost:8080/",
          "height": 187
        },
        "outputId": "f2097fc7-8f41-4ea4-dd92-7e8da6b5a074"
      },
      "source": [
        "#training the model and printing the training and validation losses\n",
        "epochs = 7\n",
        "history = model.fit([encoder_input_train, decoder_input_train], decoder_target_train,\n",
        "                 batch_size=batch_size,\n",
        "                 epochs=epochs,\n",
        "                 validation_split=0.2)\n",
        "\n",
        "def plot_history(history):\n",
        "    plt.plot(history.history['loss'], label=\"Training loss\")\n",
        "    plt.plot(history.history['val_loss'], label=\"Validation loss\")\n",
        "    plt.legend()\n",
        "\n",
        "plot_history(history)"
      ],
      "execution_count": null,
      "outputs": [
        {
          "output_type": "stream",
          "text": [
            "Epoch 1/7\n",
            "2550/2550 [==============================] - 301s 118ms/step - loss: 0.9419 - perplexity: 2.5714 - val_loss: 0.8365 - val_perplexity: 2.3122\n",
            "Epoch 2/7\n",
            "2550/2550 [==============================] - 301s 118ms/step - loss: 0.8688 - perplexity: 2.3888 - val_loss: 0.7707 - val_perplexity: 2.1645\n",
            "Epoch 3/7\n",
            "2550/2550 [==============================] - 301s 118ms/step - loss: 0.8181 - perplexity: 2.2701 - val_loss: 0.7240 - val_perplexity: 2.0654\n",
            "Epoch 4/7\n",
            "2550/2550 [==============================] - 303s 119ms/step - loss: 0.7812 - perplexity: 2.1877 - val_loss: 0.6897 - val_perplexity: 1.9955\n",
            "Epoch 5/7\n",
            "1327/2550 [==============>...............] - ETA: 2:12 - loss: 0.7551 - perplexity: 2.1309"
          ],
          "name": "stdout"
        }
      ]
    },
    {
      "cell_type": "code",
      "metadata": {
        "id": "64ZF2hB2ARY7",
        "colab_type": "code",
        "colab": {
          "base_uri": "https://localhost:8080/",
          "height": 51
        },
        "outputId": "d17375a5-ed8a-4b8f-f389-68e7cf9fceeb"
      },
      "source": [
        "#printing the best loss and perplexity achievable\n",
        "scores = model.evaluate([encoder_input_test[:1000], decoder_input_test[:1000]], decoder_target_test[:1000])\n",
        "print(\"%s: %.2f\" % (model.metrics_names[1], scores[1]))"
      ],
      "execution_count": 36,
      "outputs": [
        {
          "output_type": "stream",
          "text": [
            "32/32 [==============================] - 1s 20ms/step - loss: 0.9324 - perplexity: 2.5429\n",
            "perplexity: 2.54\n"
          ],
          "name": "stdout"
        }
      ]
    },
    {
      "cell_type": "code",
      "metadata": {
        "id": "8olK8TDDGTvj",
        "colab_type": "code",
        "colab": {}
      },
      "source": [
        "# Inference Decoder\n",
        "encoder_model = keras.models.Model(encoder_in_layer, state_h)\n",
        "\n",
        "state_input_h = keras.layers.Input(shape=(latent_dim * 2,))\n",
        "inf_decoder_out, decoder_h = decoder_gru(decoder_embedding(decoder_in_layer), initial_state=state_input_h)\n",
        "inf_decoder_out = decoder_dense(decoder_dense_1(inf_decoder_out))\n",
        "inf_model = keras.models.Model(inputs=[decoder_in_layer, state_input_h], \n",
        "                  outputs=[inf_decoder_out, decoder_h])"
      ],
      "execution_count": 37,
      "outputs": []
    },
    {
      "cell_type": "code",
      "metadata": {
        "id": "vXjdKQSvGWGl",
        "colab_type": "code",
        "colab": {
          "base_uri": "https://localhost:8080/",
          "height": 422
        },
        "outputId": "6c1d01dc-ee84-40ba-d681-988d53a80a99"
      },
      "source": [
        "#the encoder model structure\n",
        "keras.utils.plot_model(encoder_model, \"encoder-model.png\", show_shapes=True)"
      ],
      "execution_count": 38,
      "outputs": [
        {
          "output_type": "execute_result",
          "data": {
            "image/png": "[encoded data removed]",
            "text/plain": [
              "<IPython.core.display.Image object>"
            ]
          },
          "metadata": {
            "tags": []
          },
          "execution_count": 38
        }
      ]
    },
    {
      "cell_type": "code",
      "metadata": {
        "id": "Uv_CZdm8GvwT",
        "colab_type": "code",
        "colab": {
          "base_uri": "https://localhost:8080/",
          "height": 533
        },
        "outputId": "6ec2ed1b-1e65-488f-b12f-2a5ec5f084d4"
      },
      "source": [
        "#inference model structure\n",
        "keras.utils.plot_model(inf_model, \"inference-model.png\", show_shapes=True)"
      ],
      "execution_count": 39,
      "outputs": [
        {
          "output_type": "execute_result",
          "data": {
            "image/png": "[encoded data removed]",
            "text/plain": [
              "<IPython.core.display.Image object>"
            ]
          },
          "metadata": {
            "tags": []
          },
          "execution_count": 39
        }
      ]
    },
    {
      "cell_type": "code",
      "metadata": {
        "id": "LEoVw89PGyiy",
        "colab_type": "code",
        "colab": {
          "base_uri": "https://localhost:8080/",
          "height": 51
        },
        "outputId": "5bb1034f-8a2d-48f9-becd-5d72ccf7a713"
      },
      "source": [
        "def tokenize_text(text):\n",
        "    text = '<start> ' + text.lower() + ' <end>'\n",
        "    text_tensor = tokenizer.texts_to_sequences([text])\n",
        "    text_tensor = keras.preprocessing.sequence.pad_sequences(text_tensor, maxlen=max_length_in, padding=\"post\")\n",
        "    return text_tensor\n",
        "\n",
        "# Reversed map from a tokenizer index to a word\n",
        "index_to_word = dict(map(reversed, tokenizer.word_index.items()))\n",
        "\n",
        "# Given an input string, an encoder model (infenc_model) and a decoder model (infmodel),\n",
        "def decode_sequence(input_tensor):\n",
        "    # Encode the input as state vectors.\n",
        "    state = encoder_model.predict(input_tensor)\n",
        "\n",
        "    target_seq = np.zeros((1, 1))\n",
        "    target_seq[0, 0] = tokenizer.word_index['<start>']\n",
        "    curr_word = \"<start>\"\n",
        "    decoded_sentence = ''\n",
        "\n",
        "    i = 0\n",
        "    while curr_word != \"<end>\" and i < (max_length_out - 1):\n",
        "        output_tokens, h = inf_model.predict([target_seq, state])\n",
        "        curr_token = np.argmax(output_tokens[0, 0])\n",
        "\n",
        "        if (curr_token == 0):\n",
        "            break;\n",
        "\n",
        "        curr_word = index_to_word[curr_token]\n",
        "\n",
        "        decoded_sentence += ' ' + curr_word\n",
        "        target_seq[0, 0] = curr_token\n",
        "        state = h\n",
        "        i += 1\n",
        "\n",
        "    return decoded_sentence\n",
        "  #converting tokens to sequence\n",
        "def tokens_to_seq(tokens):\n",
        "    words = list(map(lambda token: index_to_word[token] if token != 0 else '', tokens))\n",
        "    return ' '.join(words)\n",
        "tokenize_text('have a')"
      ],
      "execution_count": 40,
      "outputs": [
        {
          "output_type": "execute_result",
          "data": {
            "text/plain": [
              "array([[ 1, 22, 14,  2,  0,  0,  0,  0,  0,  0,  0,  0,  0,  0,  0,  0,\n",
              "         0,  0,  0,  0,  0]], dtype=int32)"
            ]
          },
          "metadata": {
            "tags": []
          },
          "execution_count": 40
        }
      ]
    },
    {
      "cell_type": "code",
      "metadata": {
        "id": "XVJwmLpPARip",
        "colab_type": "code",
        "colab": {
          "base_uri": "https://localhost:8080/",
          "height": 762
        },
        "outputId": "3e9078f1-6e53-4ee1-f3a8-43a1d1ffa896"
      },
      "source": [
        "#testing of the inference models with some inputs inside the text array (note-the input must be present inside the splitted pairs of sentence)\n",
        "texts = ['please help ',\n",
        "    'are you',\n",
        "    'have a',\n",
        "    'please review',\n",
        "    'please call me',\n",
        "    'thanks for',\n",
        "    'let me',\n",
        "    'Let me know',\n",
        "    'Let me know if you',\n",
        "    'this sounds',\n",
        "    'is this call going to',\n",
        "    'can you get',\n",
        "    'is it okay',\n",
        "    'it should',\n",
        "    'call if there\\'s',\n",
        "    'gave her a',\n",
        "    'i will let',\n",
        "    'i will be',\n",
        "    'may i get a copy of all the',\n",
        "    'how is our trade',\n",
        "    'this looks like a',\n",
        "    'i am fine with the changes',\n",
        "    'please be sure this'\n",
        "]\n",
        "#inference outputs\n",
        "output = list(map(lambda text: (text, decode_sequence(tokenize_text(text))), texts))\n",
        "\n",
        "output_df = pd.DataFrame(output, columns=[\"input\", \"output\"])\n",
        "output_df.head(len(output))"
      ],
      "execution_count": 42,
      "outputs": [
        {
          "output_type": "execute_result",
          "data": {
            "text/html": [
              "<div>\n",
              "<style scoped>\n",
              "    .dataframe tbody tr th:only-of-type {\n",
              "        vertical-align: middle;\n",
              "    }\n",
              "\n",
              "    .dataframe tbody tr th {\n",
              "        vertical-align: top;\n",
              "    }\n",
              "\n",
              "    .dataframe thead th {\n",
              "        text-align: right;\n",
              "    }\n",
              "</style>\n",
              "<table border=\"1\" class=\"dataframe\">\n",
              "  <thead>\n",
              "    <tr style=\"text-align: right;\">\n",
              "      <th></th>\n",
              "      <th>input</th>\n",
              "      <th>output</th>\n",
              "    </tr>\n",
              "  </thead>\n",
              "  <tbody>\n",
              "    <tr>\n",
              "      <th>0</th>\n",
              "      <td>please help</td>\n",
              "      <td>the attached list &lt;end&gt;</td>\n",
              "    </tr>\n",
              "    <tr>\n",
              "      <th>1</th>\n",
              "      <td>are you</td>\n",
              "      <td>going to get a chance to you ? &lt;end&gt;</td>\n",
              "    </tr>\n",
              "    <tr>\n",
              "      <th>2</th>\n",
              "      <td>have a</td>\n",
              "      <td>look at the list ? &lt;end&gt;</td>\n",
              "    </tr>\n",
              "    <tr>\n",
              "      <th>3</th>\n",
              "      <td>please review</td>\n",
              "      <td>the attached articles &lt;end&gt;</td>\n",
              "    </tr>\n",
              "    <tr>\n",
              "      <th>4</th>\n",
              "      <td>please call me</td>\n",
              "      <td>if you have any questions &lt;end&gt;</td>\n",
              "    </tr>\n",
              "    <tr>\n",
              "      <th>5</th>\n",
              "      <td>thanks for</td>\n",
              "      <td>the help &lt;end&gt;</td>\n",
              "    </tr>\n",
              "    <tr>\n",
              "      <th>6</th>\n",
              "      <td>let me</td>\n",
              "      <td>know if you have any questions &lt;end&gt;</td>\n",
              "    </tr>\n",
              "    <tr>\n",
              "      <th>7</th>\n",
              "      <td>Let me know</td>\n",
              "      <td>if you have any questions &lt;end&gt;</td>\n",
              "    </tr>\n",
              "    <tr>\n",
              "      <th>8</th>\n",
              "      <td>Let me know if you</td>\n",
              "      <td>have any questions &lt;end&gt;</td>\n",
              "    </tr>\n",
              "    <tr>\n",
              "      <th>9</th>\n",
              "      <td>this sounds</td>\n",
              "      <td>are going to be on the office &lt;end&gt;</td>\n",
              "    </tr>\n",
              "    <tr>\n",
              "      <th>10</th>\n",
              "      <td>is this call going to</td>\n",
              "      <td>get a chance &lt;end&gt;</td>\n",
              "    </tr>\n",
              "    <tr>\n",
              "      <th>11</th>\n",
              "      <td>can you get</td>\n",
              "      <td>the following draft of the attached list ? thanks &lt;end&gt;</td>\n",
              "    </tr>\n",
              "    <tr>\n",
              "      <th>12</th>\n",
              "      <td>is it okay</td>\n",
              "      <td>? &lt;end&gt;</td>\n",
              "    </tr>\n",
              "    <tr>\n",
              "      <th>13</th>\n",
              "      <td>it should</td>\n",
              "      <td>be going to be on the office &lt;end&gt;</td>\n",
              "    </tr>\n",
              "    <tr>\n",
              "      <th>14</th>\n",
              "      <td>call if there's</td>\n",
              "      <td>any questions &lt;end&gt;</td>\n",
              "    </tr>\n",
              "    <tr>\n",
              "      <th>15</th>\n",
              "      <td>gave her a</td>\n",
              "      <td>copy of the list &lt;end&gt;</td>\n",
              "    </tr>\n",
              "    <tr>\n",
              "      <th>16</th>\n",
              "      <td>i will let</td>\n",
              "      <td>you know if you have any questions &lt;end&gt;</td>\n",
              "    </tr>\n",
              "    <tr>\n",
              "      <th>17</th>\n",
              "      <td>i will be</td>\n",
              "      <td>out on the office &lt;end&gt;</td>\n",
              "    </tr>\n",
              "    <tr>\n",
              "      <th>18</th>\n",
              "      <td>may i get a copy of all the</td>\n",
              "      <td>email &lt;end&gt;</td>\n",
              "    </tr>\n",
              "    <tr>\n",
              "      <th>19</th>\n",
              "      <td>how is our trade</td>\n",
              "      <td>? &lt;end&gt;</td>\n",
              "    </tr>\n",
              "    <tr>\n",
              "      <th>20</th>\n",
              "      <td>this looks like a</td>\n",
              "      <td>copy of the list &lt;end&gt;</td>\n",
              "    </tr>\n",
              "    <tr>\n",
              "      <th>21</th>\n",
              "      <td>i am fine with the changes</td>\n",
              "      <td>. &lt;end&gt;</td>\n",
              "    </tr>\n",
              "    <tr>\n",
              "      <th>22</th>\n",
              "      <td>please be sure this</td>\n",
              "      <td>to you &lt;end&gt;</td>\n",
              "    </tr>\n",
              "  </tbody>\n",
              "</table>\n",
              "</div>"
            ],
            "text/plain": [
              "                          input                                                    output\n",
              "0   please help                   the attached list <end>                                \n",
              "1   are you                       going to get a chance to you ? <end>                   \n",
              "2   have a                        look at the list ? <end>                               \n",
              "3   please review                 the attached articles <end>                            \n",
              "4   please call me                if you have any questions <end>                        \n",
              "5   thanks for                    the help <end>                                         \n",
              "6   let me                        know if you have any questions <end>                   \n",
              "7   Let me know                   if you have any questions <end>                        \n",
              "8   Let me know if you            have any questions <end>                               \n",
              "9   this sounds                   are going to be on the office <end>                    \n",
              "10  is this call going to         get a chance <end>                                     \n",
              "11  can you get                   the following draft of the attached list ? thanks <end>\n",
              "12  is it okay                    ? <end>                                                \n",
              "13  it should                     be going to be on the office <end>                     \n",
              "14  call if there's               any questions <end>                                    \n",
              "15  gave her a                    copy of the list <end>                                 \n",
              "16  i will let                    you know if you have any questions <end>               \n",
              "17  i will be                     out on the office <end>                                \n",
              "18  may i get a copy of all the   email <end>                                            \n",
              "19  how is our trade              ? <end>                                                \n",
              "20  this looks like a             copy of the list <end>                                 \n",
              "21  i am fine with the changes    . <end>                                                \n",
              "22  please be sure this           to you <end>                                           "
            ]
          },
          "metadata": {
            "tags": []
          },
          "execution_count": 42
        }
      ]
    },
    {
      "cell_type": "code",
      "metadata": {
        "id": "7Y3lRVCJHAyZ",
        "colab_type": "code",
        "colab": {}
      },
      "source": [
        ""
      ],
      "execution_count": null,
      "outputs": []
    },
    {
      "cell_type": "code",
      "metadata": {
        "id": "o96RoqWLHA4H",
        "colab_type": "code",
        "colab": {}
      },
      "source": [
        ""
      ],
      "execution_count": null,
      "outputs": []
    },
    {
      "cell_type": "code",
      "metadata": {
        "id": "PmIY_Vgl7kcZ",
        "colab_type": "code",
        "colab": {
          "base_uri": "https://localhost:8080/",
          "height": 122
        },
        "outputId": "bb706812-6279-43df-d318-dcd01eb551bb"
      },
      "source": [
        "from google.colab import drive\n",
        "drive.mount('/content/drive')"
      ],
      "execution_count": 2,
      "outputs": [
        {
          "output_type": "stream",
          "text": [
            "Go to this URL in a browser: https://accounts.google.com/o/oauth2/auth?client_id=947318989803-6bn6qk8qdgf4n4g3pfee6491hc0brc4i.apps.googleusercontent.com&redirect_uri=urn%3aietf%3awg%3aoauth%3a2.0%3aoob&response_type=code&scope=email%20https%3a%2f%2fwww.googleapis.com%2fauth%2fdocs.test%20https%3a%2f%2fwww.googleapis.com%2fauth%2fdrive%20https%3a%2f%2fwww.googleapis.com%2fauth%2fdrive.photos.readonly%20https%3a%2f%2fwww.googleapis.com%2fauth%2fpeopleapi.readonly\n",
            "\n",
            "Enter your authorization code:\n",
            "··········\n",
            "Mounted at /content/drive\n"
          ],
          "name": "stdout"
        }
      ]
    },
    {
      "cell_type": "code",
      "metadata": {
        "id": "zy9J4j2N7lLa",
        "colab_type": "code",
        "colab": {}
      },
      "source": [
        ""
      ],
      "execution_count": null,
      "outputs": []
    }
  ]
}