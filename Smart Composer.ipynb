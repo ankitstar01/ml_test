{
  "nbformat": 4,
  "nbformat_minor": 0,
  "metadata": {
    "colab": {
      "name": "audio_cut.ipynb",
      "provenance": [],
      "toc_visible": true,
      "include_colab_link": true
    },
    "kernelspec": {
      "name": "python3",
      "display_name": "Python 3"
    },
    "accelerator": "GPU"
  },
  "cells": [
    {
      "cell_type": "markdown",
      "metadata": {
        "id": "view-in-github",
        "colab_type": "text"
      },
      "source": [
        "<a href=\"https://colab.research.google.com/github/ankitstar01/ml_test/blob/master/Smart%20Composer.ipynb\" target=\"_parent\"><img src=\"https://colab.research.google.com/assets/colab-badge.svg\" alt=\"Open In Colab\"/></a>"
      ]
    },
    {
      "cell_type": "markdown",
      "metadata": {
        "id": "F0cMh4TX5f_Q"
      },
      "source": [
        "# Smart Composer"
      ]
    },
    {
      "cell_type": "code",
      "metadata": {
        "id": "-tRL9hsF5mZp",
        "outputId": "e6b9b1df-86dc-46da-bf52-a0e5231b6357",
        "colab": {
          "base_uri": "https://localhost:8080/",
          "height": 165
        }
      },
      "source": [
        "from google.colab import drive\n",
        "drive.mount('/content/drive')\n",
        "\n",
        "#importing os environment\n",
        "import os\n",
        "os.environ['KAGGLE_CONFIG_DIR'] = \"/content/Kaggle\"\n",
        "%cd Kaggle/"
      ],
      "execution_count": null,
      "outputs": [
        {
          "output_type": "stream",
          "text": [
            "Go to this URL in a browser: https://accounts.google.com/o/oauth2/auth?client_id=947318989803-6bn6qk8qdgf4n4g3pfee6491hc0brc4i.apps.googleusercontent.com&redirect_uri=urn%3aietf%3awg%3aoauth%3a2.0%3aoob&scope=email%20https%3a%2f%2fwww.googleapis.com%2fauth%2fdocs.test%20https%3a%2f%2fwww.googleapis.com%2fauth%2fdrive%20https%3a%2f%2fwww.googleapis.com%2fauth%2fdrive.photos.readonly%20https%3a%2f%2fwww.googleapis.com%2fauth%2fpeopleapi.readonly&response_type=code\n",
            "\n",
            "Enter your authorization code:\n",
            "··········\n",
            "Mounted at /content/drive\n",
            "[Errno 2] No such file or directory: 'Kaggle/'\n",
            "/content\n"
          ],
          "name": "stdout"
        }
      ]
    },
    {
      "cell_type": "code",
      "metadata": {
        "id": "AZtED9NwIfh2"
      },
      "source": [
        ""
      ],
      "execution_count": null,
      "outputs": []
    },
    {
      "cell_type": "code",
      "metadata": {
        "id": "1LyudaVN6vfX",
        "outputId": "0d030a7c-8c76-458e-f2ba-8f68b36be9a6",
        "colab": {
          "base_uri": "https://localhost:8080/",
          "height": 272
        }
      },
      "source": [
        "import shutil\n",
        "import requests\n",
        "\n",
        "!mkdir Kaggle\n",
        "shutil.copyfile(\"/content/drive/My Drive/Colab Notebooks/kaggle.json\",\"/content/Kaggle/kaggle.json\")\n",
        "shutil.copyfile(\"/content/drive/My Drive/Colab Notebooks/globe.zip\",\"/content/globe.zip\")\n",
        "\n",
        "#downloading the kaggle dataset\n",
        "!kaggle datasets download -d wcukierski/enron-email-dataset\n",
        "\n",
        "#unzipping the zip files\n",
        "!unzip \\*.zip"
      ],
      "execution_count": null,
      "outputs": [
        {
          "output_type": "stream",
          "text": [
            "Warning: Your Kaggle API key is readable by other users on this system! To fix this, you can run 'chmod 600 /content/Kaggle/kaggle.json'\n",
            "Downloading enron-email-dataset.zip to /content\n",
            " 96% 345M/358M [00:06<00:00, 55.5MB/s]\n",
            "100% 358M/358M [00:06<00:00, 59.2MB/s]\n",
            "Archive:  globe.zip\n",
            "  inflating: glove.6B.50d.txt        \n",
            "  inflating: glove.6B.100d.txt       \n",
            "  inflating: glove.6B.200d.txt       \n",
            "  inflating: glove.6B.300d.txt       \n",
            "\n",
            "Archive:  enron-email-dataset.zip\n",
            "  inflating: emails.csv              \n",
            "\n",
            "2 archives were successfully processed.\n"
          ],
          "name": "stdout"
        }
      ]
    },
    {
      "cell_type": "code",
      "metadata": {
        "id": "Lhn9inHf65Ij"
      },
      "source": [
        "import numpy as np \n",
        "import pandas as pd\n",
        "import matplotlib.pyplot as plt\n",
        "import email\n",
        "import re\n",
        "import shutil\n"
      ],
      "execution_count": null,
      "outputs": []
    },
    {
      "cell_type": "code",
      "metadata": {
        "id": "fgvU11Ul7der"
      },
      "source": [
        "# shutil.move(\"/content/gdrive/My Drive/Kaggle/emails.csv\",\"/content/emails.csv\")\n",
        "#reading the emails\n",
        "if not 'emails_df' in locals():\n",
        "    emails_df = pd.read_csv('/content/emails.csv')"
      ],
      "execution_count": null,
      "outputs": []
    },
    {
      "cell_type": "code",
      "metadata": {
        "id": "icjtqU5M87hh",
        "outputId": "9d314a14-42a1-4ea0-efc9-d4ba83baf452",
        "colab": {
          "base_uri": "https://localhost:8080/",
          "height": 216
        }
      },
      "source": [
        "#printing the matrix size and the top 5 rows of it\n",
        "print(emails_df.shape)\n",
        "emails_df.head()"
      ],
      "execution_count": null,
      "outputs": [
        {
          "output_type": "stream",
          "text": [
            "(517401, 2)\n"
          ],
          "name": "stdout"
        },
        {
          "output_type": "execute_result",
          "data": {
            "text/html": [
              "<div>\n",
              "<style scoped>\n",
              "    .dataframe tbody tr th:only-of-type {\n",
              "        vertical-align: middle;\n",
              "    }\n",
              "\n",
              "    .dataframe tbody tr th {\n",
              "        vertical-align: top;\n",
              "    }\n",
              "\n",
              "    .dataframe thead th {\n",
              "        text-align: right;\n",
              "    }\n",
              "</style>\n",
              "<table border=\"1\" class=\"dataframe\">\n",
              "  <thead>\n",
              "    <tr style=\"text-align: right;\">\n",
              "      <th></th>\n",
              "      <th>file</th>\n",
              "      <th>message</th>\n",
              "    </tr>\n",
              "  </thead>\n",
              "  <tbody>\n",
              "    <tr>\n",
              "      <th>0</th>\n",
              "      <td>allen-p/_sent_mail/1.</td>\n",
              "      <td>Message-ID: &lt;18782981.1075855378110.JavaMail.e...</td>\n",
              "    </tr>\n",
              "    <tr>\n",
              "      <th>1</th>\n",
              "      <td>allen-p/_sent_mail/10.</td>\n",
              "      <td>Message-ID: &lt;15464986.1075855378456.JavaMail.e...</td>\n",
              "    </tr>\n",
              "    <tr>\n",
              "      <th>2</th>\n",
              "      <td>allen-p/_sent_mail/100.</td>\n",
              "      <td>Message-ID: &lt;24216240.1075855687451.JavaMail.e...</td>\n",
              "    </tr>\n",
              "    <tr>\n",
              "      <th>3</th>\n",
              "      <td>allen-p/_sent_mail/1000.</td>\n",
              "      <td>Message-ID: &lt;13505866.1075863688222.JavaMail.e...</td>\n",
              "    </tr>\n",
              "    <tr>\n",
              "      <th>4</th>\n",
              "      <td>allen-p/_sent_mail/1001.</td>\n",
              "      <td>Message-ID: &lt;30922949.1075863688243.JavaMail.e...</td>\n",
              "    </tr>\n",
              "  </tbody>\n",
              "</table>\n",
              "</div>"
            ],
            "text/plain": [
              "                       file                                            message\n",
              "0     allen-p/_sent_mail/1.  Message-ID: <18782981.1075855378110.JavaMail.e...\n",
              "1    allen-p/_sent_mail/10.  Message-ID: <15464986.1075855378456.JavaMail.e...\n",
              "2   allen-p/_sent_mail/100.  Message-ID: <24216240.1075855687451.JavaMail.e...\n",
              "3  allen-p/_sent_mail/1000.  Message-ID: <13505866.1075863688222.JavaMail.e...\n",
              "4  allen-p/_sent_mail/1001.  Message-ID: <30922949.1075863688243.JavaMail.e..."
            ]
          },
          "metadata": {
            "tags": []
          },
          "execution_count": 15
        }
      ]
    },
    {
      "cell_type": "code",
      "metadata": {
        "id": "0980267k8-eV"
      },
      "source": [
        "# Convert to message objects from the message strings\n",
        "messages = list(map(email.message_from_string, emails_df['message']))"
      ],
      "execution_count": null,
      "outputs": []
    },
    {
      "cell_type": "code",
      "metadata": {
        "id": "B_ZOwdON9C7A",
        "outputId": "a68e2939-276d-42f9-d9f5-ff20120bf72a",
        "colab": {
          "base_uri": "https://localhost:8080/",
          "height": 345
        }
      },
      "source": [
        "def get_text_from_email(msg):\n",
        "    parts = []\n",
        "    for part in msg.walk():\n",
        "        if part.get_content_type() == 'text/plain':\n",
        "            parts.append( part.get_payload() )\n",
        "    text = ''.join(parts)\n",
        "    return text\n",
        "\n",
        "emails = pd.DataFrame()\n",
        "\n",
        "# Parse content from emails\n",
        "emails['content'] = list(map(get_text_from_email, messages))\n",
        "print(messages[2])\n",
        "print(emails['content'][2])"
      ],
      "execution_count": null,
      "outputs": [
        {
          "output_type": "stream",
          "text": [
            "Message-ID: <24216240.1075855687451.JavaMail.evans@thyme>\n",
            "Date: Wed, 18 Oct 2000 03:00:00 -0700 (PDT)\n",
            "From: phillip.allen@enron.com\n",
            "To: leah.arsdall@enron.com\n",
            "Subject: Re: test\n",
            "Mime-Version: 1.0\n",
            "Content-Type: text/plain; charset=us-ascii\n",
            "Content-Transfer-Encoding: 7bit\n",
            "X-From: Phillip K Allen\n",
            "X-To: Leah Van Arsdall\n",
            "X-cc: \n",
            "X-bcc: \n",
            "X-Folder: \\Phillip_Allen_Dec2000\\Notes Folders\\'sent mail\n",
            "X-Origin: Allen-P\n",
            "X-FileName: pallen.nsf\n",
            "\n",
            "test successful.  way to go!!!\n",
            "test successful.  way to go!!!\n"
          ],
          "name": "stdout"
        }
      ]
    },
    {
      "cell_type": "code",
      "metadata": {
        "id": "rqc_P5lu9DJ2",
        "outputId": "12d3d5fa-db24-4319-e63c-c0f30dc729f8",
        "colab": {
          "base_uri": "https://localhost:8080/",
          "height": 35
        }
      },
      "source": [
        "import gc\n",
        "\n",
        "# Remove variables from memory\n",
        "# del messages\n",
        "del emails_df\n",
        "gc.collect()"
      ],
      "execution_count": null,
      "outputs": [
        {
          "output_type": "execute_result",
          "data": {
            "text/plain": [
              "0"
            ]
          },
          "metadata": {
            "tags": []
          },
          "execution_count": 86
        }
      ]
    },
    {
      "cell_type": "code",
      "metadata": {
        "id": "FBIuyeHJ9OgM"
      },
      "source": [
        "def start_process(text):\n",
        "  regix=r\"(hello) ([\\s]*,)\"\n",
        "  if not re.search(regix,text):\n",
        "    text=re.sub(r'(^[A-Za-z]*)+([\\s]*,)',\"\",text)\n",
        "    text= re.sub(r\"^\\s+\", \"\", text)\n",
        "  return text\n",
        "\n",
        "def normalize_text(text):\n",
        "    text = text.lower()\n",
        "  \n",
        "  # creating a space between a word and the punctuation following it to separate words\n",
        "  # and compact repetition of punctuation\n",
        "  # eg: \"he is a boy..\" => \"he is a boy .\"\n",
        "    text = re.sub(r'([.,!?]+)', r\" \\1 \", text)\n",
        "\n",
        "  # replacing everything with space except (a-z, A-Z, \".\", \"?\", \"!\", \",\", \"'\")\n",
        "    text = re.sub(r\"[^a-zA-Z?.!,']+\", \" \", text)\n",
        "\n",
        "  # Compact spaces\n",
        "    text = re.sub(r'[\" \"]+', \" \", text)\n",
        "\n",
        "    text=start_process(text)\n",
        "\n",
        "  # Remove forwarded messages\n",
        "    text = text.split('forwarded by')[0]\n",
        "\n",
        "    text = text.strip()\n",
        "\n",
        "    return text\n",
        "\n",
        "emails['content'] = list(map(normalize_text, emails['content']))"
      ],
      "execution_count": null,
      "outputs": []
    },
    {
      "cell_type": "code",
      "metadata": {
        "id": "Y8jpcbpe9Q-a"
      },
      "source": [
        "# Drop samples with empty content text after normalization\n",
        "emails['content'].replace('', np.nan, inplace=True)\n",
        "emails.dropna(subset=['content'], inplace=True)"
      ],
      "execution_count": null,
      "outputs": []
    },
    {
      "cell_type": "code",
      "metadata": {
        "id": "MgWlz9rO-OgO",
        "outputId": "006723e6-d0fd-4618-b2b0-e4f45904bae2",
        "colab": {
          "base_uri": "https://localhost:8080/",
          "height": 809
        }
      },
      "source": [
        "#some sample emails\n",
        "pd.set_option('max_colwidth', -1)\n",
        "emails"
      ],
      "execution_count": null,
      "outputs": [
        {
          "output_type": "stream",
          "text": [
            "/usr/local/lib/python3.6/dist-packages/ipykernel_launcher.py:2: FutureWarning: Passing a negative integer is deprecated in version 1.0 and will not be supported in future version. Instead, use None to not limit the column width.\n",
            "  \n"
          ],
          "name": "stderr"
        },
        {
          "output_type": "execute_result",
          "data": {
            "text/html": [
              "<div>\n",
              "<style scoped>\n",
              "    .dataframe tbody tr th:only-of-type {\n",
              "        vertical-align: middle;\n",
              "    }\n",
              "\n",
              "    .dataframe tbody tr th {\n",
              "        vertical-align: top;\n",
              "    }\n",
              "\n",
              "    .dataframe thead th {\n",
              "        text-align: right;\n",
              "    }\n",
              "</style>\n",
              "<table border=\"1\" class=\"dataframe\">\n",
              "  <thead>\n",
              "    <tr style=\"text-align: right;\">\n",
              "      <th></th>\n",
              "      <th>content</th>\n",
              "    </tr>\n",
              "  </thead>\n",
              "  <tbody>\n",
              "    <tr>\n",
              "      <th>0</th>\n",
              "      <td>here is our forecast</td>\n",
              "    </tr>\n",
              "    <tr>\n",
              "      <th>1</th>\n",
              "      <td>traveling to have a business meeting takes the fun out of the trip . especially if you have to prepare a presentation . i would suggest holding the business plan meetings here then take a trip without any formal business meetings . i would even try and get some honest opinions on whether a trip is even desired or necessary . as far as the business meetings , i think it would be more productive to try and stimulate discussions across the different groups about what is working and what is not . too often the presenter speaks and the others are quiet just waiting for their turn . the meetings might be better if held in a round table discussion format . my suggestion for where to go is austin . play golf and rent a ski boat and jet ski's . flying somewhere takes too much time .</td>\n",
              "    </tr>\n",
              "    <tr>\n",
              "      <th>2</th>\n",
              "      <td>test successful . way to go !!!</td>\n",
              "    </tr>\n",
              "    <tr>\n",
              "      <th>3</th>\n",
              "      <td>can you send me a schedule of the salary and level of everyone in the scheduling group . plus your thoughts on any changes that need to be made . patti s for example phillip</td>\n",
              "    </tr>\n",
              "    <tr>\n",
              "      <th>4</th>\n",
              "      <td>let's shoot for tuesday at .</td>\n",
              "    </tr>\n",
              "    <tr>\n",
              "      <th>...</th>\n",
              "      <td>...</td>\n",
              "    </tr>\n",
              "    <tr>\n",
              "      <th>517396</th>\n",
              "      <td>this is a trade with oil spec hedge ng john lavorato's book and john zufferli's book cand pwr pr cand pwr pr buys from oil spec hedge ng nymex gas cal , mmbtu day . cal cal , mmbtu day . cal cal , mmbtu day . cal cal , mmbtu day . please confirm receipt john z</td>\n",
              "    </tr>\n",
              "    <tr>\n",
              "      <th>517397</th>\n",
              "      <td>some of my position is with the alberta term book , i will send you only the positions that i have directly with ena .</td>\n",
              "    </tr>\n",
              "    <tr>\n",
              "      <th>517398</th>\n",
              "      <td>original message from doucet , dawn sent wednesday , november , am to zufferli , john subject confidential morning john , i'm still working on the mini prc for lavo . sean lalani has not yet been ranked and rumour has it that he reports to you now . can you confirm and send me a number . thanks !</td>\n",
              "    </tr>\n",
              "    <tr>\n",
              "      <th>517399</th>\n",
              "      <td>analyst rank stephane brodeur chad clark ian cooke lon draper fabian taylor carlos torres ryan watt associate cooper richey</td>\n",
              "    </tr>\n",
              "    <tr>\n",
              "      <th>517400</th>\n",
              "      <td>i think the ymca has a class that is for people recovering from heart attacks i remeber something about that original message from livia zufferli monitor . com enron sent monday , november , am to zufferli , john subject re ali's essays i don't know about the heart classes . i'll look into it , but her dr ravi isn't offering up any suggestions or anything . she saw him before the surgery in august , and he said things were okay . i really don't think he's too helpful . she is lazy but it really frustrates me that she doesn't want to help herself . i told her that not walking is like not taking her heart medication . that didn't seem to resonate . dad is going to go to the ymca tomorrow and maybe get a membership for both of them they have a walking track there at least it's something to do in the winter . when she was down this weekend , we walked around the craft show at the exhibition place and she said that was a lot of exercise hrs . the only problem is that we were just strolling , and not really walking very fast . john . zufferli enron . com to livia zufferli monitor . com cc subject re ali's essays pm just send the essay at home i don't know what to do about mom , i don't think fear is the only thing holding her back , i think she is lazy is there a heart health class in sudbury that has excercise regimines as well as diets ? when is the last time she saw her doctor original message from livia zufferli monitor . com enron sent monday , november , am to zufferli , john subject ali's essays hi john how was thanksgiving ? was the baby shower fun ? i was wondering if you'd have some time to read over ali's chicago essays later tonight ? he's going to submit them on wednesday . let me know if that's okay . do you have a printer at home ? can i send them to your home account ? i don't think ali will be done before about pm or so tonight . ps we need to talk about mom . i saw her this weekend she's gained a lot of weight , and hasn't been exercising at all . dad's pretty frustrated because all she does is watch tv . i had a talk with her yesterday telling her that she has more risk of having a heart attack if she doesn't walk exercise than if she exerts herself when exercising i think she's afraid of having a heart attack while exercising . we need to do something she's lbs now , and should be at around lbs to be healthy . livia this e mail is the property of enron corp . and or its relevant affiliate and may contain confidential and privileged material for the sole use of the intended recipient s . any review , use , distribution or disclosure by others is strictly prohibited . if you are not the intended recipient or authorized to receive for the recipient , please contact the sender or reply to enron corp . at enron . messaging . administration enron . com and delete all copies of the message . this e mail and any attachments hereto are not intended to be an offer or an acceptance and do not create or evidence a binding and enforceable contract between enron corp . or any of its affiliates and the intended recipient or any other party , and may not be relied on by anyone as the basis of a contract by estoppel or otherwise . thank you .</td>\n",
              "    </tr>\n",
              "  </tbody>\n",
              "</table>\n",
              "<p>484109 rows × 1 columns</p>\n",
              "</div>"
            ],
            "text/plain": [
              "                                                                                                                                                                                                                                                                                                                                                                                                                                                                                                                                                                                                                                                                                                                                                                                                                                                                                                                                                                                                                                                                                                                                                                                                                                                                                                                                                                                                                                                                                                                                                                                                                                                                                                                                                                                                                                                                                                                                                                                                                                                                                                                                                                                                                                                                                                                                                                                                                                                                                                                                                                                                                                                                                                                                                                                                                                                                                                                                                                                                                                                                                                                                                                                                                                                                                                                              content\n",
              "0       here is our forecast                                                                                                                                                                                                                                                                                                                                                                                                                                                                                                                                                                                                                                                                                                                                                                                                                                                                                                                                                                                                                                                                                                                                                                                                                                                                                                                                                                                                                                                                                                                                                                                                                                                                                                                                                                                                                                                                                                                                                                                                                                                                                                                                                                                                                                                                                                                                                                                                                                                                                                                                                                                                                                                                                                                                                                                                                                                                                                                                                                                                                                                                                                                                                                                                                                                                                                         \n",
              "1       traveling to have a business meeting takes the fun out of the trip . especially if you have to prepare a presentation . i would suggest holding the business plan meetings here then take a trip without any formal business meetings . i would even try and get some honest opinions on whether a trip is even desired or necessary . as far as the business meetings , i think it would be more productive to try and stimulate discussions across the different groups about what is working and what is not . too often the presenter speaks and the others are quiet just waiting for their turn . the meetings might be better if held in a round table discussion format . my suggestion for where to go is austin . play golf and rent a ski boat and jet ski's . flying somewhere takes too much time .                                                                                                                                                                                                                                                                                                                                                                                                                                                                                                                                                                                                                                                                                                                                                                                                                                                                                                                                                                                                                                                                                                                                                                                                                                                                                                                                                                                                                                                                                                                                                                                                                                                                                                                                                                                                                                                                                                                                                                                                                                                                                                                                                                                                                                                                                                                                                                                                                                                                                                             \n",
              "2       test successful . way to go !!!                                                                                                                                                                                                                                                                                                                                                                                                                                                                                                                                                                                                                                                                                                                                                                                                                                                                                                                                                                                                                                                                                                                                                                                                                                                                                                                                                                                                                                                                                                                                                                                                                                                                                                                                                                                                                                                                                                                                                                                                                                                                                                                                                                                                                                                                                                                                                                                                                                                                                                                                                                                                                                                                                                                                                                                                                                                                                                                                                                                                                                                                                                                                                                                                                                                                                              \n",
              "3       can you send me a schedule of the salary and level of everyone in the scheduling group . plus your thoughts on any changes that need to be made . patti s for example phillip                                                                                                                                                                                                                                                                                                                                                                                                                                                                                                                                                                                                                                                                                                                                                                                                                                                                                                                                                                                                                                                                                                                                                                                                                                                                                                                                                                                                                                                                                                                                                                                                                                                                                                                                                                                                                                                                                                                                                                                                                                                                                                                                                                                                                                                                                                                                                                                                                                                                                                                                                                                                                                                                                                                                                                                                                                                                                                                                                                                                                                                                                                                                                \n",
              "4       let's shoot for tuesday at .                                                                                                                                                                                                                                                                                                                                                                                                                                                                                                                                                                                                                                                                                                                                                                                                                                                                                                                                                                                                                                                                                                                                                                                                                                                                                                                                                                                                                                                                                                                                                                                                                                                                                                                                                                                                                                                                                                                                                                                                                                                                                                                                                                                                                                                                                                                                                                                                                                                                                                                                                                                                                                                                                                                                                                                                                                                                                                                                                                                                                                                                                                                                                                                                                                                                                                 \n",
              "...                              ...                                                                                                                                                                                                                                                                                                                                                                                                                                                                                                                                                                                                                                                                                                                                                                                                                                                                                                                                                                                                                                                                                                                                                                                                                                                                                                                                                                                                                                                                                                                                                                                                                                                                                                                                                                                                                                                                                                                                                                                                                                                                                                                                                                                                                                                                                                                                                                                                                                                                                                                                                                                                                                                                                                                                                                                                                                                                                                                                                                                                                                                                                                                                                                                                                                                                                                 \n",
              "517396  this is a trade with oil spec hedge ng john lavorato's book and john zufferli's book cand pwr pr cand pwr pr buys from oil spec hedge ng nymex gas cal , mmbtu day . cal cal , mmbtu day . cal cal , mmbtu day . cal cal , mmbtu day . please confirm receipt john z                                                                                                                                                                                                                                                                                                                                                                                                                                                                                                                                                                                                                                                                                                                                                                                                                                                                                                                                                                                                                                                                                                                                                                                                                                                                                                                                                                                                                                                                                                                                                                                                                                                                                                                                                                                                                                                                                                                                                                                                                                                                                                                                                                                                                                                                                                                                                                                                                                                                                                                                                                                                                                                                                                                                                                                                                                                                                                                                                                                                                                                         \n",
              "517397  some of my position is with the alberta term book , i will send you only the positions that i have directly with ena .                                                                                                                                                                                                                                                                                                                                                                                                                                                                                                                                                                                                                                                                                                                                                                                                                                                                                                                                                                                                                                                                                                                                                                                                                                                                                                                                                                                                                                                                                                                                                                                                                                                                                                                                                                                                                                                                                                                                                                                                                                                                                                                                                                                                                                                                                                                                                                                                                                                                                                                                                                                                                                                                                                                                                                                                                                                                                                                                                                                                                                                                                                                                                                                                       \n",
              "517398  original message from doucet , dawn sent wednesday , november , am to zufferli , john subject confidential morning john , i'm still working on the mini prc for lavo . sean lalani has not yet been ranked and rumour has it that he reports to you now . can you confirm and send me a number . thanks !                                                                                                                                                                                                                                                                                                                                                                                                                                                                                                                                                                                                                                                                                                                                                                                                                                                                                                                                                                                                                                                                                                                                                                                                                                                                                                                                                                                                                                                                                                                                                                                                                                                                                                                                                                                                                                                                                                                                                                                                                                                                                                                                                                                                                                                                                                                                                                                                                                                                                                                                                                                                                                                                                                                                                                                                                                                                                                                                                                                                                    \n",
              "517399  analyst rank stephane brodeur chad clark ian cooke lon draper fabian taylor carlos torres ryan watt associate cooper richey                                                                                                                                                                                                                                                                                                                                                                                                                                                                                                                                                                                                                                                                                                                                                                                                                                                                                                                                                                                                                                                                                                                                                                                                                                                                                                                                                                                                                                                                                                                                                                                                                                                                                                                                                                                                                                                                                                                                                                                                                                                                                                                                                                                                                                                                                                                                                                                                                                                                                                                                                                                                                                                                                                                                                                                                                                                                                                                                                                                                                                                                                                                                                                                                  \n",
              "517400  i think the ymca has a class that is for people recovering from heart attacks i remeber something about that original message from livia zufferli monitor . com enron sent monday , november , am to zufferli , john subject re ali's essays i don't know about the heart classes . i'll look into it , but her dr ravi isn't offering up any suggestions or anything . she saw him before the surgery in august , and he said things were okay . i really don't think he's too helpful . she is lazy but it really frustrates me that she doesn't want to help herself . i told her that not walking is like not taking her heart medication . that didn't seem to resonate . dad is going to go to the ymca tomorrow and maybe get a membership for both of them they have a walking track there at least it's something to do in the winter . when she was down this weekend , we walked around the craft show at the exhibition place and she said that was a lot of exercise hrs . the only problem is that we were just strolling , and not really walking very fast . john . zufferli enron . com to livia zufferli monitor . com cc subject re ali's essays pm just send the essay at home i don't know what to do about mom , i don't think fear is the only thing holding her back , i think she is lazy is there a heart health class in sudbury that has excercise regimines as well as diets ? when is the last time she saw her doctor original message from livia zufferli monitor . com enron sent monday , november , am to zufferli , john subject ali's essays hi john how was thanksgiving ? was the baby shower fun ? i was wondering if you'd have some time to read over ali's chicago essays later tonight ? he's going to submit them on wednesday . let me know if that's okay . do you have a printer at home ? can i send them to your home account ? i don't think ali will be done before about pm or so tonight . ps we need to talk about mom . i saw her this weekend she's gained a lot of weight , and hasn't been exercising at all . dad's pretty frustrated because all she does is watch tv . i had a talk with her yesterday telling her that she has more risk of having a heart attack if she doesn't walk exercise than if she exerts herself when exercising i think she's afraid of having a heart attack while exercising . we need to do something she's lbs now , and should be at around lbs to be healthy . livia this e mail is the property of enron corp . and or its relevant affiliate and may contain confidential and privileged material for the sole use of the intended recipient s . any review , use , distribution or disclosure by others is strictly prohibited . if you are not the intended recipient or authorized to receive for the recipient , please contact the sender or reply to enron corp . at enron . messaging . administration enron . com and delete all copies of the message . this e mail and any attachments hereto are not intended to be an offer or an acceptance and do not create or evidence a binding and enforceable contract between enron corp . or any of its affiliates and the intended recipient or any other party , and may not be relied on by anyone as the basis of a contract by estoppel or otherwise . thank you .\n",
              "\n",
              "[484109 rows x 1 columns]"
            ]
          },
          "metadata": {
            "tags": []
          },
          "execution_count": 20
        }
      ]
    },
    {
      "cell_type": "markdown",
      "metadata": {
        "id": "XYwivo5U_Mds"
      },
      "source": [
        "In the original paper, the dataset is built with emails where the context is provided by the email date, subject and previous message if the user is replying.Unfortunately, in the Enron dataset it's not possible to build the reply relationship between emails.Thus in order to generate the context of a sentence, we train the sequence-to-sequence model to predict the sentence completion from pairs of split sentences.\n",
        "\n",
        "For instance, the sentence 'here is our forecast' is split in the following pairs within the dataset:\n",
        "\n",
        "[\n",
        "  ('<start> here is <end>', '<start> our forecast <end>'),\n",
        "  ('<start> here is our <end>', '<start> forecast <end>')"
      ]
    },
    {
      "cell_type": "code",
      "metadata": {
        "id": "z9pebMxg-O0W",
        "outputId": "9d473e34-2bd5-4537-e7e6-68dffbd0298b",
        "colab": {
          "base_uri": "https://localhost:8080/",
          "height": 35
        }
      },
      "source": [
        "# Skip long sentences, which increase maximum length a lot when padding\n",
        "# and make the number of parameters to train explode\n",
        "SENTENCE_MAX_WORDS = 20\n",
        "\n",
        "def generate_dataset (emails):\n",
        "    contents = emails['content']\n",
        "    output = []\n",
        "    vocabulary_sentences = []\n",
        "    i=0\n",
        "    for content in contents:\n",
        "        # Skip emails longer than one sentence\n",
        "        i=i+1\n",
        "        if (len(content) > SENTENCE_MAX_WORDS * 5):\n",
        "            continue\n",
        "\n",
        "        sentences = content.split(' . ')\n",
        "        for sentence in sentences:\n",
        "            # Remove user names from start or end of sentence. This is just an heuristic\n",
        "            # but it's more efficient than compiling the list of names and removing all of them\n",
        "            sentence = re.sub(\"(^\\w+\\s,\\s)|(\\s,\\s\\w+$)\", \"\", sentence)\n",
        "            words = sentence.split(' ')\n",
        "\n",
        "            if ((len(words) > SENTENCE_MAX_WORDS) or (len(words) < 2)):\n",
        "                continue\n",
        "\n",
        "            vocabulary_sentences.append('<start> ' + sentence + ' <end>')\n",
        "\n",
        "            for i in range(1, len(words) - 1):\n",
        "                input_data = '<start> ' + ' '.join(words[:i+1]) + ' <end>'\n",
        "                output_data = '<start> ' + ' '.join(words[i+1:]) + ' <end>'\n",
        "                data = (input_data, output_data)\n",
        "                output.append(data)\n",
        "\n",
        "    return output, vocabulary_sentences,i\n",
        "\n",
        "pairs, vocabulary_sentences,i = generate_dataset(emails)\n",
        "print(i)"
      ],
      "execution_count": null,
      "outputs": [
        {
          "output_type": "stream",
          "text": [
            "37\n"
          ],
          "name": "stdout"
        }
      ]
    },
    {
      "cell_type": "code",
      "metadata": {
        "id": "bA8oVMb3-iH3",
        "outputId": "b6e6331c-7ca4-414b-d43e-3a56705c1e72",
        "colab": {
          "base_uri": "https://localhost:8080/",
          "height": 417
        }
      },
      "source": [
        "#printing the length of the sentence pairs , the vocabulary , sentence pairs and corresponding sentence .\n",
        "print(len(pairs))\n",
        "print(len(vocabulary_sentences))\n",
        "print(*pairs[:10], sep='\\n')\n",
        "print(*vocabulary_sentences[:10], sep='\\n')"
      ],
      "execution_count": null,
      "outputs": [
        {
          "output_type": "stream",
          "text": [
            "509918\n",
            "104151\n",
            "('<start> here is <end>', '<start> our forecast <end>')\n",
            "('<start> here is our <end>', '<start> forecast <end>')\n",
            "('<start> way to <end>', '<start> go !!! <end>')\n",
            "('<start> way to go <end>', '<start> !!! <end>')\n",
            "(\"<start> let's shoot <end>\", '<start> for tuesday at . <end>')\n",
            "(\"<start> let's shoot for <end>\", '<start> tuesday at . <end>')\n",
            "(\"<start> let's shoot for tuesday <end>\", '<start> at . <end>')\n",
            "(\"<start> let's shoot for tuesday at <end>\", '<start> . <end>')\n",
            "('<start> how about <end>', '<start> either next tuesday or thursday ? phillip <end>')\n",
            "('<start> how about either <end>', '<start> next tuesday or thursday ? phillip <end>')\n",
            "<start> here is our forecast <end>\n",
            "<start> test successful <end>\n",
            "<start> way to go !!! <end>\n",
            "<start> let's shoot for tuesday at . <end>\n",
            "<start> how about either next tuesday or thursday ? phillip <end>\n",
            "<start> any morning between and <end>\n",
            "<start> million is fine phillip <end>\n",
            "<start> i think fletch has a good cpa <end>\n",
            "<start> i am still doing my own . <end>\n",
            "<start> nymex expiration is during this time frame <end>\n"
          ],
          "name": "stdout"
        }
      ]
    },
    {
      "cell_type": "code",
      "metadata": {
        "id": "XHgJY7Rs-k9S"
      },
      "source": [
        ""
      ],
      "execution_count": null,
      "outputs": []
    },
    {
      "cell_type": "markdown",
      "metadata": {
        "id": "kiyTjZ7X_W9K"
      },
      "source": [
        "We need to transform the text corpora into sequences of integers (each integer being the index of a token in a dictionary) by using keras Tokenizer. We also limit to the 10k most frequent words, deleting uncommon words from sentences.\n",
        "\n",
        "Normally we would use two tokenizers, one for the input strings and a different one for the output text, but in this case we are predicting the same vocabulary in both cases. All the words in the output texts are available also in the input texts because of how dataset pairs are generated."
      ]
    },
    {
      "cell_type": "code",
      "metadata": {
        "id": "Un1rucJ6-O2x"
      },
      "source": [
        "import tensorflow as tf\n",
        "from tensorflow import keras\n",
        "\n",
        "np.random.seed(42)"
      ],
      "execution_count": null,
      "outputs": []
    },
    {
      "cell_type": "code",
      "metadata": {
        "id": "fRexdg-B-s5_"
      },
      "source": [
        "#tokenizer\n",
        "vocab_max_size = 3000\n",
        "\n",
        "def tokenize(text):\n",
        "    tokenizer = keras.preprocessing.text.Tokenizer(filters='', num_words=vocab_max_size)\n",
        "    tokenizer.fit_on_texts(text)\n",
        "\n",
        "    return tokenizer\n",
        "\n",
        "input = [pair[0] for pair in pairs]\n",
        "output = [pair[1] for pair in pairs]\n",
        "tokenizer = tokenize(vocabulary_sentences)\n",
        "\n",
        "encoder_input = tokenizer.texts_to_sequences(input)\n",
        "decoder_input = tokenizer.texts_to_sequences(output)\n",
        "\n",
        "decoder_target = [\n",
        "  [decoder_input[seqN][tokenI + 1]\n",
        "   for tokenI in range(len(decoder_input[seqN]) - 1)]\n",
        "    for seqN in range(len(decoder_input))]\n",
        "\n",
        "# Convert to np.array\n",
        "encoder_input = np.array(encoder_input)\n",
        "decoder_input = np.array(decoder_input)\n",
        "decoder_target = np.array(decoder_target)"
      ],
      "execution_count": null,
      "outputs": []
    },
    {
      "cell_type": "code",
      "metadata": {
        "id": "aqu5IYli-tIE"
      },
      "source": [
        "from sklearn.model_selection import train_test_split\n",
        "\n",
        "encoder_input_train, encoder_input_test, decoder_input_train, decoder_input_test, decoder_target_train, decoder_target_test = train_test_split(encoder_input, decoder_input, decoder_target, test_size=0.2)"
      ],
      "execution_count": null,
      "outputs": []
    },
    {
      "cell_type": "code",
      "metadata": {
        "id": "H04UTwW_-0Mf",
        "outputId": "de69f1c5-5bfb-4944-de94-eb29a8a14c90",
        "colab": {
          "base_uri": "https://localhost:8080/",
          "height": 72
        }
      },
      "source": [
        "#printing the 2d matrix dimensions \n",
        "print(encoder_input_train.shape, encoder_input_test.shape)\n",
        "print(decoder_input_train.shape, decoder_input_test.shape)\n",
        "print(decoder_target_train.shape, decoder_target_test.shape)"
      ],
      "execution_count": null,
      "outputs": [
        {
          "output_type": "stream",
          "text": [
            "(407934,) (101984,)\n",
            "(407934,) (101984,)\n",
            "(407934,) (101984,)\n"
          ],
          "name": "stdout"
        }
      ]
    },
    {
      "cell_type": "code",
      "metadata": {
        "id": "yuguN6Af-4KX"
      },
      "source": [
        "def max_length(t):\n",
        "    return max(len(i) for i in t)\n",
        "\n",
        "max_length_in = max_length(encoder_input)\n",
        "max_length_out = max_length(decoder_input)\n",
        "\n",
        "encoder_input_train = keras.preprocessing.sequence.pad_sequences(encoder_input_train, maxlen=max_length_in, padding=\"post\")\n",
        "decoder_input_train = keras.preprocessing.sequence.pad_sequences(decoder_input_train, maxlen=max_length_out, padding=\"post\")\n",
        "decoder_target_train = keras.preprocessing.sequence.pad_sequences(decoder_target_train, maxlen=max_length_out, padding=\"post\")\n",
        "\n",
        "encoder_input_test = keras.preprocessing.sequence.pad_sequences(encoder_input_test, maxlen=max_length_in, padding=\"post\")\n",
        "decoder_input_test = keras.preprocessing.sequence.pad_sequences(decoder_input_test, maxlen=max_length_out, padding=\"post\")\n",
        "decoder_target_test = keras.preprocessing.sequence.pad_sequences(decoder_target_test, maxlen=max_length_out, padding=\"post\")"
      ],
      "execution_count": null,
      "outputs": []
    },
    {
      "cell_type": "code",
      "metadata": {
        "id": "cnXnX2aC-9zu",
        "outputId": "4d9c8eec-35f0-431d-d46b-13d3f979576c",
        "colab": {
          "base_uri": "https://localhost:8080/",
          "height": 35
        }
      },
      "source": [
        "#max input output sequence length\n",
        "print(max_length_in, max_length_out)"
      ],
      "execution_count": null,
      "outputs": [
        {
          "output_type": "stream",
          "text": [
            "21 20\n"
          ],
          "name": "stdout"
        }
      ]
    },
    {
      "cell_type": "code",
      "metadata": {
        "id": "BVuClJtd-_vo"
      },
      "source": [
        "# Shuffle the data in unison\n",
        "p = np.random.permutation(len(encoder_input_train))\n",
        "encoder_input_train = encoder_input_train[p]\n",
        "decoder_input_train = decoder_input_train[p]\n",
        "decoder_target_train = decoder_target_train[p]\n",
        "\n",
        "q = np.random.permutation(len(encoder_input_test))\n",
        "encoder_input_test = encoder_input_test[q]\n",
        "decoder_input_test = decoder_input_test[q]\n",
        "decoder_target_test = decoder_target_test[q]"
      ],
      "execution_count": null,
      "outputs": []
    },
    {
      "cell_type": "code",
      "metadata": {
        "id": "TGkVNH-V_iR4",
        "outputId": "52d50281-d2b4-4519-ee96-2864fd00baff",
        "colab": {
          "base_uri": "https://localhost:8080/",
          "height": 54
        }
      },
      "source": [
        "import math\n",
        "\n",
        "batch_size = 128\n",
        "vocab_size = vocab_max_size if len(tokenizer.word_index) > vocab_max_size else len(tokenizer.word_index)\n",
        "# Rule of thumb of embedding size: vocab_size ** 0.25\n",
        "embedding_dim = math.ceil(vocab_size ** 0.25)\n",
        "latent_dim = 192 # Latent dimensionality of the encoding space.\n",
        "\n",
        "#printing the vocabulary size and embedding dimension \n",
        "print(vocab_size, embedding_dim)\n",
        "len(tokenizer.word_index)"
      ],
      "execution_count": null,
      "outputs": [
        {
          "output_type": "stream",
          "text": [
            "3000 8\n"
          ],
          "name": "stdout"
        },
        {
          "output_type": "execute_result",
          "data": {
            "text/plain": [
              "15809"
            ]
          },
          "metadata": {
            "tags": []
          },
          "execution_count": 23
        }
      ]
    },
    {
      "cell_type": "markdown",
      "metadata": {
        "id": "nsIlo2qN__Q3"
      },
      "source": [
        "Here we define the RNN models. We start with the Encoder-Decoder model used in training which leverages the \"teacher forcing technique\". Therefore, it will receive as input encoder_input and decoder_input datasets.\n",
        "\n",
        "Then the second model is represented by the inference Decoder which will receive as input the encoded states of the input sequence and the predicted token of the previous time step.\n",
        "\n",
        "Both models use GRU units to preserve the context state, which have been shown to be more accurate than LSTM units and simpler to use since they have only one state."
      ]
    },
    {
      "cell_type": "code",
      "metadata": {
        "id": "09z2pLgoMXMh",
        "outputId": "f6874c4f-2df0-4d71-f8b9-55d7d354cdf9",
        "colab": {
          "base_uri": "https://localhost:8080/",
          "height": 54
        }
      },
      "source": [
        "print('loading word vector')\n",
        "EMBEDDING_DIM=50\n",
        "word2vec={}\n",
        "with open(os.path.join('./glove.6B.%sd.txt'%EMBEDDING_DIM)) as f:\n",
        "    for line in f:\n",
        "        value=line.split()\n",
        "        word=value[0]\n",
        "        vec=np.asarray(value[1:],dtype='float32')\n",
        "        word2vec[word]=vec\n",
        "print('found %s word vectors'%len(word2vec))"
      ],
      "execution_count": null,
      "outputs": [
        {
          "output_type": "stream",
          "text": [
            "loading word vector\n",
            "found 400000 word vectors\n"
          ],
          "name": "stdout"
        }
      ]
    },
    {
      "cell_type": "code",
      "metadata": {
        "id": "jMD2CKgxMiZ5",
        "outputId": "f9dd284c-54a3-4ce9-b181-006dd38b4621",
        "colab": {
          "base_uri": "https://localhost:8080/",
          "height": 35
        }
      },
      "source": [
        "print('filling pretrained embedding')\n",
        "word2idx=tokenizer.word_index\n",
        "MAX_VOCAB_SIZE=3000\n",
        "num_words=min(MAX_VOCAB_SIZE,len(word2idx)+1)\n",
        "embedding_matrix=np.zeros((num_words,EMBEDDING_DIM))\n",
        "for word,i in word2idx.items():\n",
        "  if i<MAX_VOCAB_SIZE:\n",
        "    embedding_vec=word2vec.get(word)\n",
        "    if embedding_vec is not None:\n",
        "      embedding_matrix[i]=embedding_vec"
      ],
      "execution_count": null,
      "outputs": [
        {
          "output_type": "stream",
          "text": [
            "filling pretrained embedding\n"
          ],
          "name": "stdout"
        }
      ]
    },
    {
      "cell_type": "code",
      "metadata": {
        "id": "ZCCbE5hE_ByT",
        "outputId": "b56b14c5-2bd2-48c1-fb39-ed0203b384ea",
        "colab": {
          "base_uri": "https://localhost:8080/",
          "height": 599
        }
      },
      "source": [
        "# GRU Encoder\n",
        "encoder_in_layer = keras.layers.Input(shape=(max_length_in,))\n",
        "encoder_embedding = keras.layers.Embedding(input_dim=vocab_size, output_dim=embedding_dim)\n",
        "encoder_bi_gru = keras.layers.Bidirectional(keras.layers.GRU(units=latent_dim, return_sequences=True, return_state=True))\n",
        "\n",
        "# Discard the encoder output and use hidden states (h) and memory cells states (c)\n",
        "# for forward (f) and backward (b) layer\n",
        "encoder_out, fstate_h, bstate_h = encoder_bi_gru(encoder_embedding(encoder_in_layer))\n",
        "state_h = keras.layers.Concatenate()([fstate_h, bstate_h])\n",
        "\n",
        "# GRUDecoder\n",
        "decoder_in_layer = keras.layers.Input(shape=(1,))\n",
        "decoder_embedding = keras.layers.Embedding(input_dim=vocab_size, output_dim=EMBEDDING_DIM,weights=[embedding_matrix])\n",
        "decoder_gru = keras.layers.GRU(units=latent_dim * 2, return_sequences=True, return_state=True)\n",
        "# Discard internal states in training, keep only the output sequence\n",
        "decoder_gru_out, _ = decoder_gru(decoder_embedding(decoder_in_layer), initial_state=state_h)\n",
        "decoder_dense_1 = keras.layers.Dense(1024, activation=\"relu\")\n",
        "decoder_dense = keras.layers.Dense(vocab_size, activation=\"softmax\")\n",
        "decoder_out_layer = decoder_dense(keras.layers.Dropout(rate=0.2)(decoder_dense_1(keras.layers.Dropout(rate=0.2)(decoder_gru_out))))\n",
        "\n",
        "# Define the model that uses the Encoder and the Decoder\n",
        "model = keras.models.Model([encoder_in_layer, decoder_in_layer], decoder_out_layer)\n",
        "\n",
        "def perplexity(y_true, y_pred):\n",
        "    return keras.backend.exp(keras.backend.mean(keras.backend.sparse_categorical_crossentropy(y_true, y_pred)))\n",
        "\n",
        "model.compile(optimizer='adam', loss=\"sparse_categorical_crossentropy\", metrics=[perplexity])\n",
        "model.summary()"
      ],
      "execution_count": null,
      "outputs": [
        {
          "output_type": "stream",
          "text": [
            "Model: \"functional_1\"\n",
            "__________________________________________________________________________________________________\n",
            "Layer (type)                    Output Shape         Param #     Connected to                     \n",
            "==================================================================================================\n",
            "input_1 (InputLayer)            [(None, 21)]         0                                            \n",
            "__________________________________________________________________________________________________\n",
            "embedding (Embedding)           (None, 21, 8)        24000       input_1[0][0]                    \n",
            "__________________________________________________________________________________________________\n",
            "input_2 (InputLayer)            [(None, 1)]          0                                            \n",
            "__________________________________________________________________________________________________\n",
            "bidirectional (Bidirectional)   [(None, 21, 384), (N 232704      embedding[0][0]                  \n",
            "__________________________________________________________________________________________________\n",
            "embedding_1 (Embedding)         (None, 1, 50)        150000      input_2[0][0]                    \n",
            "__________________________________________________________________________________________________\n",
            "concatenate (Concatenate)       (None, 384)          0           bidirectional[0][1]              \n",
            "                                                                 bidirectional[0][2]              \n",
            "__________________________________________________________________________________________________\n",
            "gru_1 (GRU)                     [(None, 1, 384), (No 502272      embedding_1[0][0]                \n",
            "                                                                 concatenate[0][0]                \n",
            "__________________________________________________________________________________________________\n",
            "dropout_1 (Dropout)             (None, 1, 384)       0           gru_1[0][0]                      \n",
            "__________________________________________________________________________________________________\n",
            "dense (Dense)                   (None, 1, 1024)      394240      dropout_1[0][0]                  \n",
            "__________________________________________________________________________________________________\n",
            "dropout (Dropout)               (None, 1, 1024)      0           dense[0][0]                      \n",
            "__________________________________________________________________________________________________\n",
            "dense_1 (Dense)                 (None, 1, 3000)      3075000     dropout[0][0]                    \n",
            "==================================================================================================\n",
            "Total params: 4,378,216\n",
            "Trainable params: 4,378,216\n",
            "Non-trainable params: 0\n",
            "__________________________________________________________________________________________________\n"
          ],
          "name": "stdout"
        }
      ]
    },
    {
      "cell_type": "code",
      "metadata": {
        "id": "QEaDm18xAFCX",
        "outputId": "d9ea3b03-cc96-4058-8639-181548924513",
        "colab": {
          "base_uri": "https://localhost:8080/",
          "height": 976
        }
      },
      "source": [
        "#encoder-decoder model structure\n",
        "keras.utils.plot_model(model, \"encoder-decoder.png\", show_shapes=True)"
      ],
      "execution_count": null,
      "outputs": [
        {
          "output_type": "execute_result",
          "data": {
            "image/png": "[encoded data removed]",
            "text/plain": [
              "<IPython.core.display.Image object>"
            ]
          },
          "metadata": {
            "tags": []
          },
          "execution_count": 27
        }
      ]
    },
    {
      "cell_type": "code",
      "metadata": {
        "id": "soGbL0Wv-0Ws",
        "outputId": "538fe159-d3d8-408d-8d8f-8f9c9b5a5446",
        "colab": {
          "base_uri": "https://localhost:8080/",
          "height": 310
        }
      },
      "source": [
        "#training the model and printing the training and validation losses\n",
        "epochs = 7\n",
        "history = model.fit([encoder_input_train, decoder_input_train], decoder_target_train,\n",
        "                 batch_size=batch_size,\n",
        "                 epochs=epochs,\n",
        "                 validation_split=0.2)\n",
        "\n",
        "def plot_history(history):\n",
        "    plt.plot(history.history['loss'], label=\"Training loss\")\n",
        "    plt.plot(history.history['val_loss'], label=\"Validation loss\")\n",
        "    plt.legend()\n",
        "\n",
        "plot_history(history)"
      ],
      "execution_count": null,
      "outputs": [
        {
          "output_type": "stream",
          "text": [
            "Epoch 1/7\n",
            "WARNING:tensorflow:Model was constructed with shape (None, 1) for input Tensor(\"input_2:0\", shape=(None, 1), dtype=float32), but it was called on an input with incompatible shape (None, 20).\n",
            "WARNING:tensorflow:Model was constructed with shape (None, 1) for input Tensor(\"input_2:0\", shape=(None, 1), dtype=float32), but it was called on an input with incompatible shape (None, 20).\n",
            "2550/2550 [==============================] - ETA: 0s - loss: 1.1315 - perplexity: 8.0917WARNING:tensorflow:Model was constructed with shape (None, 1) for input Tensor(\"input_2:0\", shape=(None, 1), dtype=float32), but it was called on an input with incompatible shape (None, 20).\n",
            "2550/2550 [==============================] - 208s 82ms/step - loss: 1.1315 - perplexity: 8.0917 - val_loss: 0.8442 - val_perplexity: 2.3296\n",
            "Epoch 2/7\n",
            "2550/2550 [==============================] - 207s 81ms/step - loss: 0.7540 - perplexity: 2.1318 - val_loss: 0.6036 - val_perplexity: 1.8300\n",
            "Epoch 3/7\n",
            "2550/2550 [==============================] - 207s 81ms/step - loss: 0.5919 - perplexity: 1.8095 - val_loss: 0.4927 - val_perplexity: 1.6375\n",
            "Epoch 4/7\n",
            "2550/2550 [==============================] - 207s 81ms/step - loss: 0.5077 - perplexity: 1.6626 - val_loss: 0.4266 - val_perplexity: 1.5326\n",
            "Epoch 5/7\n",
            "2550/2550 [==============================] - 205s 80ms/step - loss: 0.4570 - perplexity: 1.5801 - val_loss: 0.3865 - val_perplexity: 1.4723\n",
            "Epoch 6/7\n",
            "2080/2550 [=======================>......] - ETA: 34s - loss: 0.4242 - perplexity: 1.5290"
          ],
          "name": "stdout"
        }
      ]
    },
    {
      "cell_type": "markdown",
      "metadata": {
        "id": "bUerHtnvlTuU"
      },
      "source": [
        ""
      ]
    },
    {
      "cell_type": "code",
      "metadata": {
        "id": "64ZF2hB2ARY7",
        "outputId": "ab342176-7ba0-4105-ef01-a0a2b0e61d87",
        "colab": {
          "base_uri": "https://localhost:8080/",
          "height": 54
        }
      },
      "source": [
        "#printing the best loss and perplexity achievable\n",
        "scores = model.evaluate([encoder_input_test[:1000], decoder_input_test[:1000]], decoder_target_test[:1000])\n",
        "print(\"%s: %.2f\" % (model.metrics_names[1], scores[1]))"
      ],
      "execution_count": null,
      "outputs": [
        {
          "output_type": "stream",
          "text": [
            "32/32 [==============================] - 1s 17ms/step - loss: 0.4626 - sparse_categorical_accuracy: 0.8949\n",
            "sparse_categorical_accuracy: 0.89\n"
          ],
          "name": "stdout"
        }
      ]
    },
    {
      "cell_type": "code",
      "metadata": {
        "id": "8olK8TDDGTvj"
      },
      "source": [
        "# Inference Decoder\n",
        "encoder_model = keras.models.Model(encoder_in_layer, state_h)\n",
        "\n",
        "state_input_h = keras.layers.Input(shape=(latent_dim * 2,))\n",
        "inf_decoder_out, decoder_h = decoder_gru(decoder_embedding(decoder_in_layer), initial_state=state_input_h)\n",
        "inf_decoder_out = decoder_dense(decoder_dense_1(inf_decoder_out))\n",
        "inf_model = keras.models.Model(inputs=[decoder_in_layer, state_input_h], \n",
        "                  outputs=[inf_decoder_out, decoder_h])"
      ],
      "execution_count": null,
      "outputs": []
    },
    {
      "cell_type": "code",
      "metadata": {
        "id": "vXjdKQSvGWGl",
        "outputId": "a2346f6e-249b-42a6-f30f-4e87d29a3fbe",
        "colab": {
          "base_uri": "https://localhost:8080/",
          "height": 422
        }
      },
      "source": [
        "#the encoder model structure\n",
        "keras.utils.plot_model(encoder_model, \"encoder-model.png\", show_shapes=True)"
      ],
      "execution_count": null,
      "outputs": [
        {
          "output_type": "execute_result",
          "data": {
            "image/png": "[encoded data removed]",
            "text/plain": [
              "<IPython.core.display.Image object>"
            ]
          },
          "metadata": {
            "tags": []
          },
          "execution_count": 68
        }
      ]
    },
    {
      "cell_type": "code",
      "metadata": {
        "id": "Uv_CZdm8GvwT",
        "outputId": "298c5c69-1360-4252-c67d-0bd7d5b57cff",
        "colab": {
          "base_uri": "https://localhost:8080/",
          "height": 533
        }
      },
      "source": [
        "#inference model structure\n",
        "keras.utils.plot_model(inf_model, \"inference-model.png\", show_shapes=True)"
      ],
      "execution_count": null,
      "outputs": [
        {
          "output_type": "execute_result",
          "data": {
            "image/png": "[encoded data removed]",
            "text/plain": [
              "<IPython.core.display.Image object>"
            ]
          },
          "metadata": {
            "tags": []
          },
          "execution_count": 69
        }
      ]
    },
    {
      "cell_type": "code",
      "metadata": {
        "id": "LEoVw89PGyiy",
        "outputId": "b44bfe41-f4f8-4d30-fae3-1125615cd0a5",
        "colab": {
          "base_uri": "https://localhost:8080/",
          "height": 54
        }
      },
      "source": [
        "def tokenize_text(text):\n",
        "    text = '<start> ' + text.lower() + ' <end>'\n",
        "    text_tensor = tokenizer.texts_to_sequences([text])\n",
        "    text_tensor = keras.preprocessing.sequence.pad_sequences(text_tensor, maxlen=max_length_in, padding=\"post\")\n",
        "    return text_tensor\n",
        "\n",
        "# Reversed map from a tokenizer index to a word\n",
        "index_to_word = dict(map(reversed, tokenizer.word_index.items()))\n",
        "\n",
        "# Given an input string, an encoder model (infenc_model) and a decoder model (infmodel),\n",
        "def decode_sequence(input_tensor):\n",
        "    # Encode the input as state vectors.\n",
        "    state = encoder_model.predict(input_tensor)\n",
        "\n",
        "    target_seq = np.zeros((1, 1))\n",
        "    target_seq[0, 0] = tokenizer.word_index['<start>']\n",
        "    curr_word = \"<start>\"\n",
        "    decoded_sentence = ''\n",
        "\n",
        "    i = 0\n",
        "    while curr_word != \"<end>\" and i < (max_length_out - 1):\n",
        "        output_tokens, h = inf_model.predict([target_seq, state])\n",
        "        curr_token = np.argmax(output_tokens[0, 0])\n",
        "\n",
        "        if (curr_token == 0):\n",
        "            break;\n",
        "\n",
        "        curr_word = index_to_word[curr_token]\n",
        "\n",
        "        decoded_sentence += ' ' + curr_word\n",
        "        target_seq[0, 0] = curr_token\n",
        "        state = h\n",
        "        i += 1\n",
        "\n",
        "    return decoded_sentence\n",
        "  #converting tokens to sequence\n",
        "def tokens_to_seq(tokens):\n",
        "    words = list(map(lambda token: index_to_word[token] if token != 0 else '', tokens))\n",
        "    return ' '.join(words)\n",
        "tokenize_text('have a')"
      ],
      "execution_count": null,
      "outputs": [
        {
          "output_type": "execute_result",
          "data": {
            "text/plain": [
              "array([[ 1, 22, 14,  2,  0,  0,  0,  0,  0,  0,  0,  0,  0,  0,  0,  0,\n",
              "         0,  0,  0,  0,  0]], dtype=int32)"
            ]
          },
          "metadata": {
            "tags": []
          },
          "execution_count": 70
        }
      ]
    },
    {
      "cell_type": "code",
      "metadata": {
        "id": "XVJwmLpPARip",
        "outputId": "802dbcb2-fede-491f-bec9-30d1bf1b70d1",
        "colab": {
          "base_uri": "https://localhost:8080/",
          "height": 768
        }
      },
      "source": [
        "#testing of the inference models with some inputs inside the text array (note-the input must be present inside the splitted pairs of sentence)\n",
        "texts = ['please help ',\n",
        "    'are you',\n",
        "    'have a',\n",
        "    'I have to',\n",
        "    'please review',\n",
        "    'please call me',\n",
        "    'thanks for',\n",
        "    'let me',\n",
        "    'Let me know',\n",
        "    'Let me know if you',\n",
        "    'this sounds',\n",
        "    'is this call going to',\n",
        "    'can you get',\n",
        "    'is it okay',\n",
        "    'it should',\n",
        "    'call if there\\'s',\n",
        "    'gave her a',\n",
        "    'i will let',\n",
        "    'i will be',\n",
        "    'may i get a copy of all the',\n",
        "    'how is our trade',\n",
        "    'this looks like a',\n",
        "    'i am fine with the changes',\n",
        "    'please be sure this'\n",
        "]\n",
        "#inference outputs\n",
        "output = list(map(lambda text: (text, decode_sequence(tokenize_text(text))), texts))\n",
        "\n",
        "output_df = pd.DataFrame(output, columns=[\"input\", \"output\"])\n",
        "output_df.head(len(output))\n"
      ],
      "execution_count": null,
      "outputs": [
        {
          "output_type": "execute_result",
          "data": {
            "text/html": [
              "<div>\n",
              "<style scoped>\n",
              "    .dataframe tbody tr th:only-of-type {\n",
              "        vertical-align: middle;\n",
              "    }\n",
              "\n",
              "    .dataframe tbody tr th {\n",
              "        vertical-align: top;\n",
              "    }\n",
              "\n",
              "    .dataframe thead th {\n",
              "        text-align: right;\n",
              "    }\n",
              "</style>\n",
              "<table border=\"1\" class=\"dataframe\">\n",
              "  <thead>\n",
              "    <tr style=\"text-align: right;\">\n",
              "      <th></th>\n",
              "      <th>input</th>\n",
              "      <th>output</th>\n",
              "    </tr>\n",
              "  </thead>\n",
              "  <tbody>\n",
              "    <tr>\n",
              "      <th>0</th>\n",
              "      <td>please help</td>\n",
              "      <td>me with this &lt;end&gt;</td>\n",
              "    </tr>\n",
              "    <tr>\n",
              "      <th>1</th>\n",
              "      <td>are you</td>\n",
              "      <td>going to be a conference call with john's ? &lt;end&gt;</td>\n",
              "    </tr>\n",
              "    <tr>\n",
              "      <th>2</th>\n",
              "      <td>have a</td>\n",
              "      <td>good weekend &lt;end&gt;</td>\n",
              "    </tr>\n",
              "    <tr>\n",
              "      <th>3</th>\n",
              "      <td>I have to</td>\n",
              "      <td>cancel the profile for this guy &lt;end&gt;</td>\n",
              "    </tr>\n",
              "    <tr>\n",
              "      <th>4</th>\n",
              "      <td>please review</td>\n",
              "      <td>and comment &lt;end&gt;</td>\n",
              "    </tr>\n",
              "    <tr>\n",
              "      <th>5</th>\n",
              "      <td>please call me</td>\n",
              "      <td>if you have any questions &lt;end&gt;</td>\n",
              "    </tr>\n",
              "    <tr>\n",
              "      <th>6</th>\n",
              "      <td>thanks for</td>\n",
              "      <td>the update &lt;end&gt;</td>\n",
              "    </tr>\n",
              "    <tr>\n",
              "      <th>7</th>\n",
              "      <td>let me</td>\n",
              "      <td>know if you have any questions &lt;end&gt;</td>\n",
              "    </tr>\n",
              "    <tr>\n",
              "      <th>8</th>\n",
              "      <td>Let me know</td>\n",
              "      <td>if you have any questions &lt;end&gt;</td>\n",
              "    </tr>\n",
              "    <tr>\n",
              "      <th>9</th>\n",
              "      <td>Let me know if you</td>\n",
              "      <td>have any questions &lt;end&gt;</td>\n",
              "    </tr>\n",
              "    <tr>\n",
              "      <th>10</th>\n",
              "      <td>this sounds</td>\n",
              "      <td>good &lt;end&gt;</td>\n",
              "    </tr>\n",
              "    <tr>\n",
              "      <th>11</th>\n",
              "      <td>is this call going to</td>\n",
              "      <td>go to the ? &lt;end&gt;</td>\n",
              "    </tr>\n",
              "    <tr>\n",
              "      <th>12</th>\n",
              "      <td>can you get</td>\n",
              "      <td>a copy of the ngpl transportation balance sheet ? thanks &lt;end&gt;</td>\n",
              "    </tr>\n",
              "    <tr>\n",
              "      <th>13</th>\n",
              "      <td>is it okay</td>\n",
              "      <td>with this ? &lt;end&gt;</td>\n",
              "    </tr>\n",
              "    <tr>\n",
              "      <th>14</th>\n",
              "      <td>it should</td>\n",
              "      <td>be on the way &lt;end&gt;</td>\n",
              "    </tr>\n",
              "    <tr>\n",
              "      <th>15</th>\n",
              "      <td>call if there's</td>\n",
              "      <td>not be any questions &lt;end&gt;</td>\n",
              "    </tr>\n",
              "    <tr>\n",
              "      <th>16</th>\n",
              "      <td>gave her a</td>\n",
              "      <td>voice mail &lt;end&gt;</td>\n",
              "    </tr>\n",
              "    <tr>\n",
              "      <th>17</th>\n",
              "      <td>i will let</td>\n",
              "      <td>you know when i hear back from you &lt;end&gt;</td>\n",
              "    </tr>\n",
              "    <tr>\n",
              "      <th>18</th>\n",
              "      <td>i will be</td>\n",
              "      <td>out of the office from until &lt;end&gt;</td>\n",
              "    </tr>\n",
              "    <tr>\n",
              "      <th>19</th>\n",
              "      <td>may i get a copy of all the</td>\n",
              "      <td>invoices we sent ces for january please . &lt;end&gt;</td>\n",
              "    </tr>\n",
              "    <tr>\n",
              "      <th>20</th>\n",
              "      <td>how is our trade</td>\n",
              "      <td>? &lt;end&gt;</td>\n",
              "    </tr>\n",
              "    <tr>\n",
              "      <th>21</th>\n",
              "      <td>this looks like a</td>\n",
              "      <td>good idea to me &lt;end&gt;</td>\n",
              "    </tr>\n",
              "    <tr>\n",
              "      <th>22</th>\n",
              "      <td>i am fine with the changes</td>\n",
              "      <td>to the transaction &lt;end&gt;</td>\n",
              "    </tr>\n",
              "    <tr>\n",
              "      <th>23</th>\n",
              "      <td>please be sure this</td>\n",
              "      <td>is done &lt;end&gt;</td>\n",
              "    </tr>\n",
              "  </tbody>\n",
              "</table>\n",
              "</div>"
            ],
            "text/plain": [
              "                          input                                                           output\n",
              "0   please help                   me with this <end>                                            \n",
              "1   are you                       going to be a conference call with john's ? <end>             \n",
              "2   have a                        good weekend <end>                                            \n",
              "3   I have to                     cancel the profile for this guy <end>                         \n",
              "4   please review                 and comment <end>                                             \n",
              "5   please call me                if you have any questions <end>                               \n",
              "6   thanks for                    the update <end>                                              \n",
              "7   let me                        know if you have any questions <end>                          \n",
              "8   Let me know                   if you have any questions <end>                               \n",
              "9   Let me know if you            have any questions <end>                                      \n",
              "10  this sounds                   good <end>                                                    \n",
              "11  is this call going to         go to the ? <end>                                             \n",
              "12  can you get                   a copy of the ngpl transportation balance sheet ? thanks <end>\n",
              "13  is it okay                    with this ? <end>                                             \n",
              "14  it should                     be on the way <end>                                           \n",
              "15  call if there's               not be any questions <end>                                    \n",
              "16  gave her a                    voice mail <end>                                              \n",
              "17  i will let                    you know when i hear back from you <end>                      \n",
              "18  i will be                     out of the office from until <end>                            \n",
              "19  may i get a copy of all the   invoices we sent ces for january please . <end>               \n",
              "20  how is our trade              ? <end>                                                       \n",
              "21  this looks like a             good idea to me <end>                                         \n",
              "22  i am fine with the changes    to the transaction <end>                                      \n",
              "23  please be sure this           is done <end>                                                 "
            ]
          },
          "metadata": {
            "tags": []
          },
          "execution_count": 74
        }
      ]
    },
    {
      "cell_type": "code",
      "metadata": {
        "id": "7Y3lRVCJHAyZ",
        "outputId": "1a6f8165-71ff-4be9-bf4a-085f293d4389",
        "colab": {
          "base_uri": "https://localhost:8080/",
          "height": 90
        }
      },
      "source": [
        "saved_model_dir = './'\n",
        "tf.saved_model.save(encoder_model, saved_model_dir)\n",
        "\n",
        "converter = tf.lite.TFLiteConverter.from_saved_model(saved_model_dir)\n",
        "tflite_model = converter.convert()\n",
        "\n",
        "with open('enc_model.tflite', 'wb') as f:\n",
        "  f.write(tflite_model)\n",
        "\n",
        "\n",
        "tf.saved_model.save(inf_model, saved_model_dir)\n",
        "\n",
        "converter = tf.lite.TFLiteConverter.from_saved_model(saved_model_dir)\n",
        "tflite_model = converter.convert()\n",
        "\n",
        "with open('inf_model.tflite', 'wb') as f:\n",
        "  f.write(tflite_model)\n",
        "\n",
        "\n",
        "\n"
      ],
      "execution_count": null,
      "outputs": [
        {
          "output_type": "stream",
          "text": [
            "INFO:tensorflow:Assets written to: ./assets\n"
          ],
          "name": "stdout"
        },
        {
          "output_type": "stream",
          "text": [
            "INFO:tensorflow:Assets written to: ./assets\n"
          ],
          "name": "stderr"
        },
        {
          "output_type": "stream",
          "text": [
            "INFO:tensorflow:Assets written to: ./assets\n"
          ],
          "name": "stdout"
        },
        {
          "output_type": "stream",
          "text": [
            "INFO:tensorflow:Assets written to: ./assets\n"
          ],
          "name": "stderr"
        }
      ]
    },
    {
      "cell_type": "code",
      "metadata": {
        "id": "o96RoqWLHA4H",
        "outputId": "20a2ea94-cc01-4193-9661-b787148ede8b",
        "colab": {
          "base_uri": "https://localhost:8080/",
          "height": 35
        }
      },
      "source": [
        "shutil.copy('/content/enc_model.tflite','/content/drive/My Drive/Colab Notebooks/model snap/enc_model_512_3_7_e50.tflite')\n",
        "shutil.copy('/content/inf_model.tflite','/content/drive/My Drive/Colab Notebooks/model snap/inf_model_512_3_7_e50.tflite')"
      ],
      "execution_count": null,
      "outputs": [
        {
          "output_type": "execute_result",
          "data": {
            "application/vnd.google.colaboratory.intrinsic+json": {
              "type": "string"
            },
            "text/plain": [
              "'/content/drive/My Drive/Colab Notebooks/model snap/inf_model_512_3_7_e50.tflite'"
            ]
          },
          "metadata": {
            "tags": []
          },
          "execution_count": 73
        }
      ]
    },
    {
      "cell_type": "code",
      "metadata": {
        "id": "PmIY_Vgl7kcZ",
        "outputId": "4a527125-6748-48a1-84b6-8375f2e497a1",
        "colab": {
          "base_uri": "https://localhost:8080/",
          "height": 185
        }
      },
      "source": [
        "from google.colab import drive\n",
        "drive.unmount('/content/drive')"
      ],
      "execution_count": null,
      "outputs": [
        {
          "output_type": "error",
          "ename": "AttributeError",
          "evalue": "ignored",
          "traceback": [
            "\u001b[0;31m---------------------------------------------------------------------------\u001b[0m",
            "\u001b[0;31mAttributeError\u001b[0m                            Traceback (most recent call last)",
            "\u001b[0;32m<ipython-input-11-aeea469676cd>\u001b[0m in \u001b[0;36m<module>\u001b[0;34m()\u001b[0m\n\u001b[1;32m      1\u001b[0m \u001b[0;32mfrom\u001b[0m \u001b[0mgoogle\u001b[0m\u001b[0;34m.\u001b[0m\u001b[0mcolab\u001b[0m \u001b[0;32mimport\u001b[0m \u001b[0mdrive\u001b[0m\u001b[0;34m\u001b[0m\u001b[0;34m\u001b[0m\u001b[0m\n\u001b[0;32m----> 2\u001b[0;31m \u001b[0mdrive\u001b[0m\u001b[0;34m.\u001b[0m\u001b[0munmount\u001b[0m\u001b[0;34m(\u001b[0m\u001b[0;34m'/content/drive'\u001b[0m\u001b[0;34m)\u001b[0m\u001b[0;34m\u001b[0m\u001b[0;34m\u001b[0m\u001b[0m\n\u001b[0m",
            "\u001b[0;31mAttributeError\u001b[0m: module 'google.colab.drive' has no attribute 'unmount'"
          ]
        }
      ]
    },
    {
      "cell_type": "code",
      "metadata": {
        "id": "zy9J4j2N7lLa",
        "outputId": "f8aa6cc3-8519-44e4-8c50-9be73aa7fa50",
        "colab": {
          "base_uri": "https://localhost:8080/",
          "height": 1000
        }
      },
      "source": [
        "l= \"john , hey where are you\"\n"
      ],
      "execution_count": null,
      "outputs": [
        {
          "output_type": "execute_result",
          "data": {
            "text/plain": [
              "[<email.message.Message at 0x7f473755de80>,\n",
              " <email.message.Message at 0x7f473755d438>,\n",
              " <email.message.Message at 0x7f4737474128>,\n",
              " <email.message.Message at 0x7f47374746a0>,\n",
              " <email.message.Message at 0x7f4737474400>,\n",
              " <email.message.Message at 0x7f4737474be0>,\n",
              " <email.message.Message at 0x7f47374746d8>,\n",
              " <email.message.Message at 0x7f4737474c18>,\n",
              " <email.message.Message at 0x7f473747f160>,\n",
              " <email.message.Message at 0x7f473747f7f0>,\n",
              " <email.message.Message at 0x7f473747f400>,\n",
              " <email.message.Message at 0x7f473747fbe0>,\n",
              " <email.message.Message at 0x7f473747fc18>,\n",
              " <email.message.Message at 0x7f473747feb8>,\n",
              " <email.message.Message at 0x7f4737487198>,\n",
              " <email.message.Message at 0x7f4737487438>,\n",
              " <email.message.Message at 0x7f4737487a20>,\n",
              " <email.message.Message at 0x7f47374876d8>,\n",
              " <email.message.Message at 0x7f473755dda0>,\n",
              " <email.message.Message at 0x7f4737487978>,\n",
              " <email.message.Message at 0x7f4737484160>,\n",
              " <email.message.Message at 0x7f4737484400>,\n",
              " <email.message.Message at 0x7f47374846a0>,\n",
              " <email.message.Message at 0x7f4737484cc0>,\n",
              " <email.message.Message at 0x7f4737484be0>,\n",
              " <email.message.Message at 0x7f4737484940>,\n",
              " <email.message.Message at 0x7f4737484c18>,\n",
              " <email.message.Message at 0x7f473748b780>,\n",
              " <email.message.Message at 0x7f473748b400>,\n",
              " <email.message.Message at 0x7f473748b6a0>,\n",
              " <email.message.Message at 0x7f473748bbe0>,\n",
              " <email.message.Message at 0x7f4737490240>,\n",
              " <email.message.Message at 0x7f4737490630>,\n",
              " <email.message.Message at 0x7f4737490160>,\n",
              " <email.message.Message at 0x7f473755de48>,\n",
              " <email.message.Message at 0x7f4737490198>,\n",
              " <email.message.Message at 0x7f4737490eb8>,\n",
              " <email.message.Message at 0x7f473755dc88>,\n",
              " <email.message.Message at 0x7f4737492208>,\n",
              " <email.message.Message at 0x7f47374924a8>,\n",
              " <email.message.Message at 0x7f4737492b70>,\n",
              " <email.message.Message at 0x7f473755dd30>,\n",
              " <email.message.Message at 0x7f4737492f98>,\n",
              " <email.message.Message at 0x7f4737492f60>,\n",
              " <email.message.Message at 0x7f4737492ef0>,\n",
              " <email.message.Message at 0x7f47374974a8>,\n",
              " <email.message.Message at 0x7f4737492fd0>,\n",
              " <email.message.Message at 0x7f4737497c88>,\n",
              " <email.message.Message at 0x7f4737497c50>,\n",
              " <email.message.Message at 0x7f4737497748>,\n",
              " <email.message.Message at 0x7f473749b4e0>,\n",
              " <email.message.Message at 0x7f4737492f28>,\n",
              " <email.message.Message at 0x7f473749b9b0>,\n",
              " <email.message.Message at 0x7f473749b470>,\n",
              " <email.message.Message at 0x7f473749b9e8>,\n",
              " <email.message.Message at 0x7f473749f1d0>,\n",
              " <email.message.Message at 0x7f4737492748>,\n",
              " <email.message.Message at 0x7f473749f208>,\n",
              " <email.message.Message at 0x7f473749f9b0>,\n",
              " <email.message.Message at 0x7f473749f9e8>,\n",
              " <email.message.Message at 0x7f473749fc88>,\n",
              " <email.message.Message at 0x7f47374a1208>,\n",
              " <email.message.Message at 0x7f473749f710>,\n",
              " <email.message.Message at 0x7f47374a18d0>,\n",
              " <email.message.Message at 0x7f47374a1710>,\n",
              " <email.message.Message at 0x7f473749bef0>,\n",
              " <email.message.Message at 0x7f47374a1240>,\n",
              " <email.message.Message at 0x7f47374a7358>,\n",
              " <email.message.Message at 0x7f47374a7320>,\n",
              " <email.message.Message at 0x7f47374a1f60>,\n",
              " <email.message.Message at 0x7f47374a7a58>,\n",
              " <email.message.Message at 0x7f47374a7240>,\n",
              " <email.message.Message at 0x7f47374a7f98>,\n",
              " <email.message.Message at 0x7f47374a7a90>,\n",
              " <email.message.Message at 0x7f47374a95f8>,\n",
              " <email.message.Message at 0x7f47374a94e0>,\n",
              " <email.message.Message at 0x7f47374a7fd0>,\n",
              " <email.message.Message at 0x7f47374a9cc0>,\n",
              " <email.message.Message at 0x7f47374a9cf8>,\n",
              " <email.message.Message at 0x7f473749ff28>,\n",
              " <email.message.Message at 0x7f47374a9518>,\n",
              " <email.message.Message at 0x7f47374ac780>,\n",
              " <email.message.Message at 0x7f47374aca90>,\n",
              " <email.message.Message at 0x7f47374ac7b8>,\n",
              " <email.message.Message at 0x7f47374ac278>,\n",
              " <email.message.Message at 0x7f47374a9f98>,\n",
              " <email.message.Message at 0x7f47374b0240>,\n",
              " <email.message.Message at 0x7f47374b07f0>,\n",
              " <email.message.Message at 0x7f47374b0828>,\n",
              " <email.message.Message at 0x7f47374b0d68>,\n",
              " <email.message.Message at 0x7f47374b0ac8>,\n",
              " <email.message.Message at 0x7f47374332e8>,\n",
              " <email.message.Message at 0x7f47374332b0>,\n",
              " <email.message.Message at 0x7f4737433320>,\n",
              " <email.message.Message at 0x7f4737433ac8>,\n",
              " <email.message.Message at 0x7f4737433da0>,\n",
              " <email.message.Message at 0x7f4737433828>,\n",
              " <email.message.Message at 0x7f4737433b00>,\n",
              " <email.message.Message at 0x7f47374372e8>,\n",
              " <email.message.Message at 0x7f47374b0da0>,\n",
              " <email.message.Message at 0x7f4737437588>,\n",
              " <email.message.Message at 0x7f4737437eb8>,\n",
              " <email.message.Message at 0x7f4737437a90>,\n",
              " <email.message.Message at 0x7f4737437d68>,\n",
              " <email.message.Message at 0x7f4737439320>,\n",
              " <email.message.Message at 0x7f4737439898>,\n",
              " <email.message.Message at 0x7f4737439e48>,\n",
              " <email.message.Message at 0x7f4737439860>,\n",
              " <email.message.Message at 0x7f4737439e80>,\n",
              " <email.message.Message at 0x7f4737439dd8>,\n",
              " <email.message.Message at 0x7f473743e5c0>,\n",
              " <email.message.Message at 0x7f473743e9b0>,\n",
              " <email.message.Message at 0x7f473743e898>,\n",
              " <email.message.Message at 0x7f4737439e10>,\n",
              " <email.message.Message at 0x7f4737443160>,\n",
              " <email.message.Message at 0x7f4737443080>,\n",
              " <email.message.Message at 0x7f47374430b8>,\n",
              " <email.message.Message at 0x7f47374398d0>,\n",
              " <email.message.Message at 0x7f4737443ac8>,\n",
              " <email.message.Message at 0x7f47374435f8>,\n",
              " <email.message.Message at 0x7f473743e5f8>,\n",
              " <email.message.Message at 0x7f47374482e8>,\n",
              " <email.message.Message at 0x7f4737448320>,\n",
              " <email.message.Message at 0x7f4737448898>,\n",
              " <email.message.Message at 0x7f4737448048>,\n",
              " <email.message.Message at 0x7f4737448d68>,\n",
              " <email.message.Message at 0x7f4737448da0>,\n",
              " <email.message.Message at 0x7f4737443b00>,\n",
              " <email.message.Message at 0x7f473744e080>,\n",
              " <email.message.Message at 0x7f473744e588>,\n",
              " <email.message.Message at 0x7f473744eb70>,\n",
              " <email.message.Message at 0x7f473744e898>,\n",
              " <email.message.Message at 0x7f47374511d0>,\n",
              " <email.message.Message at 0x7f4737451160>,\n",
              " <email.message.Message at 0x7f47374510b8>,\n",
              " <email.message.Message at 0x7f47374518d0>,\n",
              " <email.message.Message at 0x7f4737451f28>,\n",
              " <email.message.Message at 0x7f4737451c18>,\n",
              " <email.message.Message at 0x7f4737451be0>,\n",
              " <email.message.Message at 0x7f47374485c0>,\n",
              " <email.message.Message at 0x7f47374510f0>,\n",
              " <email.message.Message at 0x7f47374565f8>,\n",
              " <email.message.Message at 0x7f4737456898>,\n",
              " <email.message.Message at 0x7f4737456b38>,\n",
              " <email.message.Message at 0x7f473745b1d0>,\n",
              " <email.message.Message at 0x7f473745b128>,\n",
              " <email.message.Message at 0x7f473745b160>,\n",
              " <email.message.Message at 0x7f473745b6a0>,\n",
              " <email.message.Message at 0x7f473745b0f0>,\n",
              " <email.message.Message at 0x7f473745be48>,\n",
              " <email.message.Message at 0x7f473744eb38>,\n",
              " <email.message.Message at 0x7f473745f160>,\n",
              " <email.message.Message at 0x7f473745be80>,\n",
              " <email.message.Message at 0x7f473745f940>,\n",
              " <email.message.Message at 0x7f473745f438>,\n",
              " <email.message.Message at 0x7f473745fe80>,\n",
              " <email.message.Message at 0x7f47374641d0>,\n",
              " <email.message.Message at 0x7f473745feb8>,\n",
              " <email.message.Message at 0x7f4737464710>,\n",
              " <email.message.Message at 0x7f473745b940>,\n",
              " <email.message.Message at 0x7f47374646a0>,\n",
              " <email.message.Message at 0x7f4737464f28>,\n",
              " <email.message.Message at 0x7f4737469278>,\n",
              " <email.message.Message at 0x7f4737469550>,\n",
              " <email.message.Message at 0x7f473745f978>,\n",
              " <email.message.Message at 0x7f4737469240>,\n",
              " <email.message.Message at 0x7f4737464ef0>,\n",
              " <email.message.Message at 0x7f473746f048>,\n",
              " <email.message.Message at 0x7f4737469f28>,\n",
              " <email.message.Message at 0x7f473746f588>,\n",
              " <email.message.Message at 0x7f473746f5c0>,\n",
              " <email.message.Message at 0x7f4737469f60>,\n",
              " <email.message.Message at 0x7f473746f4a8>,\n",
              " <email.message.Message at 0x7f473746ffd0>,\n",
              " <email.message.Message at 0x7f47373f4048>,\n",
              " <email.message.Message at 0x7f473746fc88>,\n",
              " <email.message.Message at 0x7f47373f42e8>,\n",
              " <email.message.Message at 0x7f47373f4ba8>,\n",
              " <email.message.Message at 0x7f47373f47f0>,\n",
              " <email.message.Message at 0x7f473746ff98>,\n",
              " <email.message.Message at 0x7f47373fa278>,\n",
              " <email.message.Message at 0x7f47373fa2b0>,\n",
              " <email.message.Message at 0x7f47373fa550>,\n",
              " <email.message.Message at 0x7f47373faa90>,\n",
              " <email.message.Message at 0x7f47373fa7f0>,\n",
              " <email.message.Message at 0x7f47373fafd0>,\n",
              " <email.message.Message at 0x7f4737400390>,\n",
              " <email.message.Message at 0x7f4737469a20>,\n",
              " <email.message.Message at 0x7f47373faac8>,\n",
              " <email.message.Message at 0x7f4737400a20>,\n",
              " <email.message.Message at 0x7f4737400da0>,\n",
              " <email.message.Message at 0x7f4737400048>,\n",
              " <email.message.Message at 0x7f47373f4a90>,\n",
              " <email.message.Message at 0x7f47374052b0>,\n",
              " <email.message.Message at 0x7f4737405550>,\n",
              " <email.message.Message at 0x7f47374057f0>,\n",
              " <email.message.Message at 0x7f4737405d68>,\n",
              " <email.message.Message at 0x7f4737405da0>,\n",
              " <email.message.Message at 0x7f4737400a58>,\n",
              " <email.message.Message at 0x7f4737408668>,\n",
              " <email.message.Message at 0x7f47374086a0>,\n",
              " <email.message.Message at 0x7f47374085c0>,\n",
              " <email.message.Message at 0x7f47374082e8>,\n",
              " <email.message.Message at 0x7f4737410048>,\n",
              " <email.message.Message at 0x7f4737410080>,\n",
              " <email.message.Message at 0x7f47374105f8>,\n",
              " <email.message.Message at 0x7f4737410320>,\n",
              " <email.message.Message at 0x7f47374105c0>,\n",
              " <email.message.Message at 0x7f4737410b00>,\n",
              " <email.message.Message at 0x7f4737408588>,\n",
              " <email.message.Message at 0x7f4737413080>,\n",
              " <email.message.Message at 0x7f4737413630>,\n",
              " <email.message.Message at 0x7f4737405a90>,\n",
              " <email.message.Message at 0x7f4737413320>,\n",
              " <email.message.Message at 0x7f4737413d68>,\n",
              " <email.message.Message at 0x7f4737413da0>,\n",
              " <email.message.Message at 0x7f4737410da0>,\n",
              " <email.message.Message at 0x7f47374185f8>,\n",
              " <email.message.Message at 0x7f47374180b8>,\n",
              " <email.message.Message at 0x7f4737418ba8>,\n",
              " <email.message.Message at 0x7f4737418f28>,\n",
              " <email.message.Message at 0x7f4737418630>,\n",
              " <email.message.Message at 0x7f473741c4a8>,\n",
              " <email.message.Message at 0x7f473741c7b8>,\n",
              " <email.message.Message at 0x7f473741c400>,\n",
              " <email.message.Message at 0x7f4737413ac8>,\n",
              " <email.message.Message at 0x7f473ee0ccf8>,\n",
              " <email.message.Message at 0x7f473eda5198>,\n",
              " <email.message.Message at 0x7f473eda5278>,\n",
              " <email.message.Message at 0x7f4737418b70>,\n",
              " <email.message.Message at 0x7f473ee0c5f8>,\n",
              " <email.message.Message at 0x7f47374232e8>,\n",
              " <email.message.Message at 0x7f4737423588>,\n",
              " <email.message.Message at 0x7f4737423b00>,\n",
              " <email.message.Message at 0x7f4737423860>,\n",
              " <email.message.Message at 0x7f4737429128>,\n",
              " <email.message.Message at 0x7f4737423b38>,\n",
              " <email.message.Message at 0x7f47374290b8>,\n",
              " <email.message.Message at 0x7f4737429898>,\n",
              " <email.message.Message at 0x7f47374298d0>,\n",
              " <email.message.Message at 0x7f4737429ba8>,\n",
              " <email.message.Message at 0x7f473742e5f8>,\n",
              " <email.message.Message at 0x7f47374295f8>,\n",
              " <email.message.Message at 0x7f473742e128>,\n",
              " <email.message.Message at 0x7f473742e3c8>,\n",
              " <email.message.Message at 0x7f473eda5390>,\n",
              " <email.message.Message at 0x7f473742e8d0>,\n",
              " <email.message.Message at 0x7f47373b42e8>,\n",
              " <email.message.Message at 0x7f47373b4320>,\n",
              " <email.message.Message at 0x7f473742ee10>,\n",
              " <email.message.Message at 0x7f47373b40f0>,\n",
              " <email.message.Message at 0x7f47373b48d0>,\n",
              " <email.message.Message at 0x7f47373b4e10>,\n",
              " <email.message.Message at 0x7f47373b4b70>,\n",
              " <email.message.Message at 0x7f47373b4e48>,\n",
              " <email.message.Message at 0x7f47373b8630>,\n",
              " <email.message.Message at 0x7f47373b8908>,\n",
              " <email.message.Message at 0x7f47373b8668>,\n",
              " <email.message.Message at 0x7f47373b8390>,\n",
              " <email.message.Message at 0x7f47373b8940>,\n",
              " <email.message.Message at 0x7f47373bc400>,\n",
              " <email.message.Message at 0x7f47373bc390>,\n",
              " <email.message.Message at 0x7f47373bc908>,\n",
              " <email.message.Message at 0x7f47373bcc18>,\n",
              " <email.message.Message at 0x7f47373bc3c8>,\n",
              " <email.message.Message at 0x7f4737429e48>,\n",
              " <email.message.Message at 0x7f47373c1160>,\n",
              " <email.message.Message at 0x7f47373bc0f0>,\n",
              " <email.message.Message at 0x7f47373c1470>,\n",
              " <email.message.Message at 0x7f47373c1a20>,\n",
              " <email.message.Message at 0x7f47373c1f98>,\n",
              " <email.message.Message at 0x7f47373c1cf8>,\n",
              " <email.message.Message at 0x7f47373c65c0>,\n",
              " <email.message.Message at 0x7f47373bc940>,\n",
              " <email.message.Message at 0x7f47373c6588>,\n",
              " <email.message.Message at 0x7f47373c6dd8>,\n",
              " <email.message.Message at 0x7f47373c6e10>,\n",
              " <email.message.Message at 0x7f47373c6da0>,\n",
              " <email.message.Message at 0x7f47373cd5c0>,\n",
              " <email.message.Message at 0x7f47373c6b00>,\n",
              " <email.message.Message at 0x7f47373cdb00>,\n",
              " <email.message.Message at 0x7f47373cd5f8>,\n",
              " <email.message.Message at 0x7f47373d01d0>,\n",
              " <email.message.Message at 0x7f47373d00f0>,\n",
              " <email.message.Message at 0x7f47373d0128>,\n",
              " <email.message.Message at 0x7f47373d0668>,\n",
              " <email.message.Message at 0x7f47373cdb38>,\n",
              " <email.message.Message at 0x7f47373d0dd8>,\n",
              " <email.message.Message at 0x7f47373d0e10>,\n",
              " <email.message.Message at 0x7f47373d8358>,\n",
              " <email.message.Message at 0x7f47373d8668>,\n",
              " <email.message.Message at 0x7f47373d0080>,\n",
              " <email.message.Message at 0x7f47373d8b70>,\n",
              " <email.message.Message at 0x7f47373d8b38>,\n",
              " <email.message.Message at 0x7f47373d8ba8>,\n",
              " <email.message.Message at 0x7f47373dd0f0>,\n",
              " <email.message.Message at 0x7f47373dd390>,\n",
              " <email.message.Message at 0x7f47373c1fd0>,\n",
              " <email.message.Message at 0x7f47373ddba8>,\n",
              " <email.message.Message at 0x7f47373ddbe0>,\n",
              " <email.message.Message at 0x7f47373ddeb8>,\n",
              " <email.message.Message at 0x7f47373dd630>,\n",
              " <email.message.Message at 0x7f47373e1748>,\n",
              " <email.message.Message at 0x7f47373e1400>,\n",
              " <email.message.Message at 0x7f47373e1c88>,\n",
              " <email.message.Message at 0x7f47373e1f98>,\n",
              " <email.message.Message at 0x7f47373e1c50>,\n",
              " <email.message.Message at 0x7f47373e1cc0>,\n",
              " <email.message.Message at 0x7f47373e47b8>,\n",
              " <email.message.Message at 0x7f47373e4748>,\n",
              " <email.message.Message at 0x7f47373d8390>,\n",
              " <email.message.Message at 0x7f47373e4780>,\n",
              " <email.message.Message at 0x7f47373e4f28>,\n",
              " <email.message.Message at 0x7f47373e9208>,\n",
              " <email.message.Message at 0x7f47373e94a8>,\n",
              " <email.message.Message at 0x7f47373e9a20>,\n",
              " <email.message.Message at 0x7f47373e99e8>,\n",
              " <email.message.Message at 0x7f47373e9748>,\n",
              " <email.message.Message at 0x7f47373e9a58>,\n",
              " <email.message.Message at 0x7f47373ee208>,\n",
              " <email.message.Message at 0x7f47373ee748>,\n",
              " <email.message.Message at 0x7f47373ee4a8>,\n",
              " <email.message.Message at 0x7f47373ee780>,\n",
              " <email.message.Message at 0x7f4737374048>,\n",
              " <email.message.Message at 0x7f47373eef28>,\n",
              " <email.message.Message at 0x7f47373eef60>,\n",
              " <email.message.Message at 0x7f4737374710>,\n",
              " <email.message.Message at 0x7f4737374748>,\n",
              " <email.message.Message at 0x7f47373749e8>,\n",
              " <email.message.Message at 0x7f4737374c88>,\n",
              " <email.message.Message at 0x7f4737374f28>,\n",
              " <email.message.Message at 0x7f47373794e0>,\n",
              " <email.message.Message at 0x7f4737379470>,\n",
              " <email.message.Message at 0x7f47373eec88>,\n",
              " <email.message.Message at 0x7f4737379c50>,\n",
              " <email.message.Message at 0x7f4737379c88>,\n",
              " <email.message.Message at 0x7f47373794a8>,\n",
              " <email.message.Message at 0x7f4737379f28>,\n",
              " <email.message.Message at 0x7f473737d748>,\n",
              " <email.message.Message at 0x7f473737d470>,\n",
              " <email.message.Message at 0x7f473737dcc0>,\n",
              " <email.message.Message at 0x7f473737dcf8>,\n",
              " <email.message.Message at 0x7f473737dc88>,\n",
              " <email.message.Message at 0x7f473737df98>,\n",
              " <email.message.Message at 0x7f4737374470>,\n",
              " <email.message.Message at 0x7f47373839e8>,\n",
              " <email.message.Message at 0x7f4737383a20>,\n",
              " <email.message.Message at 0x7f4737383cc0>,\n",
              " <email.message.Message at 0x7f47373862e8>,\n",
              " <email.message.Message at 0x7f47373865c0>,\n",
              " <email.message.Message at 0x7f47373865f8>,\n",
              " <email.message.Message at 0x7f4737386898>,\n",
              " <email.message.Message at 0x7f4737386278>,\n",
              " <email.message.Message at 0x7f473737d780>,\n",
              " <email.message.Message at 0x7f473738c2b0>,\n",
              " <email.message.Message at 0x7f473738c278>,\n",
              " <email.message.Message at 0x7f47373862b0>,\n",
              " <email.message.Message at 0x7f473738ca58>,\n",
              " <email.message.Message at 0x7f473738ca90>,\n",
              " <email.message.Message at 0x7f473738cd30>,\n",
              " <email.message.Message at 0x7f4737391358>,\n",
              " <email.message.Message at 0x7f4737383f98>,\n",
              " <email.message.Message at 0x7f4737391898>,\n",
              " <email.message.Message at 0x7f473738cfd0>,\n",
              " <email.message.Message at 0x7f4737391cf8>,\n",
              " <email.message.Message at 0x7f47373912b0>,\n",
              " <email.message.Message at 0x7f4737391d30>,\n",
              " <email.message.Message at 0x7f4737395550>,\n",
              " <email.message.Message at 0x7f4737395518>,\n",
              " <email.message.Message at 0x7f4737395278>,\n",
              " <email.message.Message at 0x7f4737395da0>,\n",
              " <email.message.Message at 0x7f473739a0b8>,\n",
              " <email.message.Message at 0x7f473739a0f0>,\n",
              " <email.message.Message at 0x7f4737395588>,\n",
              " <email.message.Message at 0x7f4737395dd8>,\n",
              " <email.message.Message at 0x7f473739a860>,\n",
              " <email.message.Message at 0x7f473739ab00>,\n",
              " <email.message.Message at 0x7f473739e0b8>,\n",
              " <email.message.Message at 0x7f473739e080>,\n",
              " <email.message.Message at 0x7f473738c2e8>,\n",
              " <email.message.Message at 0x7f473739e0f0>,\n",
              " <email.message.Message at 0x7f4737383748>,\n",
              " <email.message.Message at 0x7f473739e860>,\n",
              " <email.message.Message at 0x7f47373a20b8>,\n",
              " <email.message.Message at 0x7f47373a2438>,\n",
              " <email.message.Message at 0x7f47373a20f0>,\n",
              " <email.message.Message at 0x7f47373a2ac8>,\n",
              " <email.message.Message at 0x7f47373a2978>,\n",
              " <email.message.Message at 0x7f473739ada0>,\n",
              " <email.message.Message at 0x7f473739ed68>,\n",
              " <email.message.Message at 0x7f47373a9588>,\n",
              " <email.message.Message at 0x7f47373a9358>,\n",
              " <email.message.Message at 0x7f47373a2390>,\n",
              " <email.message.Message at 0x7f47373a9be0>,\n",
              " <email.message.Message at 0x7f47373a90b8>,\n",
              " <email.message.Message at 0x7f47373a9c18>,\n",
              " <email.message.Message at 0x7f47373ad3c8>,\n",
              " <email.message.Message at 0x7f47373ad780>,\n",
              " <email.message.Message at 0x7f47373a9b70>,\n",
              " <email.message.Message at 0x7f47373adba8>,\n",
              " <email.message.Message at 0x7f47373ad400>,\n",
              " <email.message.Message at 0x7f47373a9ba8>,\n",
              " <email.message.Message at 0x7f4737335128>,\n",
              " <email.message.Message at 0x7f4737335668>,\n",
              " <email.message.Message at 0x7f47373356a0>,\n",
              " <email.message.Message at 0x7f4737335da0>,\n",
              " <email.message.Message at 0x7f47373adbe0>,\n",
              " <email.message.Message at 0x7f4737338128>,\n",
              " <email.message.Message at 0x7f4737338160>,\n",
              " <email.message.Message at 0x7f47373387f0>,\n",
              " <email.message.Message at 0x7f4737338400>,\n",
              " <email.message.Message at 0x7f4737338c50>,\n",
              " <email.message.Message at 0x7f473733c048>,\n",
              " <email.message.Message at 0x7f4737338c88>,\n",
              " <email.message.Message at 0x7f473733c470>,\n",
              " <email.message.Message at 0x7f4737338710>,\n",
              " <email.message.Message at 0x7f473733c4a8>,\n",
              " <email.message.Message at 0x7f473733ccc0>,\n",
              " <email.message.Message at 0x7f473733c9b0>,\n",
              " <email.message.Message at 0x7f47373422b0>,\n",
              " <email.message.Message at 0x7f4737338f28>,\n",
              " <email.message.Message at 0x7f47373427f0>,\n",
              " <email.message.Message at 0x7f47373421d0>,\n",
              " <email.message.Message at 0x7f4737342710>,\n",
              " <email.message.Message at 0x7f4737342c50>,\n",
              " <email.message.Message at 0x7f47373451d0>,\n",
              " <email.message.Message at 0x7f4737345208>,\n",
              " <email.message.Message at 0x7f4737342ef0>,\n",
              " <email.message.Message at 0x7f47373459b0>,\n",
              " <email.message.Message at 0x7f4737345cc0>,\n",
              " <email.message.Message at 0x7f47373454a8>,\n",
              " <email.message.Message at 0x7f473733cc50>,\n",
              " <email.message.Message at 0x7f473734a1d0>,\n",
              " <email.message.Message at 0x7f473734a860>,\n",
              " <email.message.Message at 0x7f473734a898>,\n",
              " <email.message.Message at 0x7f473734a470>,\n",
              " <email.message.Message at 0x7f473734a748>,\n",
              " <email.message.Message at 0x7f473734af28>,\n",
              " <email.message.Message at 0x7f4737351518>,\n",
              " <email.message.Message at 0x7f4737351da0>,\n",
              " <email.message.Message at 0x7f47373514e0>,\n",
              " <email.message.Message at 0x7f4737351a90>,\n",
              " <email.message.Message at 0x7f4737351550>,\n",
              " <email.message.Message at 0x7f47373459e8>,\n",
              " <email.message.Message at 0x7f4737354588>,\n",
              " <email.message.Message at 0x7f4737354908>,\n",
              " <email.message.Message at 0x7f47373542e8>,\n",
              " <email.message.Message at 0x7f4737354dd8>,\n",
              " <email.message.Message at 0x7f4737354e10>,\n",
              " <email.message.Message at 0x7f47373590f0>,\n",
              " <email.message.Message at 0x7f47373545c0>,\n",
              " <email.message.Message at 0x7f4737359908>,\n",
              " <email.message.Message at 0x7f47373598d0>,\n",
              " <email.message.Message at 0x7f4737359390>,\n",
              " <email.message.Message at 0x7f4737359940>,\n",
              " <email.message.Message at 0x7f473735e390>,\n",
              " <email.message.Message at 0x7f473735e3c8>,\n",
              " <email.message.Message at 0x7f473735e978>,\n",
              " <email.message.Message at 0x7f473735e908>,\n",
              " <email.message.Message at 0x7f473735e668>,\n",
              " <email.message.Message at 0x7f473735e940>,\n",
              " <email.message.Message at 0x7f4737351ac8>,\n",
              " <email.message.Message at 0x7f4737362128>,\n",
              " <email.message.Message at 0x7f47373628d0>,\n",
              " <email.message.Message at 0x7f4737362ba8>,\n",
              " <email.message.Message at 0x7f4737362f28>,\n",
              " <email.message.Message at 0x7f4737362630>,\n",
              " <email.message.Message at 0x7f4737366390>,\n",
              " <email.message.Message at 0x7f47373663c8>,\n",
              " <email.message.Message at 0x7f4737366908>,\n",
              " <email.message.Message at 0x7f4737366be0>,\n",
              " <email.message.Message at 0x7f4737366f28>,\n",
              " <email.message.Message at 0x7f4737366668>,\n",
              " <email.message.Message at 0x7f473736e438>,\n",
              " <email.message.Message at 0x7f473736e780>,\n",
              " <email.message.Message at 0x7f4737362908>,\n",
              " <email.message.Message at 0x7f4737366940>,\n",
              " <email.message.Message at 0x7f473736e3c8>,\n",
              " <email.message.Message at 0x7f473735e0f0>,\n",
              " <email.message.Message at 0x7f47372f50f0>,\n",
              " <email.message.Message at 0x7f47372f5390>,\n",
              " <email.message.Message at 0x7f47372f59b0>,\n",
              " <email.message.Message at 0x7f47372f58d0>,\n",
              " <email.message.Message at 0x7f47372f8630>,\n",
              " <email.message.Message at 0x7f47372f5e48>,\n",
              " <email.message.Message at 0x7f47372f5e80>,\n",
              " <email.message.Message at 0x7f47372f83c8>,\n",
              " <email.message.Message at 0x7f47372f5630>,\n",
              " <email.message.Message at 0x7f47372f8c50>,\n",
              " <email.message.Message at 0x7f47372f8b38>,\n",
              " <email.message.Message at 0x7f47372ff128>,\n",
              " <email.message.Message at 0x7f47372f5908>,\n",
              " <email.message.Message at 0x7f47372f8128>,\n",
              " <email.message.Message at 0x7f47372ff940>,\n",
              " <email.message.Message at 0x7f47372ffc88>,\n",
              " <email.message.Message at 0x7f47372fff98>,\n",
              " <email.message.Message at 0x7f47372ff0f0>,\n",
              " <email.message.Message at 0x7f4737303358>,\n",
              " <email.message.Message at 0x7f47373036a0>,\n",
              " <email.message.Message at 0x7f4737303390>,\n",
              " <email.message.Message at 0x7f4737303630>,\n",
              " <email.message.Message at 0x7f4737303b70>,\n",
              " <email.message.Message at 0x7f47372f8b70>,\n",
              " <email.message.Message at 0x7f4737308438>,\n",
              " <email.message.Message at 0x7f47373083c8>,\n",
              " <email.message.Message at 0x7f4737303e10>,\n",
              " <email.message.Message at 0x7f4737308400>,\n",
              " <email.message.Message at 0x7f4737308ba8>,\n",
              " <email.message.Message at 0x7f473730d160>,\n",
              " <email.message.Message at 0x7f473730d128>,\n",
              " <email.message.Message at 0x7f473730d6a0>,\n",
              " <email.message.Message at 0x7f473730d198>,\n",
              " <email.message.Message at 0x7f473730d6d8>,\n",
              " <email.message.Message at 0x7f47372ff898>,\n",
              " <email.message.Message at 0x7f4737308e48>,\n",
              " <email.message.Message at 0x7f47373114e0>,\n",
              " <email.message.Message at 0x7f4737311400>,\n",
              " <email.message.Message at 0x7f4737311438>,\n",
              " <email.message.Message at 0x7f4737311160>,\n",
              " <email.message.Message at 0x7f4737311e80>,\n",
              " <email.message.Message at 0x7f473730dbe0>,\n",
              " <email.message.Message at 0x7f4737311978>,\n",
              " <email.message.Message at 0x7f47373166a0>,\n",
              " <email.message.Message at 0x7f4737316198>,\n",
              " <email.message.Message at 0x7f47373166d8>,\n",
              " <email.message.Message at 0x7f4737316ef0>,\n",
              " <email.message.Message at 0x7f4737316f28>,\n",
              " <email.message.Message at 0x7f473731a208>,\n",
              " <email.message.Message at 0x7f4737316c50>,\n",
              " <email.message.Message at 0x7f473731a4a8>,\n",
              " <email.message.Message at 0x7f473731a9b0>,\n",
              " <email.message.Message at 0x7f473731afd0>,\n",
              " <email.message.Message at 0x7f473731af60>,\n",
              " <email.message.Message at 0x7f473731ac50>,\n",
              " <email.message.Message at 0x7f473731f748>,\n",
              " <email.message.Message at 0x7f473731af98>,\n",
              " <email.message.Message at 0x7f473731fc50>,\n",
              " <email.message.Message at 0x7f473731fc88>,\n",
              " <email.message.Message at 0x7f473731aef0>,\n",
              " <email.message.Message at 0x7f4737324208>,\n",
              " <email.message.Message at 0x7f473731af28>,\n",
              " <email.message.Message at 0x7f4737324a20>,\n",
              " <email.message.Message at 0x7f473731ff28>,\n",
              " <email.message.Message at 0x7f4737324f28>,\n",
              " <email.message.Message at 0x7f4737324f60>,\n",
              " <email.message.Message at 0x7f473732c518>,\n",
              " <email.message.Message at 0x7f473732c240>,\n",
              " <email.message.Message at 0x7f473732ca20>,\n",
              " <email.message.Message at 0x7f473732ca58>,\n",
              " <email.message.Message at 0x7f473732c4e0>,\n",
              " <email.message.Message at 0x7f473732f3c8>,\n",
              " <email.message.Message at 0x7f47373244a8>,\n",
              " <email.message.Message at 0x7f473732f7b8>,\n",
              " <email.message.Message at 0x7f473732fb38>,\n",
              " <email.message.Message at 0x7f473732f7f0>,\n",
              " <email.message.Message at 0x7f47372b3198>,\n",
              " <email.message.Message at 0x7f473732fa90>,\n",
              " <email.message.Message at 0x7f47372b35c0>,\n",
              " <email.message.Message at 0x7f47372b3588>,\n",
              " <email.message.Message at 0x7f473732ffd0>,\n",
              " <email.message.Message at 0x7f47372b3d68>,\n",
              " <email.message.Message at 0x7f473732f278>,\n",
              " <email.message.Message at 0x7f47372ba080>,\n",
              " <email.message.Message at 0x7f47372ba630>,\n",
              " <email.message.Message at 0x7f47372ba668>,\n",
              " <email.message.Message at 0x7f47372b3da0>,\n",
              " <email.message.Message at 0x7f47372bada0>,\n",
              " <email.message.Message at 0x7f47372bd0f0>,\n",
              " <email.message.Message at 0x7f47372bd0b8>,\n",
              " <email.message.Message at 0x7f47372bad68>,\n",
              " <email.message.Message at 0x7f47372bd860>,\n",
              " <email.message.Message at 0x7f47372bdb70>,\n",
              " <email.message.Message at 0x7f47372b35f8>,\n",
              " <email.message.Message at 0x7f47372c4048>,\n",
              " <email.message.Message at 0x7f47372c4080>,\n",
              " <email.message.Message at 0x7f47372bd828>,\n",
              " <email.message.Message at 0x7f47372c4320>,\n",
              " <email.message.Message at 0x7f47372c4ac8>,\n",
              " <email.message.Message at 0x7f47372c4828>,\n",
              " <email.message.Message at 0x7f47372c4b00>,\n",
              " <email.message.Message at 0x7f47372c7390>,\n",
              " <email.message.Message at 0x7f47372c7320>,\n",
              " <email.message.Message at 0x7f47372c7358>,\n",
              " <email.message.Message at 0x7f47372c7860>,\n",
              " <email.message.Message at 0x7f47372c7b00>,\n",
              " <email.message.Message at 0x7f47372badd8>,\n",
              " <email.message.Message at 0x7f47372ce390>,\n",
              " <email.message.Message at 0x7f47372ce6a0>,\n",
              " <email.message.Message at 0x7f47372ce978>,\n",
              " <email.message.Message at 0x7f47372ce0f0>,\n",
              " <email.message.Message at 0x7f47372c7e10>,\n",
              " <email.message.Message at 0x7f47372d31d0>,\n",
              " <email.message.Message at 0x7f47372d3160>,\n",
              " <email.message.Message at 0x7f47372ce3c8>,\n",
              " <email.message.Message at 0x7f47372d3978>,\n",
              " <email.message.Message at 0x7f47372d39b0>,\n",
              " <email.message.Message at 0x7f47372d3128>,\n",
              " <email.message.Message at 0x7f47372d3c88>,\n",
              " <email.message.Message at 0x7f47372d71d0>,\n",
              " <email.message.Message at 0x7f47372d7780>,\n",
              " <email.message.Message at 0x7f47372d77b8>,\n",
              " <email.message.Message at 0x7f47372d7a90>,\n",
              " <email.message.Message at 0x7f47372de0b8>,\n",
              " <email.message.Message at 0x7f47372de0f0>,\n",
              " <email.message.Message at 0x7f47372d7fd0>,\n",
              " <email.message.Message at 0x7f47372d74e0>,\n",
              " <email.message.Message at 0x7f47372de780>,\n",
              " <email.message.Message at 0x7f47372dea20>,\n",
              " <email.message.Message at 0x7f47372e3048>,\n",
              " <email.message.Message at 0x7f47372decc0>,\n",
              " <email.message.Message at 0x7f47372def60>,\n",
              " <email.message.Message at 0x7f47372e34a8>,\n",
              " <email.message.Message at 0x7f47372e3748>,\n",
              " <email.message.Message at 0x7f47372e39e8>,\n",
              " <email.message.Message at 0x7f47372c7080>,\n",
              " <email.message.Message at 0x7f47372e8358>,\n",
              " <email.message.Message at 0x7f47372e8278>,\n",
              " <email.message.Message at 0x7f47372e8240>,\n",
              " <email.message.Message at 0x7f47372e82b0>,\n",
              " <email.message.Message at 0x7f47372e8dd8>,\n",
              " <email.message.Message at 0x7f47372e8a58>,\n",
              " <email.message.Message at 0x7f47372e8cf8>,\n",
              " <email.message.Message at 0x7f47372ef5f8>,\n",
              " <email.message.Message at 0x7f47372ef9e8>,\n",
              " <email.message.Message at 0x7f47372ef518>,\n",
              " <email.message.Message at 0x7f47372ef278>,\n",
              " <email.message.Message at 0x7f47372ef550>,\n",
              " <email.message.Message at 0x7f47372f22b0>,\n",
              " <email.message.Message at 0x7f47372f22e8>,\n",
              " <email.message.Message at 0x7f47372f2588>,\n",
              " <email.message.Message at 0x7f47372f2c50>,\n",
              " <email.message.Message at 0x7f47372effd0>,\n",
              " <email.message.Message at 0x7f47372770b8>,\n",
              " <email.message.Message at 0x7f47372e3c88>,\n",
              " <email.message.Message at 0x7f4737277048>,\n",
              " <email.message.Message at 0x7f4737277588>,\n",
              " <email.message.Message at 0x7f47372f2828>,\n",
              " <email.message.Message at 0x7f4737277d68>,\n",
              " <email.message.Message at 0x7f4737277da0>,\n",
              " <email.message.Message at 0x7f4737277828>,\n",
              " <email.message.Message at 0x7f47372f2fd0>,\n",
              " <email.message.Message at 0x7f473727a7f0>,\n",
              " <email.message.Message at 0x7f473727a550>,\n",
              " <email.message.Message at 0x7f473727a828>,\n",
              " <email.message.Message at 0x7f473727afd0>,\n",
              " <email.message.Message at 0x7f4737277d30>,\n",
              " <email.message.Message at 0x7f4737280048>,\n",
              " <email.message.Message at 0x7f4737280550>,\n",
              " <email.message.Message at 0x7f4737280a90>,\n",
              " <email.message.Message at 0x7f4737280ac8>,\n",
              " <email.message.Message at 0x7f4737280d68>,\n",
              " <email.message.Message at 0x7f4737284048>,\n",
              " <email.message.Message at 0x7f4737284748>,\n",
              " <email.message.Message at 0x7f4737284588>,\n",
              " <email.message.Message at 0x7f47372807f0>,\n",
              " <email.message.Message at 0x7f47372842e8>,\n",
              " <email.message.Message at 0x7f4737284dd8>,\n",
              " <email.message.Message at 0x7f473728a470>,\n",
              " <email.message.Message at 0x7f473728a438>,\n",
              " <email.message.Message at 0x7f473728a0b8>,\n",
              " <email.message.Message at 0x7f473728ab70>,\n",
              " <email.message.Message at 0x7f473728a358>,\n",
              " <email.message.Message at 0x7f473728aba8>,\n",
              " <email.message.Message at 0x7f473728f4a8>,\n",
              " <email.message.Message at 0x7f473728f0f0>,\n",
              " <email.message.Message at 0x7f473728f8d0>,\n",
              " <email.message.Message at 0x7f473728f390>,\n",
              " <email.message.Message at 0x7f473728fef0>,\n",
              " <email.message.Message at 0x7f473728fe10>,\n",
              " <email.message.Message at 0x7f473727ad30>,\n",
              " <email.message.Message at 0x7f4737292400>,\n",
              " <email.message.Message at 0x7f473728fe48>,\n",
              " <email.message.Message at 0x7f4737292ba8>,\n",
              " <email.message.Message at 0x7f4737292eb8>,\n",
              " <email.message.Message at 0x7f4737292be0>,\n",
              " <email.message.Message at 0x7f47372926a0>,\n",
              " <email.message.Message at 0x7f47372973c8>,\n",
              " <email.message.Message at 0x7f4737297978>,\n",
              " <email.message.Message at 0x7f473729e400>,\n",
              " <email.message.Message at 0x7f4737297c50>,\n",
              " <email.message.Message at 0x7f4737297f28>,\n",
              " <email.message.Message at 0x7f4737297668>,\n",
              " <email.message.Message at 0x7f473729e710>,\n",
              " <email.message.Message at 0x7f473729e6d8>,\n",
              " <email.message.Message at 0x7f473729e748>,\n",
              " <email.message.Message at 0x7f473729ef28>,\n",
              " <email.message.Message at 0x7f473729ec50>,\n",
              " <email.message.Message at 0x7f473729eef0>,\n",
              " <email.message.Message at 0x7f47372a2470>,\n",
              " <email.message.Message at 0x7f47372a29b0>,\n",
              " <email.message.Message at 0x7f4737297f60>,\n",
              " <email.message.Message at 0x7f47372a2710>,\n",
              " <email.message.Message at 0x7f47372a6358>,\n",
              " <email.message.Message at 0x7f4737297c88>,\n",
              " <email.message.Message at 0x7f47372a6208>,\n",
              " <email.message.Message at 0x7f47372a6780>,\n",
              " <email.message.Message at 0x7f47372a9048>,\n",
              " <email.message.Message at 0x7f47372a6cc0>,\n",
              " <email.message.Message at 0x7f47372a9358>,\n",
              " <email.message.Message at 0x7f47372a6a20>,\n",
              " <email.message.Message at 0x7f47372a6f98>,\n",
              " <email.message.Message at 0x7f47372a6fd0>,\n",
              " <email.message.Message at 0x7f47372a9cc0>,\n",
              " <email.message.Message at 0x7f47372b00f0>,\n",
              " <email.message.Message at 0x7f47372a9fd0>,\n",
              " <email.message.Message at 0x7f47372a9f98>,\n",
              " <email.message.Message at 0x7f47372b0860>,\n",
              " <email.message.Message at 0x7f47372b0780>,\n",
              " <email.message.Message at 0x7f47372b07b8>,\n",
              " <email.message.Message at 0x7f47372a9cf8>,\n",
              " <email.message.Message at 0x7f47372a9a20>,\n",
              " <email.message.Message at 0x7f4737234518>,\n",
              " <email.message.Message at 0x7f47372b0cf8>,\n",
              " <email.message.Message at 0x7f4737234a90>,\n",
              " <email.message.Message at 0x7f4737234240>,\n",
              " <email.message.Message at 0x7f4737234a58>,\n",
              " <email.message.Message at 0x7f4737234ac8>,\n",
              " <email.message.Message at 0x7f473723b5c0>,\n",
              " <email.message.Message at 0x7f473723b048>,\n",
              " <email.message.Message at 0x7f473723ba90>,\n",
              " <email.message.Message at 0x7f473723bac8>,\n",
              " <email.message.Message at 0x7f473723bd68>,\n",
              " <email.message.Message at 0x7f4737234d68>,\n",
              " <email.message.Message at 0x7f47372412b0>,\n",
              " <email.message.Message at 0x7f4737241828>,\n",
              " <email.message.Message at 0x7f4737241550>,\n",
              " <email.message.Message at 0x7f4737241e48>,\n",
              " <email.message.Message at 0x7f4737241dd8>,\n",
              " <email.message.Message at 0x7f4737241d30>,\n",
              " <email.message.Message at 0x7f4737247588>,\n",
              " <email.message.Message at 0x7f4737247be0>,\n",
              " <email.message.Message at 0x7f47372478d0>,\n",
              " <email.message.Message at 0x7f4737247898>,\n",
              " <email.message.Message at 0x7f4737241d68>,\n",
              " <email.message.Message at 0x7f47372417f0>,\n",
              " <email.message.Message at 0x7f473724b2b0>,\n",
              " <email.message.Message at 0x7f473724b550>,\n",
              " <email.message.Message at 0x7f473724bba8>,\n",
              " <email.message.Message at 0x7f473724bb00>,\n",
              " <email.message.Message at 0x7f473724bb38>,\n",
              " <email.message.Message at 0x7f47372510b8>,\n",
              " <email.message.Message at 0x7f473724bac8>,\n",
              " <email.message.Message at 0x7f4737251860>,\n",
              " <email.message.Message at 0x7f4737251898>,\n",
              " <email.message.Message at 0x7f4737251358>,\n",
              " <email.message.Message at 0x7f473723b550>,\n",
              " <email.message.Message at 0x7f4737257320>,\n",
              " <email.message.Message at 0x7f4737257080>,\n",
              " <email.message.Message at 0x7f4737257860>,\n",
              " <email.message.Message at 0x7f4737257b70>,\n",
              " <email.message.Message at 0x7f4737257358>,\n",
              " <email.message.Message at 0x7f473725d0f0>,\n",
              " <email.message.Message at 0x7f4737251b38>,\n",
              " <email.message.Message at 0x7f473725d080>,\n",
              " <email.message.Message at 0x7f473725d978>,\n",
              " <email.message.Message at 0x7f473725d8d0>,\n",
              " <email.message.Message at 0x7f473725def0>,\n",
              " <email.message.Message at 0x7f473725de48>,\n",
              " <email.message.Message at 0x7f4737257898>,\n",
              " <email.message.Message at 0x7f473725d908>,\n",
              " <email.message.Message at 0x7f47372619e8>,\n",
              " <email.message.Message at 0x7f4737261400>,\n",
              " <email.message.Message at 0x7f4737261f28>,\n",
              " <email.message.Message at 0x7f4737261f60>,\n",
              " <email.message.Message at 0x7f4737261e48>,\n",
              " <email.message.Message at 0x7f47372666a0>,\n",
              " <email.message.Message at 0x7f4737261908>,\n",
              " <email.message.Message at 0x7f4737266be0>,\n",
              " <email.message.Message at 0x7f4737266ba8>,\n",
              " <email.message.Message at 0x7f4737261e80>,\n",
              " <email.message.Message at 0x7f473726b518>,\n",
              " <email.message.Message at 0x7f473726b160>,\n",
              " <email.message.Message at 0x7f4737266668>,\n",
              " <email.message.Message at 0x7f473726bba8>,\n",
              " <email.message.Message at 0x7f473726bbe0>,\n",
              " <email.message.Message at 0x7f4737266c18>,\n",
              " <email.message.Message at 0x7f473726f160>,\n",
              " <email.message.Message at 0x7f473726b400>,\n",
              " <email.message.Message at 0x7f473726f9b0>,\n",
              " <email.message.Message at 0x7f473726fd30>,\n",
              " <email.message.Message at 0x7f473726f978>,\n",
              " <email.message.Message at 0x7f473726f9e8>,\n",
              " <email.message.Message at 0x7f47371f8400>,\n",
              " <email.message.Message at 0x7f47371f8780>,\n",
              " <email.message.Message at 0x7f473726be80>,\n",
              " <email.message.Message at 0x7f47371f8438>,\n",
              " <email.message.Message at 0x7f47371f8c50>,\n",
              " <email.message.Message at 0x7f47371f8ef0>,\n",
              " <email.message.Message at 0x7f47371fb518>,\n",
              " <email.message.Message at 0x7f47371fb4a8>,\n",
              " <email.message.Message at 0x7f47371fb1d0>,\n",
              " <email.message.Message at 0x7f47371fb4e0>,\n",
              " <email.message.Message at 0x7f4737200048>,\n",
              " <email.message.Message at 0x7f4737200080>,\n",
              " <email.message.Message at 0x7f47371fbf98>,\n",
              " <email.message.Message at 0x7f47371fbf60>,\n",
              " <email.message.Message at 0x7f47372009e8>,\n",
              " <email.message.Message at 0x7f4737200a20>,\n",
              " <email.message.Message at 0x7f4737200cc0>,\n",
              " <email.message.Message at 0x7f47371fbfd0>,\n",
              " <email.message.Message at 0x7f4737205518>,\n",
              " <email.message.Message at 0x7f4737205550>,\n",
              " <email.message.Message at 0x7f47372057f0>,\n",
              " <email.message.Message at 0x7f4737205a90>,\n",
              " <email.message.Message at 0x7f473720d080>,\n",
              " <email.message.Message at 0x7f4737205d30>,\n",
              " <email.message.Message at 0x7f47371fbf28>,\n",
              " <email.message.Message at 0x7f473720d7b8>,\n",
              " <email.message.Message at 0x7f473720d7f0>,\n",
              " <email.message.Message at 0x7f473720dac8>,\n",
              " <email.message.Message at 0x7f47372110f0>,\n",
              " <email.message.Message at 0x7f473720d518>,\n",
              " <email.message.Message at 0x7f4737211668>,\n",
              " <email.message.Message at 0x7f47372116a0>,\n",
              " <email.message.Message at 0x7f4737211c88>,\n",
              " <email.message.Message at 0x7f4737205fd0>,\n",
              " <email.message.Message at 0x7f4737216208>,\n",
              " <email.message.Message at 0x7f4737216518>,\n",
              " <email.message.Message at 0x7f4737216160>,\n",
              " <email.message.Message at 0x7f473720dda0>,\n",
              " <email.message.Message at 0x7f4737216b70>,\n",
              " <email.message.Message at 0x7f4737216e48>,\n",
              " <email.message.Message at 0x7f4737216ba8>,\n",
              " <email.message.Message at 0x7f47372160f0>,\n",
              " <email.message.Message at 0x7f4737211630>,\n",
              " <email.message.Message at 0x7f473721c630>,\n",
              " <email.message.Message at 0x7f473721c8d0>,\n",
              " <email.message.Message at 0x7f473721ce48>,\n",
              " <email.message.Message at 0x7f473721cba8>,\n",
              " <email.message.Message at 0x7f4737221470>,\n",
              " <email.message.Message at 0x7f473721ce80>,\n",
              " <email.message.Message at 0x7f4737221400>,\n",
              " <email.message.Message at 0x7f4737221be0>,\n",
              " <email.message.Message at 0x7f4737221c18>,\n",
              " <email.message.Message at 0x7f4737216e80>,\n",
              " <email.message.Message at 0x7f4737227908>,\n",
              " <email.message.Message at 0x7f4737227198>,\n",
              " <email.message.Message at 0x7f4737227438>,\n",
              " <email.message.Message at 0x7f47372276d8>,\n",
              " <email.message.Message at 0x7f4737221eb8>,\n",
              " <email.message.Message at 0x7f473722c208>,\n",
              " <email.message.Message at 0x7f4737221940>,\n",
              " <email.message.Message at 0x7f473722c780>,\n",
              " <email.message.Message at 0x7f473722c240>,\n",
              " <email.message.Message at 0x7f473722c7b8>,\n",
              " <email.message.Message at 0x7f47372311d0>,\n",
              " <email.message.Message at 0x7f4737227be0>,\n",
              " <email.message.Message at 0x7f4737231710>,\n",
              " <email.message.Message at 0x7f473722ccf8>,\n",
              " <email.message.Message at 0x7f473722cf98>,\n",
              " <email.message.Message at 0x7f4737231cf8>,\n",
              " <email.message.Message at 0x7f4737231a58>,\n",
              " <email.message.Message at 0x7f4737231d30>,\n",
              " <email.message.Message at 0x7f47371b6518>,\n",
              " <email.message.Message at 0x7f47371b67f0>,\n",
              " <email.message.Message at 0x7f47371b6828>,\n",
              " <email.message.Message at 0x7f47371b6550>,\n",
              " <email.message.Message at 0x7f47371b6278>,\n",
              " <email.message.Message at 0x7f47371b6ac8>,\n",
              " <email.message.Message at 0x7f47371ba518>,\n",
              " <email.message.Message at 0x7f47371ba7f0>,\n",
              " <email.message.Message at 0x7f47371bab00>,\n",
              " <email.message.Message at 0x7f47371ba550>,\n",
              " <email.message.Message at 0x7f473722cfd0>,\n",
              " <email.message.Message at 0x7f47371c1048>,\n",
              " <email.message.Message at 0x7f47371ba278>,\n",
              " <email.message.Message at 0x7f47371c1358>,\n",
              " <email.message.Message at 0x7f47371c1860>,\n",
              " <email.message.Message at 0x7f47371c1ba8>,\n",
              " <email.message.Message at 0x7f47371c1e80>,\n",
              " <email.message.Message at 0x7f47371c44a8>,\n",
              " <email.message.Message at 0x7f47371c4ac8>,\n",
              " <email.message.Message at 0x7f47371c4160>,\n",
              " <email.message.Message at 0x7f47371c4470>,\n",
              " <email.message.Message at 0x7f47371c49e8>,\n",
              " <email.message.Message at 0x7f47371c4ef0>,\n",
              " <email.message.Message at 0x7f47371c91d0>,\n",
              " <email.message.Message at 0x7f47371c9470>,\n",
              " <email.message.Message at 0x7f47371c99e8>,\n",
              " <email.message.Message at 0x7f47371c9a20>,\n",
              " <email.message.Message at 0x7f47371d07f0>,\n",
              " <email.message.Message at 0x7f47371da4e0>,\n",
              " <email.message.Message at 0x7f47371d0198>,\n",
              " <email.message.Message at 0x7f47371dafd0>,\n",
              " <email.message.Message at 0x7f47371d0080>,\n",
              " <email.message.Message at 0x7f47371d06d8>,\n",
              " <email.message.Message at 0x7f47371d0630>,\n",
              " <email.message.Message at 0x7f47371d0668>,\n",
              " <email.message.Message at 0x7f47371d0fd0>,\n",
              " <email.message.Message at 0x7f47371c99b0>,\n",
              " <email.message.Message at 0x7f47371d05f8>,\n",
              " <email.message.Message at 0x7f47371da978>,\n",
              " <email.message.Message at 0x7f47371da9b0>,\n",
              " <email.message.Message at 0x7f47371da198>,\n",
              " <email.message.Message at 0x7f47371d3588>,\n",
              " <email.message.Message at 0x7f47371d34a8>,\n",
              " <email.message.Message at 0x7f47371d34e0>,\n",
              " <email.message.Message at 0x7f47371d00b8>,\n",
              " <email.message.Message at 0x7f47371d3f28>,\n",
              " <email.message.Message at 0x7f47371d3438>,\n",
              " <email.message.Message at 0x7f47371e0470>,\n",
              " <email.message.Message at 0x7f47371dac50>,\n",
              " <email.message.Message at 0x7f47371e09b0>,\n",
              " <email.message.Message at 0x7f47371e0cc0>,\n",
              " <email.message.Message at 0x7f47371e0c88>,\n",
              " <email.message.Message at 0x7f47371e09e8>,\n",
              " <email.message.Message at 0x7f47371e0cf8>,\n",
              " <email.message.Message at 0x7f47371e54a8>,\n",
              " <email.message.Message at 0x7f47371e5ac8>,\n",
              " <email.message.Message at 0x7f47371e5748>,\n",
              " <email.message.Message at 0x7f47371e04a8>,\n",
              " <email.message.Message at 0x7f47371e59e8>,\n",
              " <email.message.Message at 0x7f47371e91d0>,\n",
              " <email.message.Message at 0x7f47371e9780>,\n",
              " <email.message.Message at 0x7f47371e97b8>,\n",
              " <email.message.Message at 0x7f47371e94e0>,\n",
              " <email.message.Message at 0x7f47371ee080>,\n",
              " <email.message.Message at 0x7f47371d3eb8>,\n",
              " <email.message.Message at 0x7f47371ee5c0>,\n",
              " <email.message.Message at 0x7f47371ee588>,\n",
              " <email.message.Message at 0x7f47371ee048>,\n",
              " <email.message.Message at 0x7f47371eee10>,\n",
              " <email.message.Message at 0x7f47371eed68>,\n",
              " <email.message.Message at 0x7f47371eeda0>,\n",
              " <email.message.Message at 0x7f47371f1630>,\n",
              " <email.message.Message at 0x7f47371f15c0>,\n",
              " <email.message.Message at 0x7f47371e9a90>,\n",
              " <email.message.Message at 0x7f47371f15f8>,\n",
              " <email.message.Message at 0x7f47371f1da0>,\n",
              " <email.message.Message at 0x7f4737175080>,\n",
              " <email.message.Message at 0x7f4737175898>,\n",
              " <email.message.Message at 0x7f4737175320>,\n",
              " <email.message.Message at 0x7f47371755c0>,\n",
              " <email.message.Message at 0x7f4737175eb8>,\n",
              " <email.message.Message at 0x7f4737175b70>,\n",
              " <email.message.Message at 0x7f473717c3c8>,\n",
              " <email.message.Message at 0x7f473717c390>,\n",
              " <email.message.Message at 0x7f4737175e10>,\n",
              " <email.message.Message at 0x7f473717c400>,\n",
              " <email.message.Message at 0x7f473717ce10>,\n",
              " <email.message.Message at 0x7f47371ee5f8>,\n",
              " <email.message.Message at 0x7f473717cb70>,\n",
              " <email.message.Message at 0x7f47371817b8>,\n",
              " <email.message.Message at 0x7f4737181128>,\n",
              " <email.message.Message at 0x7f4737181c88>,\n",
              " <email.message.Message at 0x7f4737181630>,\n",
              " <email.message.Message at 0x7f4737181ba8>,\n",
              " <email.message.Message at 0x7f47371843c8>,\n",
              " <email.message.Message at 0x7f4737184400>,\n",
              " <email.message.Message at 0x7f47371846a0>,\n",
              " <email.message.Message at 0x7f4737184c18>,\n",
              " <email.message.Message at 0x7f4737184940>,\n",
              " <email.message.Message at 0x7f4737184128>,\n",
              " <email.message.Message at 0x7f473718a3c8>,\n",
              " <email.message.Message at 0x7f473718a400>,\n",
              " <email.message.Message at 0x7f473718a6a0>,\n",
              " <email.message.Message at 0x7f473717ce48>,\n",
              " <email.message.Message at 0x7f473718a940>,\n",
              " <email.message.Message at 0x7f473718e160>,\n",
              " <email.message.Message at 0x7f4737184be0>,\n",
              " <email.message.Message at 0x7f473718e6d8>,\n",
              " <email.message.Message at 0x7f473718e6a0>,\n",
              " <email.message.Message at 0x7f473718e198>,\n",
              " <email.message.Message at 0x7f473718e710>,\n",
              " <email.message.Message at 0x7f4737194160>,\n",
              " <email.message.Message at 0x7f473718ae48>,\n",
              " <email.message.Message at 0x7f4737194198>,\n",
              " <email.message.Message at 0x7f47371946a0>,\n",
              " <email.message.Message at 0x7f4737194c88>,\n",
              " <email.message.Message at 0x7f4737194f60>,\n",
              " <email.message.Message at 0x7f4737194f98>,\n",
              " <email.message.Message at 0x7f4737199278>,\n",
              " <email.message.Message at 0x7f4737194c18>,\n",
              " <email.message.Message at 0x7f47371999b0>,\n",
              " <email.message.Message at 0x7f4737199978>,\n",
              " <email.message.Message at 0x7f4737194c50>,\n",
              " <email.message.Message at 0x7f473718ee80>,\n",
              " <email.message.Message at 0x7f473719d438>,\n",
              " <email.message.Message at 0x7f473719d470>,\n",
              " <email.message.Message at 0x7f473719d710>,\n",
              " <email.message.Message at 0x7f473719dcf8>,\n",
              " <email.message.Message at 0x7f473719d9b0>,\n",
              " <email.message.Message at 0x7f47371a3278>,\n",
              " <email.message.Message at 0x7f473719d198>,\n",
              " <email.message.Message at 0x7f47371999e8>,\n",
              " <email.message.Message at 0x7f47371a31d0>,\n",
              " <email.message.Message at 0x7f47371a3d68>,\n",
              " <email.message.Message at 0x7f47371a3c50>,\n",
              " <email.message.Message at 0x7f47371a3c18>,\n",
              " <email.message.Message at 0x7f47371a3978>,\n",
              " <email.message.Message at 0x7f47371a8780>,\n",
              " <email.message.Message at 0x7f47371a8a58>,\n",
              " <email.message.Message at 0x7f47371a87b8>,\n",
              " <email.message.Message at 0x7f47371a8f98>,\n",
              " <email.message.Message at 0x7f47371a8fd0>,\n",
              " <email.message.Message at 0x7f47371a8a90>,\n",
              " <email.message.Message at 0x7f473719dc50>,\n",
              " <email.message.Message at 0x7f47371aca90>,\n",
              " <email.message.Message at 0x7f47371ac7f0>,\n",
              " <email.message.Message at 0x7f47371b1048>,\n",
              " ...]"
            ]
          },
          "metadata": {
            "tags": []
          },
          "execution_count": 18
        }
      ]
    },
    {
      "cell_type": "code",
      "metadata": {
        "id": "xu66Pwfw5Q6B",
        "outputId": "7a7ba676-d82a-498c-cef1-b0f6b59ef552",
        "colab": {
          "base_uri": "https://localhost:8080/",
          "height": 74
        }
      },
      "source": [
        "emails.iloc[3]"
      ],
      "execution_count": null,
      "outputs": [
        {
          "output_type": "execute_result",
          "data": {
            "text/plain": [
              "content    randy , can you send me a schedule of the salary and level of everyone in the scheduling group . plus your thoughts on any changes that need to be made . patti s for example phillip\n",
              "Name: 3, dtype: object"
            ]
          },
          "metadata": {
            "tags": []
          },
          "execution_count": 34
        }
      ]
    },
    {
      "cell_type": "code",
      "metadata": {
        "id": "ULNWm4Ff7MBI",
        "outputId": "4b950df7-bf93-440b-8ffe-4efdd5bc02e1",
        "colab": {
          "base_uri": "https://localhost:8080/",
          "height": 35
        }
      },
      "source": [
        "re.sub(r'(^[A-Za-z]*)+([\\s]*,)',\"\",\"hello ,where are you , your father?\")"
      ],
      "execution_count": null,
      "outputs": [
        {
          "output_type": "execute_result",
          "data": {
            "application/vnd.google.colaboratory.intrinsic+json": {
              "type": "string"
            },
            "text/plain": [
              "'where are you , your father?'"
            ]
          },
          "metadata": {
            "tags": []
          },
          "execution_count": 132
        }
      ]
    },
    {
      "cell_type": "code",
      "metadata": {
        "id": "SuHbDMZ28cmC"
      },
      "source": [
        "\n",
        "def match(text):\n",
        "  if re.search(\"hii ,\",text):\n",
        "    print(text)\n"
      ],
      "execution_count": null,
      "outputs": []
    },
    {
      "cell_type": "code",
      "metadata": {
        "id": "Ir7gpquwHNFo"
      },
      "source": [
        "regix=r\"(hello) ([\\s]*,)\""
      ],
      "execution_count": null,
      "outputs": []
    },
    {
      "cell_type": "code",
      "metadata": {
        "id": "cvgRA6MCIA26"
      },
      "source": [
        "re.search(regix,\"randy , there\")"
      ],
      "execution_count": null,
      "outputs": []
    },
    {
      "cell_type": "code",
      "metadata": {
        "id": "6NcGVmDvIFRA"
      },
      "source": [
        "g=emails['content'].apply(lambda x: re.search(regix,x))"
      ],
      "execution_count": null,
      "outputs": []
    },
    {
      "cell_type": "code",
      "metadata": {
        "id": "trddPzlWMbxo",
        "outputId": "5feaaf5b-85b3-4359-f682-d6169a8cb755",
        "colab": {
          "base_uri": "https://localhost:8080/",
          "height": 35
        }
      },
      "source": [
        "g.nunique()"
      ],
      "execution_count": null,
      "outputs": [
        {
          "output_type": "execute_result",
          "data": {
            "text/plain": [
              "1364"
            ]
          },
          "metadata": {
            "tags": []
          },
          "execution_count": 238
        }
      ]
    },
    {
      "cell_type": "code",
      "metadata": {
        "id": "ja-I7QE1MvkG",
        "outputId": "9311b077-fb66-40ea-9a52-a0a841efb11a",
        "colab": {
          "base_uri": "https://localhost:8080/",
          "height": 237
        }
      },
      "source": [
        "def start_process(text):\n",
        "  regix=r\"(hello) ([\\s]*,)\"\n",
        "  if not re.search(regix,text):\n",
        "    text=re.sub(r'(^[A-Za-z]*)+([\\s]*,)',\"\",text)\n",
        "    text= re.sub(r\"^\\s+\", \"\", text)\n",
        "  return text\n",
        "emails['content'][:10].apply(start_process)"
      ],
      "execution_count": null,
      "outputs": [
        {
          "output_type": "execute_result",
          "data": {
            "text/plain": [
              "0     here is our forecast                                                                                                                                                                                                                                                                                                                                                                                                                                                                                                                                                                                                                                                                                                                                                                                            \n",
              "1     traveling to have a business meeting takes the fun out of the trip . especially if you have to prepare a presentation . i would suggest holding the business plan meetings here then take a trip without any formal business meetings . i would even try and get some honest opinions on whether a trip is even desired or necessary . as far as the business meetings , i think it would be more productive to try and stimulate discussions across the different groups about what is working and what is not . too often the presenter speaks and the others are quiet just waiting for their turn . the meetings might be better if held in a round table discussion format . my suggestion for where to go is austin . play golf and rent a ski boat and jet ski's . flying somewhere takes too much time .\n",
              "2     test successful . way to go !!!                                                                                                                                                                                                                                                                                                                                                                                                                                                                                                                                                                                                                                                                                                                                                                                 \n",
              "3     can you send me a schedule of the salary and level of everyone in the scheduling group . plus your thoughts on any changes that need to be made . patti s for example phillip                                                                                                                                                                                                                                                                                                                                                                                                                                                                                                                                                                                                                                   \n",
              "4     let's shoot for tuesday at .                                                                                                                                                                                                                                                                                                                                                                                                                                                                                                                                                                                                                                                                                                                                                                                    \n",
              "5     how about either next tuesday or thursday ? phillip                                                                                                                                                                                                                                                                                                                                                                                                                                                                                                                                                                                                                                                                                                                                                             \n",
              "6     please cc the following distribution list with updates phillip allen pallen enron . com mike grigsby mike . grigsby enron . com keith holst kholst enron . com monique sanchez frank ermis john lavorato thank you for your help phillip allen                                                                                                                                                                                                                                                                                                                                                                                                                                                                                                                                                                  \n",
              "7     any morning between and                                                                                                                                                                                                                                                                                                                                                                                                                                                                                                                                                                                                                                                                                                                                                                                         \n",
              "8     . login pallen pw ke davis i don't think these are required by the isp . static ip address ip . . . sub . . . gate . . . dns . . . . company rc                                                                                                                                                                                                                                                                                                                                                                                                                                                                                                                                                                                                                                                                 \n",
              "10    mr . buckner , for delivered gas behind san diego , enron energy services is the appropriate enron entity . i have forwarded your request to zarin imam at ees . her phone number is . phillip allen                                                                                                                                                                                                                                                                                                                                                                                                                                                                                                                                                                                                            \n",
              "Name: content, dtype: object"
            ]
          },
          "metadata": {
            "tags": []
          },
          "execution_count": 253
        }
      ]
    },
    {
      "cell_type": "code",
      "metadata": {
        "id": "pYNytHRfM9SA",
        "outputId": "3a48c616-8440-4ba9-9343-d32770e47560",
        "colab": {
          "base_uri": "https://localhost:8080/",
          "height": 237
        }
      },
      "source": [
        "emails['content'][:10].nun"
      ],
      "execution_count": null,
      "outputs": [
        {
          "output_type": "execute_result",
          "data": {
            "text/plain": [
              "0     here is our forecast                                                                                                                                                                                                                                                                                                                                                                                                                                                                                                                                                                                                                                                                                                                                                                                            \n",
              "1     traveling to have a business meeting takes the fun out of the trip . especially if you have to prepare a presentation . i would suggest holding the business plan meetings here then take a trip without any formal business meetings . i would even try and get some honest opinions on whether a trip is even desired or necessary . as far as the business meetings , i think it would be more productive to try and stimulate discussions across the different groups about what is working and what is not . too often the presenter speaks and the others are quiet just waiting for their turn . the meetings might be better if held in a round table discussion format . my suggestion for where to go is austin . play golf and rent a ski boat and jet ski's . flying somewhere takes too much time .\n",
              "2     test successful . way to go !!!                                                                                                                                                                                                                                                                                                                                                                                                                                                                                                                                                                                                                                                                                                                                                                                 \n",
              "3     randy , can you send me a schedule of the salary and level of everyone in the scheduling group . plus your thoughts on any changes that need to be made . patti s for example phillip                                                                                                                                                                                                                                                                                                                                                                                                                                                                                                                                                                                                                           \n",
              "4     let's shoot for tuesday at .                                                                                                                                                                                                                                                                                                                                                                                                                                                                                                                                                                                                                                                                                                                                                                                    \n",
              "5     greg , how about either next tuesday or thursday ? phillip                                                                                                                                                                                                                                                                                                                                                                                                                                                                                                                                                                                                                                                                                                                                                      \n",
              "6     please cc the following distribution list with updates phillip allen pallen enron . com mike grigsby mike . grigsby enron . com keith holst kholst enron . com monique sanchez frank ermis john lavorato thank you for your help phillip allen                                                                                                                                                                                                                                                                                                                                                                                                                                                                                                                                                                  \n",
              "7     any morning between and                                                                                                                                                                                                                                                                                                                                                                                                                                                                                                                                                                                                                                                                                                                                                                                         \n",
              "8     . login pallen pw ke davis i don't think these are required by the isp . static ip address ip . . . sub . . . gate . . . dns . . . . company rc                                                                                                                                                                                                                                                                                                                                                                                                                                                                                                                                                                                                                                                                 \n",
              "10    mr . buckner , for delivered gas behind san diego , enron energy services is the appropriate enron entity . i have forwarded your request to zarin imam at ees . her phone number is . phillip allen                                                                                                                                                                                                                                                                                                                                                                                                                                                                                                                                                                                                            \n",
              "Name: content, dtype: object"
            ]
          },
          "metadata": {
            "tags": []
          },
          "execution_count": 254
        }
      ]
    },
    {
      "cell_type": "code",
      "metadata": {
        "id": "q-bNdcxJOcw2",
        "outputId": "d3a8feec-b827-4791-d62b-ed0b85843795",
        "colab": {
          "base_uri": "https://localhost:8080/",
          "height": 72
        }
      },
      "source": [
        "pd.DataFrame(['hello world','where are you','hello world'],columns=['content'])['content'].value_counts()"
      ],
      "execution_count": null,
      "outputs": [
        {
          "output_type": "execute_result",
          "data": {
            "text/plain": [
              "hello world      2\n",
              "where are you    1\n",
              "Name: content, dtype: int64"
            ]
          },
          "metadata": {
            "tags": []
          },
          "execution_count": 10
        }
      ]
    },
    {
      "cell_type": "code",
      "metadata": {
        "id": "RJwjERxiRkzy"
      },
      "source": [
        "SENTENCE_MAX_WORDS = 20\n",
        "list=[]\n",
        "def generate_dataset (emails):\n",
        "    contents = emails['content']\n",
        "    output = []\n",
        "    vocabulary_sentences = []\n",
        "    i=0\n",
        "    for content in contents:\n",
        "        # Skip emails longer than one sentence\n",
        "        i=i+1\n",
        "        if (len(content) > SENTENCE_MAX_WORDS * 5):\n",
        "            continue\n",
        "\n",
        "        sentences = content.split(' . ')\n",
        "        for sentence in sentences:\n",
        "            # Remove user names from start or end of sentence. This is just an heuristic\n",
        "            # but it's more efficient than compiling the list of names and removing all of them\n",
        "            # sentence = re.sub(\"(^\\w+\\s,\\s)|(\\s,\\s\\w+$)\", \"\", sentence)\n",
        "            words = sentence.split(' ')\n",
        "\n",
        "            if ((len(words) > SENTENCE_MAX_WORDS) or (len(words) < 2)):\n",
        "                continue\n",
        "            list.append(sentence)\n",
        "            vocabulary_sentences.append('<start> ' + sentence + ' <end>')\n",
        "\n",
        "            for i in range(1, len(words) - 1):\n",
        "                input_data = '<start> ' + ' '.join(words[:i+1]) + ' <end>'\n",
        "                output_data = '<start> ' + ' '.join(words[i+1:]) + ' <end>'\n",
        "                data = (input_data, output_data)\n",
        "                output.append(data)\n",
        "\n",
        "    return output, vocabulary_sentences,i\n",
        "pairs, vocabulary_sentences,i = generate_dataset(emails)\n"
      ],
      "execution_count": null,
      "outputs": []
    },
    {
      "cell_type": "code",
      "metadata": {
        "id": "yQ1ps3vcSDhN",
        "outputId": "4580004c-e641-4770-d323-94e195b7309d",
        "colab": {
          "base_uri": "https://localhost:8080/",
          "height": 35
        }
      },
      "source": [
        "len(list)"
      ],
      "execution_count": null,
      "outputs": [
        {
          "output_type": "execute_result",
          "data": {
            "text/plain": [
              "107774"
            ]
          },
          "metadata": {
            "tags": []
          },
          "execution_count": 31
        }
      ]
    },
    {
      "cell_type": "code",
      "metadata": {
        "id": "RMqjHATiZafk",
        "outputId": "855934a5-37b9-493e-adbe-c90586d97d1a",
        "colab": {
          "base_uri": "https://localhost:8080/",
          "height": 235
        }
      },
      "source": [
        "g=pd.DataFrame(list,columns=['content'])['content'].value_counts()\n",
        "g"
      ],
      "execution_count": null,
      "outputs": [
        {
          "output_type": "execute_result",
          "data": {
            "text/plain": [
              "start date hourahead hour hourahead schedule download failed                       894\n",
              "manual intervention required .                                                     894\n",
              "http www                                                                           875\n",
              "thanks .                                                                           687\n",
              "fyi .                                                                              675\n",
              "                                                                                  ... \n",
              "fran fagan sr                                                                      1  \n",
              "is it over ? sent from my blackberry wireless handheld www                         1  \n",
              "htm wiffle                                                                         1  \n",
              "hi can we go have a drink after work today ? do you think you might have time ?    1  \n",
              "mark dogett shower mom dads                                                        1  \n",
              "Name: content, Length: 34374, dtype: int64"
            ]
          },
          "metadata": {
            "tags": []
          },
          "execution_count": 38
        }
      ]
    },
    {
      "cell_type": "code",
      "metadata": {
        "id": "LS22Jtd1ZdBj",
        "outputId": "76c6d759-d0e5-4cb8-8027-77935519ab59",
        "colab": {
          "base_uri": "https://localhost:8080/",
          "height": 235
        }
      },
      "source": [
        "g[g.values>10].tail(100)"
      ],
      "execution_count": null,
      "outputs": [
        {
          "output_type": "execute_result",
          "data": {
            "text/plain": [
              "i .                                                       12\n",
              "please let me know what you think                         12\n",
              "bailey administrator corporate services eb a phone fax    12\n",
              "here is the clean and red lined version of section        12\n",
              "hope all is well                                          12\n",
              "                                                          ..\n",
              "see you then                                              11\n",
              "http enaresearch                                          11\n",
              "attached is the updated list .                            11\n",
              "thxs dave                                                 11\n",
              "counsel , ena eb                                          11\n",
              "Name: content, Length: 100, dtype: int64"
            ]
          },
          "metadata": {
            "tags": []
          },
          "execution_count": 68
        }
      ]
    },
    {
      "cell_type": "code",
      "metadata": {
        "id": "mqC7F7mna1Ec"
      },
      "source": [
        "alpha=['q','w','e','r','t','y','u','i','o','p','a','s','d','f','g','h','j','k','l','z','x','c','v','b','n','m']\n",
        "d={i:alpha[i] for i in range(26)}\n",
        "di={alpha[i]:i for i in range(26)}\n",
        "\n",
        "def checkcolor(t):\n",
        "    if(t[2]>120 and t[2]<126):\n",
        "        return 1\n",
        "    elif(t[2]>0 and t[2]<5):\n",
        "        return 2\n",
        "    else:\n",
        "        return 0\n",
        "x=80\n",
        "y=865\n",
        "dx=46\n",
        "dy=67\n",
        "dxy=22\n",
        "j=0\n",
        "g=[]\n",
        "r=[]\n",
        "for i in range(10):\n",
        "#     pyautogui.moveTo(x+i*dx+dxy*j,y+dy*j)\n",
        "    t=pyautogui.pixel(x+i*dx+dxy*j,y+dy*j)\n",
        "    if(checkcolor(t)==1):\n",
        "        g.append(d[i])\n",
        "    elif(checkcolor(t)==2):\n",
        "        r.append(d[i])\n",
        "        \n",
        "j=1\n",
        "for i in range(9):\n",
        "#     pyautogui.moveTo(x+i*dx+dxy*j,y+dy*j)\n",
        "    t=pyautogui.pixel(x+i*dx+dxy*j,y+dy*j)\n",
        "    if(checkcolor(t)==1):\n",
        "        g.append(d[i+10])\n",
        "    elif(checkcolor(t)==2):\n",
        "        r.append(d[i+10])\n",
        "j=2\n",
        "for i in range(7):\n",
        "#     pyautogui.moveTo(x+i*dx+dxy*j,y+dy*j)\n",
        "    t=pyautogui.pixel(x+i*dx+dxy*j,y+dy*j)\n",
        "    if(checkcolor(t)==1):\n",
        "        g.append(d[i+19])\n",
        "    elif(checkcolor(t)==2):\n",
        "        r.append(d[i+19])\n",
        "if len(g)==0:\n",
        "    g.append('a')\n",
        "print(r,g)\n",
        "w=findw(r[0],r[1],g[0])\n",
        "print(w)\n",
        "clickw(w)\n",
        "time.sleep(3)\n",
        "def clicker(i):\n",
        "    if i>18:\n",
        "        j=2\n",
        "        i=i%19\n",
        "        pyautogui.moveTo(x+i*dx+dxy*j,y+dy*j)\n",
        "    elif i>9 :\n",
        "        j=1\n",
        "        i=i%10\n",
        "        pyautogui.moveTo(x+i*dx+dxy*j,y+dy*j)\n",
        "    else:\n",
        "        j=0\n",
        "        pyautogui.moveTo(x+i*dx+dxy*j,y+dy*j)\n",
        "def clickw(w):\n",
        "    for i in range(len(w)):\n",
        "        time.sleep(.01)\n",
        "        clicker(di[w[i]])\n",
        "clickw(\"manish\")"
      ],
      "execution_count": null,
      "outputs": []
    },
    {
      "cell_type": "code",
      "metadata": {
        "id": "6CDU5a75biaS"
      },
      "source": [
        ""
      ],
      "execution_count": null,
      "outputs": []
    }
  ]
}