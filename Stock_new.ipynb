{
  "nbformat": 4,
  "nbformat_minor": 0,
  "metadata": {
    "colab": {
      "name": "Stock.ipynb",
      "provenance": [],
      "collapsed_sections": [],
      "include_colab_link": true
    },
    "kernelspec": {
      "name": "python3",
      "display_name": "Python 3"
    }
  },
  "cells": [
    {
      "cell_type": "markdown",
      "metadata": {
        "id": "view-in-github",
        "colab_type": "text"
      },
      "source": [
        "<a href=\"https://colab.research.google.com/github/ankitstar01/ml_test/blob/master/Stock_new.ipynb\" target=\"_parent\"><img src=\"https://colab.research.google.com/assets/colab-badge.svg\" alt=\"Open In Colab\"/></a>"
      ]
    },
    {
      "cell_type": "code",
      "metadata": {
        "id": "n-tBNTxO_g_7"
      },
      "source": [
        "import matplotlib.pyplot as plt\n",
        "import pandas as pd\n",
        "import numpy as np\n",
        "import keras\n",
        "import os\n",
        " \n",
        "from sklearn.preprocessing import MinMaxScaler\n",
        "from textblob import TextBlob\n",
        "from polygon import RESTClient\n",
        "from tensorflow.keras import Sequential\n",
        "from tensorflow.keras.layers import Dense, LSTM, Dropout, Bidirectional, Activation\n",
        " \n",
        "API_KEY = 'vqeohd8x5k1x6PKiisJQS8RgS3A1iRQC'\n",
        "ticker = 'NIO'"
      ],
      "execution_count": null,
      "outputs": []
    },
    {
      "cell_type": "code",
      "metadata": {
        "id": "5Qvyu08h_sbp"
      },
      "source": [
        "def get_all_data(ticker, api_key):\n",
        "    f = open('ticker_folder/' + ticker + '.csv', 'w')\n",
        "    with RESTClient(api_key) as client:\n",
        "        resp = client.stocks_equities_aggregates(ticker=ticker, multiplier=1, timespan='minute',\n",
        "                                                 from_='2021-01-20', to='2021-02-04', unadjusted=False,\n",
        "                                                 sort='asc', limit=50000)\n",
        "        resp = resp.results\n",
        "        f.write('timestamp,open,low,high,volume,close\\n')\n",
        "        for query in resp:\n",
        "            f.write(str(query['t']) + ',' + str(query['o']) + ',' + str(query['l']) + ','\n",
        "                    + str(query['h']) + ',' + str(query['v']) + ',' + str(query['c']) + '\\n')\n",
        "    f.close()\n",
        "    f = open('ticker_folder/' + ticker + '.csv', 'r')\n",
        "    df = pd.read_csv(f)\n",
        "    return df"
      ],
      "execution_count": null,
      "outputs": []
    },
    {
      "cell_type": "code",
      "metadata": {
        "colab": {
          "base_uri": "https://localhost:8080/",
          "height": 204
        },
        "id": "dTaTglVT_6O7",
        "outputId": "f0012dda-1937-4a58-bc77-c58d3f335d81"
      },
      "source": [
        "df = get_all_data(ticker, API_KEY)\n",
        "df.tail()"
      ],
      "execution_count": null,
      "outputs": [
        {
          "output_type": "execute_result",
          "data": {
            "text/html": [
              "<div>\n",
              "<style scoped>\n",
              "    .dataframe tbody tr th:only-of-type {\n",
              "        vertical-align: middle;\n",
              "    }\n",
              "\n",
              "    .dataframe tbody tr th {\n",
              "        vertical-align: top;\n",
              "    }\n",
              "\n",
              "    .dataframe thead th {\n",
              "        text-align: right;\n",
              "    }\n",
              "</style>\n",
              "<table border=\"1\" class=\"dataframe\">\n",
              "  <thead>\n",
              "    <tr style=\"text-align: right;\">\n",
              "      <th></th>\n",
              "      <th>timestamp</th>\n",
              "      <th>open</th>\n",
              "      <th>low</th>\n",
              "      <th>high</th>\n",
              "      <th>volume</th>\n",
              "      <th>close</th>\n",
              "    </tr>\n",
              "  </thead>\n",
              "  <tbody>\n",
              "    <tr>\n",
              "      <th>10970</th>\n",
              "      <td>1612486500000</td>\n",
              "      <td>57.64</td>\n",
              "      <td>57.60</td>\n",
              "      <td>57.64</td>\n",
              "      <td>9566.0</td>\n",
              "      <td>57.64</td>\n",
              "    </tr>\n",
              "    <tr>\n",
              "      <th>10971</th>\n",
              "      <td>1612486560000</td>\n",
              "      <td>57.63</td>\n",
              "      <td>57.62</td>\n",
              "      <td>57.63</td>\n",
              "      <td>713.0</td>\n",
              "      <td>57.62</td>\n",
              "    </tr>\n",
              "    <tr>\n",
              "      <th>10972</th>\n",
              "      <td>1612486620000</td>\n",
              "      <td>57.61</td>\n",
              "      <td>57.61</td>\n",
              "      <td>57.62</td>\n",
              "      <td>1086.0</td>\n",
              "      <td>57.61</td>\n",
              "    </tr>\n",
              "    <tr>\n",
              "      <th>10973</th>\n",
              "      <td>1612486680000</td>\n",
              "      <td>57.62</td>\n",
              "      <td>57.62</td>\n",
              "      <td>57.63</td>\n",
              "      <td>3045.0</td>\n",
              "      <td>57.62</td>\n",
              "    </tr>\n",
              "    <tr>\n",
              "      <th>10974</th>\n",
              "      <td>1612486740000</td>\n",
              "      <td>57.62</td>\n",
              "      <td>57.60</td>\n",
              "      <td>57.63</td>\n",
              "      <td>4660.0</td>\n",
              "      <td>57.60</td>\n",
              "    </tr>\n",
              "  </tbody>\n",
              "</table>\n",
              "</div>"
            ],
            "text/plain": [
              "           timestamp   open    low   high  volume  close\n",
              "10970  1612486500000  57.64  57.60  57.64  9566.0  57.64\n",
              "10971  1612486560000  57.63  57.62  57.63   713.0  57.62\n",
              "10972  1612486620000  57.61  57.61  57.62  1086.0  57.61\n",
              "10973  1612486680000  57.62  57.62  57.63  3045.0  57.62\n",
              "10974  1612486740000  57.62  57.60  57.63  4660.0  57.60"
            ]
          },
          "metadata": {
            "tags": []
          },
          "execution_count": 46
        }
      ]
    },
    {
      "cell_type": "code",
      "metadata": {
        "colab": {
          "base_uri": "https://localhost:8080/",
          "height": 204
        },
        "id": "PihlLFx1Afeo",
        "outputId": "a9a7ecef-cfa3-44fb-c1c1-4ebb1a95f2cf"
      },
      "source": [
        "df = df.drop(['timestamp'], axis=1)\n",
        "df.tail()"
      ],
      "execution_count": null,
      "outputs": [
        {
          "output_type": "execute_result",
          "data": {
            "text/html": [
              "<div>\n",
              "<style scoped>\n",
              "    .dataframe tbody tr th:only-of-type {\n",
              "        vertical-align: middle;\n",
              "    }\n",
              "\n",
              "    .dataframe tbody tr th {\n",
              "        vertical-align: top;\n",
              "    }\n",
              "\n",
              "    .dataframe thead th {\n",
              "        text-align: right;\n",
              "    }\n",
              "</style>\n",
              "<table border=\"1\" class=\"dataframe\">\n",
              "  <thead>\n",
              "    <tr style=\"text-align: right;\">\n",
              "      <th></th>\n",
              "      <th>open</th>\n",
              "      <th>low</th>\n",
              "      <th>high</th>\n",
              "      <th>volume</th>\n",
              "      <th>close</th>\n",
              "    </tr>\n",
              "  </thead>\n",
              "  <tbody>\n",
              "    <tr>\n",
              "      <th>10970</th>\n",
              "      <td>57.64</td>\n",
              "      <td>57.60</td>\n",
              "      <td>57.64</td>\n",
              "      <td>9566.0</td>\n",
              "      <td>57.64</td>\n",
              "    </tr>\n",
              "    <tr>\n",
              "      <th>10971</th>\n",
              "      <td>57.63</td>\n",
              "      <td>57.62</td>\n",
              "      <td>57.63</td>\n",
              "      <td>713.0</td>\n",
              "      <td>57.62</td>\n",
              "    </tr>\n",
              "    <tr>\n",
              "      <th>10972</th>\n",
              "      <td>57.61</td>\n",
              "      <td>57.61</td>\n",
              "      <td>57.62</td>\n",
              "      <td>1086.0</td>\n",
              "      <td>57.61</td>\n",
              "    </tr>\n",
              "    <tr>\n",
              "      <th>10973</th>\n",
              "      <td>57.62</td>\n",
              "      <td>57.62</td>\n",
              "      <td>57.63</td>\n",
              "      <td>3045.0</td>\n",
              "      <td>57.62</td>\n",
              "    </tr>\n",
              "    <tr>\n",
              "      <th>10974</th>\n",
              "      <td>57.62</td>\n",
              "      <td>57.60</td>\n",
              "      <td>57.63</td>\n",
              "      <td>4660.0</td>\n",
              "      <td>57.60</td>\n",
              "    </tr>\n",
              "  </tbody>\n",
              "</table>\n",
              "</div>"
            ],
            "text/plain": [
              "        open    low   high  volume  close\n",
              "10970  57.64  57.60  57.64  9566.0  57.64\n",
              "10971  57.63  57.62  57.63   713.0  57.62\n",
              "10972  57.61  57.61  57.62  1086.0  57.61\n",
              "10973  57.62  57.62  57.63  3045.0  57.62\n",
              "10974  57.62  57.60  57.63  4660.0  57.60"
            ]
          },
          "metadata": {
            "tags": []
          },
          "execution_count": 47
        }
      ]
    },
    {
      "cell_type": "code",
      "metadata": {
        "id": "hvsEd7pbAg2T"
      },
      "source": [
        "def split_data(data):\n",
        "    rows = len(data)\n",
        "    data_training = data[:rows - 30]\n",
        "    data_testing = data[rows - 30:]\n",
        "\n",
        "    scaler = MinMaxScaler()\n",
        "    training_data = data_training.copy()\n",
        "    data_training = scaler.fit_transform(data_training)\n",
        "\n",
        "    x_train, y_train = [], []\n",
        "    x_test, y_test = [], []\n",
        "\n",
        "    for i in range(30, data_training.shape[0]):\n",
        "        x_train.append(data_training[i - 30: i])\n",
        "        y_train.append(data_training[i, 0])\n",
        "    \n",
        "    x_train = np.asarray(x_train)\n",
        "    y_train = np.asarray(y_train)\n",
        "\n",
        "    past_30 = training_data.tail(30)\n",
        "    df = past_30.append(data_testing, ignore_index=True)\n",
        "    data_testing = scaler.transform(df)\n",
        "\n",
        "    for i in range(30, data_testing.shape[0]):\n",
        "        x_test.append(data_testing[i - 30: i])\n",
        "        y_test.append(data_testing[i, 0])\n",
        "\n",
        "    x_test = np.asarray(x_test)\n",
        "    y_test = np.asarray(y_test)\n",
        "\n",
        "    return x_train, y_train, x_test, y_test, scaler.scale_[0]"
      ],
      "execution_count": null,
      "outputs": []
    },
    {
      "cell_type": "code",
      "metadata": {
        "id": "uHoN-xltE4Of"
      },
      "source": [
        "x_train, y_train, x_test, y_test, scaler = split_data(df)\n",
        "scale = 1/scaler"
      ],
      "execution_count": null,
      "outputs": []
    },
    {
      "cell_type": "code",
      "metadata": {
        "id": "Q1-mYab3FzFz"
      },
      "source": [
        "def create_neural_network():\n",
        "    model = Sequential()\n",
        "    model.add(Bidirectional(LSTM(units=50, activation='relu', input_shape=(30, 5), return_sequences=True)))\n",
        "    model.add(Dropout(0.1))\n",
        "\n",
        "    model.add(Bidirectional(LSTM(units=60, activation='relu', return_sequences=True)))\n",
        "    model.add(Dropout(0.1))\n",
        "\n",
        "    model.add(Bidirectional(LSTM(units=80, activation='relu', return_sequences=True)))\n",
        "    model.add(Dropout(0.1))\n",
        "\n",
        "    model.add(Bidirectional(LSTM(units=100, activation='relu', return_sequences=True)))\n",
        "    model.add(Dropout(0.1))\n",
        "\n",
        "    model.add(Bidirectional(LSTM(units=120, activation='relu', return_sequences=False)))\n",
        "    model.add(Dropout(0.1))\n",
        "\n",
        "    model.add(Dense(units=50))\n",
        "    model.add(Dense(units=25))\n",
        "    model.add(Dense(units=1))\n",
        "\n",
        "    return model"
      ],
      "execution_count": null,
      "outputs": []
    },
    {
      "cell_type": "code",
      "metadata": {
        "colab": {
          "base_uri": "https://localhost:8080/"
        },
        "id": "JA_e8tHRF1sM",
        "outputId": "1354e68d-cbe0-4ab9-83fb-317cf712c6e1"
      },
      "source": [
        "model = create_neural_network()\n",
        "model.compile(optimizer='adam', loss='mean_squared_error')\n",
        "model.fit(x_train, y_train, epochs=10, batch_size=32)"
      ],
      "execution_count": null,
      "outputs": [
        {
          "output_type": "stream",
          "text": [
            "Epoch 1/10\n",
            "96/96 [==============================] - 35s 241ms/step - loss: 0.0126\n",
            "Epoch 2/10\n",
            "96/96 [==============================] - 23s 241ms/step - loss: 0.0035\n",
            "Epoch 3/10\n",
            "96/96 [==============================] - 23s 241ms/step - loss: 0.0020\n",
            "Epoch 4/10\n",
            "96/96 [==============================] - 23s 243ms/step - loss: 0.0012\n",
            "Epoch 5/10\n",
            "96/96 [==============================] - 23s 242ms/step - loss: 0.0018\n",
            "Epoch 6/10\n",
            "96/96 [==============================] - 23s 241ms/step - loss: 0.0022\n",
            "Epoch 7/10\n",
            "96/96 [==============================] - 23s 241ms/step - loss: 0.0013\n",
            "Epoch 8/10\n",
            "96/96 [==============================] - 23s 242ms/step - loss: 9.8725e-04\n",
            "Epoch 9/10\n",
            "96/96 [==============================] - 23s 242ms/step - loss: 7.6239e-04\n",
            "Epoch 10/10\n",
            "96/96 [==============================] - 23s 241ms/step - loss: 6.9145e-04\n"
          ],
          "name": "stdout"
        },
        {
          "output_type": "execute_result",
          "data": {
            "text/plain": [
              "<tensorflow.python.keras.callbacks.History at 0x7f519310b518>"
            ]
          },
          "metadata": {
            "tags": []
          },
          "execution_count": 22
        }
      ]
    },
    {
      "cell_type": "code",
      "metadata": {
        "id": "-FDzKfcJHPoI"
      },
      "source": [
        "predictions = model.predict(x_test)"
      ],
      "execution_count": null,
      "outputs": []
    },
    {
      "cell_type": "code",
      "metadata": {
        "id": "05Oi1HnUHh1X"
      },
      "source": [
        "y_test = y_test * scale\n",
        "predictions = predictions * scale"
      ],
      "execution_count": null,
      "outputs": []
    },
    {
      "cell_type": "code",
      "metadata": {
        "colab": {
          "base_uri": "https://localhost:8080/",
          "height": 334
        },
        "id": "Hj0RX5sOHjz3",
        "outputId": "70b2e22c-0877-4912-cb2c-66dd5c524999"
      },
      "source": [
        "plt.figure(figsize=(14, 5))\n",
        "plt.plot(y_test, c='r', label='Real ' + ticker + ' stock price')\n",
        "plt.plot(predictions, c='b', label='Predicted ' + ticker + ' stock price')\n",
        "plt.xlabel('time')\n",
        "plt.ylabel(ticker + ' Stock Price')\n",
        "plt.legend()\n",
        "plt.show()"
      ],
      "execution_count": null,
      "outputs": [
        {
          "output_type": "display_data",
          "data": {
            "image/png": "[encoded data removed]",
            "text/plain": [
              "<Figure size 1008x360 with 1 Axes>"
            ]
          },
          "metadata": {
            "tags": [],
            "needs_background": "light"
          }
        }
      ]
    },
    {
      "cell_type": "code",
      "metadata": {
        "colab": {
          "base_uri": "https://localhost:8080/"
        },
        "id": "0pZdzwxDJEah",
        "outputId": "af676355-dfe4-49c2-cd1e-902bab676e4d"
      },
      "source": [
        "model.save('models/' + ticker)"
      ],
      "execution_count": null,
      "outputs": [
        {
          "output_type": "stream",
          "text": [
            "INFO:tensorflow:Assets written to: models/GME/assets\n"
          ],
          "name": "stdout"
        }
      ]
    },
    {
      "cell_type": "code",
      "metadata": {
        "id": "xFBgP556H-6r"
      },
      "source": [
        "def update_data(ticker, api_key):\n",
        "    f = open('ticker_folder/' + ticker + '.csv','a')\n",
        "    with RESTClient(api_key) as client:\n",
        "        resp = client.stocks_equities_aggregates(ticker=ticker, multiplier=10, timespan='minute',\n",
        "                                                 from_='2021-02-04', to='2021-02-04', unadjusted=False,\n",
        "                                                 sort='asc', limit=50000)\n",
        "        resp = resp.results\n",
        "        for query in resp:\n",
        "            f.write(str(query['t']) + ',' + str(query['o']) + ',' + str(query['l']) + ','\n",
        "                    + str(query['h']) + ',' + str(query['v']) + ',' + str(query['c']) + '\\n')\n",
        "    f.close()\n",
        "    f = open('ticker_folder/' + ticker + '.csv', 'r')\n",
        "    df = pd.read_csv(f)\n",
        "    return df"
      ],
      "execution_count": null,
      "outputs": []
    },
    {
      "cell_type": "code",
      "metadata": {
        "colab": {
          "base_uri": "https://localhost:8080/",
          "height": 204
        },
        "id": "sKKs3PLrIGpa",
        "outputId": "1578acfb-885f-45c5-ac8b-13f2a2bba7fd"
      },
      "source": [
        "df2 = update_data(ticker, API_KEY)\n",
        "df2.tail()"
      ],
      "execution_count": null,
      "outputs": [
        {
          "output_type": "execute_result",
          "data": {
            "text/html": [
              "<div>\n",
              "<style scoped>\n",
              "    .dataframe tbody tr th:only-of-type {\n",
              "        vertical-align: middle;\n",
              "    }\n",
              "\n",
              "    .dataframe tbody tr th {\n",
              "        vertical-align: top;\n",
              "    }\n",
              "\n",
              "    .dataframe thead th {\n",
              "        text-align: right;\n",
              "    }\n",
              "</style>\n",
              "<table border=\"1\" class=\"dataframe\">\n",
              "  <thead>\n",
              "    <tr style=\"text-align: right;\">\n",
              "      <th></th>\n",
              "      <th>timestamp</th>\n",
              "      <th>open</th>\n",
              "      <th>low</th>\n",
              "      <th>high</th>\n",
              "      <th>volume</th>\n",
              "      <th>close</th>\n",
              "    </tr>\n",
              "  </thead>\n",
              "  <tbody>\n",
              "    <tr>\n",
              "      <th>3191</th>\n",
              "      <td>1612483800000</td>\n",
              "      <td>50.18</td>\n",
              "      <td>50.13</td>\n",
              "      <td>50.94</td>\n",
              "      <td>33918.0</td>\n",
              "      <td>50.13</td>\n",
              "    </tr>\n",
              "    <tr>\n",
              "      <th>3192</th>\n",
              "      <td>1612484400000</td>\n",
              "      <td>50.13</td>\n",
              "      <td>49.56</td>\n",
              "      <td>50.75</td>\n",
              "      <td>56667.0</td>\n",
              "      <td>50.51</td>\n",
              "    </tr>\n",
              "    <tr>\n",
              "      <th>3193</th>\n",
              "      <td>1612485000000</td>\n",
              "      <td>50.73</td>\n",
              "      <td>50.10</td>\n",
              "      <td>50.73</td>\n",
              "      <td>32266.0</td>\n",
              "      <td>50.10</td>\n",
              "    </tr>\n",
              "    <tr>\n",
              "      <th>3194</th>\n",
              "      <td>1612485600000</td>\n",
              "      <td>50.10</td>\n",
              "      <td>49.50</td>\n",
              "      <td>50.10</td>\n",
              "      <td>56866.0</td>\n",
              "      <td>49.60</td>\n",
              "    </tr>\n",
              "    <tr>\n",
              "      <th>3195</th>\n",
              "      <td>1612486200000</td>\n",
              "      <td>49.60</td>\n",
              "      <td>49.00</td>\n",
              "      <td>49.69</td>\n",
              "      <td>123666.0</td>\n",
              "      <td>49.17</td>\n",
              "    </tr>\n",
              "  </tbody>\n",
              "</table>\n",
              "</div>"
            ],
            "text/plain": [
              "          timestamp   open    low   high    volume  close\n",
              "3191  1612483800000  50.18  50.13  50.94   33918.0  50.13\n",
              "3192  1612484400000  50.13  49.56  50.75   56667.0  50.51\n",
              "3193  1612485000000  50.73  50.10  50.73   32266.0  50.10\n",
              "3194  1612485600000  50.10  49.50  50.10   56866.0  49.60\n",
              "3195  1612486200000  49.60  49.00  49.69  123666.0  49.17"
            ]
          },
          "metadata": {
            "tags": []
          },
          "execution_count": 28
        }
      ]
    },
    {
      "cell_type": "code",
      "metadata": {
        "colab": {
          "base_uri": "https://localhost:8080/",
          "height": 204
        },
        "id": "nP6q1VD8IPyd",
        "outputId": "f06f0835-db5d-4ef0-a3d8-b2db6c7bbbd6"
      },
      "source": [
        "df2 = df2.drop([\"timestamp\"], axis=1)\n",
        "df2.tail()"
      ],
      "execution_count": null,
      "outputs": [
        {
          "output_type": "execute_result",
          "data": {
            "text/html": [
              "<div>\n",
              "<style scoped>\n",
              "    .dataframe tbody tr th:only-of-type {\n",
              "        vertical-align: middle;\n",
              "    }\n",
              "\n",
              "    .dataframe tbody tr th {\n",
              "        vertical-align: top;\n",
              "    }\n",
              "\n",
              "    .dataframe thead th {\n",
              "        text-align: right;\n",
              "    }\n",
              "</style>\n",
              "<table border=\"1\" class=\"dataframe\">\n",
              "  <thead>\n",
              "    <tr style=\"text-align: right;\">\n",
              "      <th></th>\n",
              "      <th>open</th>\n",
              "      <th>low</th>\n",
              "      <th>high</th>\n",
              "      <th>volume</th>\n",
              "      <th>close</th>\n",
              "    </tr>\n",
              "  </thead>\n",
              "  <tbody>\n",
              "    <tr>\n",
              "      <th>3191</th>\n",
              "      <td>50.18</td>\n",
              "      <td>50.13</td>\n",
              "      <td>50.94</td>\n",
              "      <td>33918.0</td>\n",
              "      <td>50.13</td>\n",
              "    </tr>\n",
              "    <tr>\n",
              "      <th>3192</th>\n",
              "      <td>50.13</td>\n",
              "      <td>49.56</td>\n",
              "      <td>50.75</td>\n",
              "      <td>56667.0</td>\n",
              "      <td>50.51</td>\n",
              "    </tr>\n",
              "    <tr>\n",
              "      <th>3193</th>\n",
              "      <td>50.73</td>\n",
              "      <td>50.10</td>\n",
              "      <td>50.73</td>\n",
              "      <td>32266.0</td>\n",
              "      <td>50.10</td>\n",
              "    </tr>\n",
              "    <tr>\n",
              "      <th>3194</th>\n",
              "      <td>50.10</td>\n",
              "      <td>49.50</td>\n",
              "      <td>50.10</td>\n",
              "      <td>56866.0</td>\n",
              "      <td>49.60</td>\n",
              "    </tr>\n",
              "    <tr>\n",
              "      <th>3195</th>\n",
              "      <td>49.60</td>\n",
              "      <td>49.00</td>\n",
              "      <td>49.69</td>\n",
              "      <td>123666.0</td>\n",
              "      <td>49.17</td>\n",
              "    </tr>\n",
              "  </tbody>\n",
              "</table>\n",
              "</div>"
            ],
            "text/plain": [
              "       open    low   high    volume  close\n",
              "3191  50.18  50.13  50.94   33918.0  50.13\n",
              "3192  50.13  49.56  50.75   56667.0  50.51\n",
              "3193  50.73  50.10  50.73   32266.0  50.10\n",
              "3194  50.10  49.50  50.10   56866.0  49.60\n",
              "3195  49.60  49.00  49.69  123666.0  49.17"
            ]
          },
          "metadata": {
            "tags": []
          },
          "execution_count": 29
        }
      ]
    },
    {
      "cell_type": "code",
      "metadata": {
        "id": "MEqgwbR9IWks"
      },
      "source": [
        "model = keras.models.load_model('models/' + ticker)\n",
        "x_train, y_train, x_test, y_test, scaler = split_data(df2)\n",
        "predictions = model.predict(x_test)"
      ],
      "execution_count": null,
      "outputs": []
    },
    {
      "cell_type": "code",
      "metadata": {
        "id": "_D9e4FGPJdpb"
      },
      "source": [
        "scale = 1 / scaler\n",
        "predictions = predictions * scale\n",
        "y_test = y_test * scale\n",
        "\n",
        "plt.figure(figsize=(14, 5))\n",
        "plt.plot(y_test, c='r', label='Real ' + ticker + ' stock price')\n",
        "plt.plot(predictions, c='b', label='Predicted ' + ticker + ' stock price')\n",
        "plt.xlabel('time')\n",
        "plt.ylabel(ticker + ' Stock Price')\n",
        "plt.legend()\n",
        "plt.show()"
      ],
      "execution_count": null,
      "outputs": []
    },
    {
      "cell_type": "code",
      "metadata": {
        "id": "kVeXKk_qvgJc"
      },
      "source": [
        "x_train, y_train, x_test, y_test, scaler = split_data(df2)\n"
      ],
      "execution_count": null,
      "outputs": []
    },
    {
      "cell_type": "code",
      "metadata": {
        "id": "6DX_cQ0fJ5Yc"
      },
      "source": [
        "def get_minute_data(ticker, api_key, last_minutes):  # gets minute by minute data for last (last_minutes) minutes\n",
        "    f = open('recent_ticker_data/' + ticker + '.csv', 'w')\n",
        "    with RESTClient(api_key) as client:\n",
        "        resp = client.stocks_equities_aggregates(ticker=ticker, multiplier=1, timespan='minute',\n",
        "                                                 from_='1999-07-12', to='2021-02-04', unadjusted=False,\n",
        "                                                 sort='desc', limit=last_minutes)\n",
        "        resp = resp.results\n",
        "        f.write('timestamp,open,low,high,volume,close\\n')\n",
        "        for query in resp:\n",
        "            f.write(str(query['t']) + ',' + str(query['o']) + ',' + str(query['l']) + ',' + str(query['h']) + ',' + str(query['v']) + ',' + str(query['c']) + '\\n')\n",
        "        f.close()\n",
        "    f = open('recent_ticker_data/' + ticker + '.csv', 'r')\n",
        "    df = pd.read_csv(f)\n",
        "    return df"
      ],
      "execution_count": null,
      "outputs": []
    },
    {
      "cell_type": "code",
      "metadata": {
        "colab": {
          "base_uri": "https://localhost:8080/",
          "height": 204
        },
        "id": "1HgY5CJSJ8Kx",
        "outputId": "261cb845-9520-450a-cbba-d6adcb019c7e"
      },
      "source": [
        "df = get_minute_data('GME', API_KEY, 60)\n",
        "df.head()"
      ],
      "execution_count": null,
      "outputs": [
        {
          "output_type": "execute_result",
          "data": {
            "text/html": [
              "<div>\n",
              "<style scoped>\n",
              "    .dataframe tbody tr th:only-of-type {\n",
              "        vertical-align: middle;\n",
              "    }\n",
              "\n",
              "    .dataframe tbody tr th {\n",
              "        vertical-align: top;\n",
              "    }\n",
              "\n",
              "    .dataframe thead th {\n",
              "        text-align: right;\n",
              "    }\n",
              "</style>\n",
              "<table border=\"1\" class=\"dataframe\">\n",
              "  <thead>\n",
              "    <tr style=\"text-align: right;\">\n",
              "      <th></th>\n",
              "      <th>timestamp</th>\n",
              "      <th>open</th>\n",
              "      <th>low</th>\n",
              "      <th>high</th>\n",
              "      <th>volume</th>\n",
              "      <th>close</th>\n",
              "    </tr>\n",
              "  </thead>\n",
              "  <tbody>\n",
              "    <tr>\n",
              "      <th>0</th>\n",
              "      <td>1612486740000</td>\n",
              "      <td>49.00</td>\n",
              "      <td>49.00</td>\n",
              "      <td>49.48</td>\n",
              "      <td>29415</td>\n",
              "      <td>49.17</td>\n",
              "    </tr>\n",
              "    <tr>\n",
              "      <th>1</th>\n",
              "      <td>1612486680000</td>\n",
              "      <td>49.02</td>\n",
              "      <td>49.00</td>\n",
              "      <td>49.10</td>\n",
              "      <td>22745</td>\n",
              "      <td>49.01</td>\n",
              "    </tr>\n",
              "    <tr>\n",
              "      <th>2</th>\n",
              "      <td>1612486620000</td>\n",
              "      <td>49.25</td>\n",
              "      <td>49.01</td>\n",
              "      <td>49.25</td>\n",
              "      <td>21123</td>\n",
              "      <td>49.02</td>\n",
              "    </tr>\n",
              "    <tr>\n",
              "      <th>3</th>\n",
              "      <td>1612486560000</td>\n",
              "      <td>49.40</td>\n",
              "      <td>49.20</td>\n",
              "      <td>49.40</td>\n",
              "      <td>13707</td>\n",
              "      <td>49.20</td>\n",
              "    </tr>\n",
              "    <tr>\n",
              "      <th>4</th>\n",
              "      <td>1612486500000</td>\n",
              "      <td>49.41</td>\n",
              "      <td>49.40</td>\n",
              "      <td>49.56</td>\n",
              "      <td>10718</td>\n",
              "      <td>49.41</td>\n",
              "    </tr>\n",
              "  </tbody>\n",
              "</table>\n",
              "</div>"
            ],
            "text/plain": [
              "       timestamp   open    low   high  volume  close\n",
              "0  1612486740000  49.00  49.00  49.48   29415  49.17\n",
              "1  1612486680000  49.02  49.00  49.10   22745  49.01\n",
              "2  1612486620000  49.25  49.01  49.25   21123  49.02\n",
              "3  1612486560000  49.40  49.20  49.40   13707  49.20\n",
              "4  1612486500000  49.41  49.40  49.56   10718  49.41"
            ]
          },
          "metadata": {
            "tags": []
          },
          "execution_count": 34
        }
      ]
    },
    {
      "cell_type": "code",
      "metadata": {
        "id": "XghmIiKyKBan"
      },
      "source": [
        "def get_all_news(ticker, api_key):  # function works on pycharm, however google colab cannot open the csv file\n",
        "    f = open(ticker + '_news.csv', 'w')\n",
        "    f.write('date,title\\n')\n",
        "    with RESTClient(api_key) as client:\n",
        "        for j in range(25):\n",
        "            resp = client.reference_ticker_news(symbol=ticker, perpage=50, page=j)\n",
        "            for i in range(50):\n",
        "                f.write(resp.news[i].timestamp + ',' + resp.news[i].title + '\\n')\n",
        "    f.close()"
      ],
      "execution_count": null,
      "outputs": []
    },
    {
      "cell_type": "code",
      "metadata": {
        "id": "Bkqa_8jKKERM"
      },
      "source": [
        "def get_polarity(headline):\n",
        "    analysis = TextBlob(headline)\n",
        "    return analysis.polarity"
      ],
      "execution_count": null,
      "outputs": []
    },
    {
      "cell_type": "code",
      "metadata": {
        "colab": {
          "base_uri": "https://localhost:8080/"
        },
        "id": "scYq6bV0KGfW",
        "outputId": "90249ce6-16a7-4611-9789-70721de51ead"
      },
      "source": [
        "polarity = get_polarity('GME is a good stock to buy')\n",
        "print('polarity: ' + str(polarity))"
      ],
      "execution_count": null,
      "outputs": [
        {
          "output_type": "stream",
          "text": [
            "polarity: 0.7\n"
          ],
          "name": "stdout"
        }
      ]
    }
  ]
}